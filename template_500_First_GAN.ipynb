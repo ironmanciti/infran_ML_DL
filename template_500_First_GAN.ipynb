{
 "cells": [
  {
   "cell_type": "markdown",
   "metadata": {
    "id": "_gjTm28G2tC6"
   },
   "source": [
    "# First GAN with MNIST - MNIST dataset"
   ]
  },
  {
   "cell_type": "markdown",
   "metadata": {
    "id": "2RmpKRoe3LDw"
   },
   "source": [
    "## Utilities\n",
    "\n",
    "가짜 이미지를 그릴 수있는 도우미 기능. 훈련되는 동안 GAN의 샘플 출력을 시각화하는 데 사용됩니다."
   ]
  },
  {
   "cell_type": "markdown",
   "metadata": {
    "id": "tuQqRvaE3YmK"
   },
   "source": [
    "## Download and Prepare the Dataset\n",
    "\n",
    "- MNIST 데이터세트로드 \n",
    "-  픽셀 값을 정규화하여이를 전처리"
   ]
  },
  {
   "cell_type": "markdown",
   "metadata": {
    "id": "a9fsJW9IBuMG"
   },
   "source": [
    "훈련하는 동안 모델에 공급할 수 있도록 훈련 이미지의 배치를 생성."
   ]
  },
  {
   "cell_type": "markdown",
   "metadata": {
    "id": "aS98MeLs3eu-"
   },
   "source": [
    "## Build the Model\n",
    "\n",
    "이제 GAN의 두 가지 주요 부분을 만듭니다.\n",
    "* 생성기 - 가짜 데이터 생성\n",
    "* 판별 자 - 이미지가 가짜인지 실제인지 결정\n",
    "\n",
    "Sequential API를 사용하여 Dense 레이어를 쌓아 이러한 하위 네트워크를 구축합니다."
   ]
  },
  {
   "cell_type": "markdown",
   "metadata": {
    "id": "l1vx-poh9BZp"
   },
   "source": [
    "### Generator\n",
    "\n",
    "Generator는 임의의 노이즈를 받아 가짜 이미지를 만드는 데 사용합니다. 이를 위해 이 모델은 랜덤 노이즈 형태로 받아서 MNIST 데이터 세트 (예 : 28 x 28)와 동일한 크기의 이미지를 출력합니다.\n",
    "\n",
    "[SELU](https://arxiv.org/abs/1706.02515)는 GAN에 적합한 활성화 함수로 확인되었으며 처음 두 개의 Dense 네트워크에서 이를 사용합니다. 최종 Dense 네트워크는 0과 1 사이의 픽셀 값을 생성하기 원하므로 sigmoid로 활성화됩니다. 그런 다음 MNIST 데이터 세트의 차원에 맞게 reshape 됩니다."
   ]
  },
  {
   "cell_type": "markdown",
   "metadata": {
    "id": "3Xs3vARf08Vx"
   },
   "source": [
    "훈련되지 않은 generator의 샘플 출력을 보겠습니다. 예상대로 이것은 random point가 될 것입니다. 훈련 후에는 MNIST 데이터 세트의 숫자를 닮게 됩니다."
   ]
  },
  {
   "cell_type": "markdown",
   "metadata": {
    "id": "IMxfJA7R_7ls"
   },
   "source": [
    "### Discriminator\n",
    "\n",
    "판별자는 입력(가짜 또는 실제) 이미지를 가져와 가짜인지 아닌지를 결정합니다. 따라서 input shape은 훈련 이미지의 모양이 됩니다. 이것은 flatten 되어 dense network에 공급될 수 있으며 최종 출력은 0 (가짜)과 1 (실제) 사이의 값입니다.\n",
    "\n",
    "generator와 마찬가지로 처음 두 개의 dense network에서 SELU 활성화를 사용하고 sigmoid로 final network를 활성화합니다."
   ]
  },
  {
   "cell_type": "markdown",
   "metadata": {
    "id": "ug1t6bkSAjPe"
   },
   "source": [
    "이 두 모델을 추가하여 GAN을 구축 할 수 있습니다."
   ]
  },
  {
   "cell_type": "markdown",
   "metadata": {
    "id": "hf32S9uO3h6X"
   },
   "source": [
    "## Configure Training Parameters\n",
    "\n",
    "이제 훈련을 위해 모델을 준비합니다. 라벨이 0 (가짜) 또는 1 (실제)이 될 것으로 예상하기 때문에`binary_crossentropy`로 손실을 측정 할 수 있습니다."
   ]
  },
  {
   "cell_type": "markdown",
   "metadata": {
    "id": "uVsJ5-VY3oCg"
   },
   "source": [
    "## Train the Model\n",
    "\n",
    "다음으로 훈련 루프를 정의합니다. 이는 두 단계로 구성됩니다.\n",
    "\n",
    "* 1 단계 - 가짜 데이터와 실제 데이터를 구분하도록 판별자를 훈련시킵니다.\n",
    "* 2 단계 - 판별자를 속이는 이미지를 생성하도록 생성자를 훈련합니다.\n",
    "\n",
    "각 epoch마다 생성자에 의해 생성되는 가짜 이미지를 확인하기 위해 이미지 샘플 갤러리를 표시합니다. 이러한 단계가 수행되는 방법에 대한 자세한 내용은 아래 코드 주석에 나와 있습니다."
   ]
  },
  {
   "cell_type": "markdown",
   "metadata": {
    "id": "ADawDuEK3tfr"
   },
   "source": [
    "출력 셀을 스크롤하여 에포크 당 가짜 이미지가 어떻게 개선되는지 확인할 수 있습니다."
   ]
  },
  {
   "cell_type": "markdown",
   "metadata": {
    "id": "wNaqSXTX5859"
   },
   "source": [
    "학습이 진행됨에 따라 모델이 1, 7, 9와 같은 숫자의 하위 집합에 편향되는 경향이 있음을 알 수 있습니다. 이런 현상을 Mode Collapse라고 합니다."
   ]
  }
 ],
 "metadata": {
  "accelerator": "GPU",
  "colab": {
   "collapsed_sections": [],
   "name": "500_First_GAN.ipynb",
   "provenance": []
  },
  "kernelspec": {
   "display_name": "Python 3 (ipykernel)",
   "language": "python",
   "name": "python3"
  },
  "language_info": {
   "codemirror_mode": {
    "name": "ipython",
    "version": 3
   },
   "file_extension": ".py",
   "mimetype": "text/x-python",
   "name": "python",
   "nbconvert_exporter": "python",
   "pygments_lexer": "ipython3",
   "version": "3.8.13"
  }
 },
 "nbformat": 4,
 "nbformat_minor": 1
}
