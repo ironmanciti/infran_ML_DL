{
 "cells": [
  {
   "cell_type": "markdown",
   "metadata": {},
   "source": [
    "# 085.PCA (Principal Component Analysis)\n",
    "\n",
    "- PCA는 Karl Pearson이 1901 년에 발명한 통계 기법으로 직교 변환을 사용하여 변수 집합을 주성분이라고 하는 선형적으로 상관되지 않은 변수 집합으로 매핑.\n",
    "\n",
    "- PCA는 원래 데이터세트의 공분산 행렬의 SVD(Singular Value Decomposition)를 기반으로 한다. 이러한 분해(decomposition)의 고유 벡터는 회전변환 행렬(rotation matrix)로 사용된다. 고유 벡터는 설명된 분산에 따라 내림차순으로 회전변환 행렬에 배열.\n",
    "\n",
    "- PCA는 단순한 공간 변환, 차원 감소 및 스펙트럼 정보로부터의 혼합물 분리에 이르기까지 다양한 응용 분야에서 강력한 기술로 사용\n",
    "\n",
    "\n",
    "- \"ChurnData.csv\"의 각 행은 고객을 나타내고 각 열은 고객의 속성 표시\n",
    "\n",
    "- 데이터 세트에는 지난달에 탈회한 고객에 대한 정보가 포함 (Churn 1.0 - 탈회, 0.0 - 유지)"
   ]
  },
  {
   "cell_type": "markdown",
   "metadata": {},
   "source": [
    "### PCA 적용 전 Logistic Regression\n",
    "\n",
    "- PCA 적용 후의 결과와 비교 목적"
   ]
  },
  {
   "cell_type": "markdown",
   "metadata": {},
   "source": [
    "### PCA 적용\n",
    "\n",
    "- 27 개의 feature 를 2 개로 차원 축소  \n",
    "\n",
    "\n",
    "- components_\n",
    "    - array, shape (n_components, n_features)\n",
    "    - n_feature dimension 공간에서의 주성분 축  \n",
    "    - data 의 분산을 최대로 보존하는 방향\n",
    "    - explained_variance_ 에 순서대로 정렬되어 있음\n",
    "    \n",
    "- explained_variance_  \n",
    "    - shape (n_components,)  \n",
    "    - 선택한 각 구성 요소에서 설명하는 분산의 양  \n",
    "    \n",
    "- explained_variance_ratio_   \n",
    "    - shape (n_components,)\n",
    "    - 선택한 각 구성 요소가 설명하는 분산의 백분율입니다."
   ]
  },
  {
   "cell_type": "markdown",
   "metadata": {},
   "source": [
    "## 차원 축소된 churn data 시각화\n",
    "- 27 개의 feature 가 2 개의 PCA 로 차원 축소 되었으므로 평면상의 시각화 가능"
   ]
  },
  {
   "cell_type": "markdown",
   "metadata": {},
   "source": [
    "- 차원축소된 X_train_pca 를 X1, X2 축으로 시각화  \n",
    "\n",
    "- y_train = 0, 1 을 color 로 구분"
   ]
  }
 ],
 "metadata": {
  "kernelspec": {
   "display_name": "Python 3 (ipykernel)",
   "language": "python",
   "name": "python3"
  },
  "language_info": {
   "codemirror_mode": {
    "name": "ipython",
    "version": 3
   },
   "file_extension": ".py",
   "mimetype": "text/x-python",
   "name": "python",
   "nbconvert_exporter": "python",
   "pygments_lexer": "ipython3",
   "version": "3.8.13"
  }
 },
 "nbformat": 4,
 "nbformat_minor": 2
}
