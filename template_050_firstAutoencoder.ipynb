{
 "cells": [
  {
   "cell_type": "markdown",
   "id": "systematic-blackjack",
   "metadata": {},
   "source": [
    "# First Autoencoder  "
   ]
  },
  {
   "cell_type": "markdown",
   "id": "interracial-resolution",
   "metadata": {},
   "source": [
    "## Data 생성\n",
    "- 3 차원 data 생성"
   ]
  },
  {
   "cell_type": "markdown",
   "id": "db4f6f1f",
   "metadata": {},
   "source": [
    "- 3차원 data 시각화"
   ]
  },
  {
   "cell_type": "markdown",
   "id": "international-complexity",
   "metadata": {},
   "source": [
    "## Autoencoder model 작성\n",
    "\n",
    "- 3 차원 data 를 2 차원으로 차원 축소"
   ]
  },
  {
   "cell_type": "markdown",
   "id": "interim-detective",
   "metadata": {},
   "source": [
    "## encoder output 시각화"
   ]
  },
  {
   "cell_type": "markdown",
   "id": "8760ac51",
   "metadata": {},
   "source": [
    "- 학습시킨 encoder 를 이용하여 data를 차원 축소"
   ]
  },
  {
   "cell_type": "markdown",
   "id": "e33face8",
   "metadata": {},
   "source": [
    "- encoder output을 시각화 "
   ]
  },
  {
   "cell_type": "markdown",
   "id": "exterior-connectivity",
   "metadata": {},
   "source": [
    "## Decoder 를 이용한 data 복원"
   ]
  },
  {
   "cell_type": "markdown",
   "id": "e7eaefa8",
   "metadata": {},
   "source": [
    "- 학습된 decoder를 이용하여 data 복원"
   ]
  },
  {
   "cell_type": "markdown",
   "id": "7ee03beb",
   "metadata": {},
   "source": [
    "- 복원된 data 시각화"
   ]
  }
 ],
 "metadata": {
  "kernelspec": {
   "display_name": "Python 3 (ipykernel)",
   "language": "python",
   "name": "python3"
  },
  "language_info": {
   "codemirror_mode": {
    "name": "ipython",
    "version": 3
   },
   "file_extension": ".py",
   "mimetype": "text/x-python",
   "name": "python",
   "nbconvert_exporter": "python",
   "pygments_lexer": "ipython3",
   "version": "3.9.7"
  }
 },
 "nbformat": 4,
 "nbformat_minor": 5
}
