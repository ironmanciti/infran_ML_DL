{
 "cells": [
  {
   "cell_type": "markdown",
   "metadata": {},
   "source": [
    "# K-Means Clustering\n",
    "\n",
    "### Random 하게 생성된 toy dataset 으로 K-Means clustering test\n",
    "\n",
    "make_blobs : \n",
    "```\n",
    "    Input :\n",
    "         n_samples :  cluster 에 균등 분할될 total data point 숫자  \n",
    "         centers : generate 할 centroid 숫자  \n",
    "         cluster_std : cluster 의 standard deviation    \n",
    "\n",
    "    Output : \n",
    "        X: 생성된 sample 들  \n",
    "        y: 각 sample 의 label\n",
    "```\n",
    "KMeans :  \n",
    "> init : initialization method -> k-means++ (smart choosing of centroids)  \n",
    "> n_clusters : k 값  \n",
    "> n_init : 반복횟수  \n",
    "\n",
    "DBSCAN :\n",
    "\n",
    ">eps : epsilon (radius)  \n",
    ">min_sample : minimum samples within the radius"
   ]
  },
  {
   "cell_type": "markdown",
   "metadata": {},
   "source": [
    "# DBSCAN"
   ]
  },
  {
   "cell_type": "markdown",
   "metadata": {},
   "source": [
    "- outlier 가 있는 data points를 생성하고 DBSCAN 알고리즘이 outlier를 검출하는지 test"
   ]
  }
 ],
 "metadata": {
  "kernelspec": {
   "display_name": "Python 3 (ipykernel)",
   "language": "python",
   "name": "python3"
  },
  "language_info": {
   "codemirror_mode": {
    "name": "ipython",
    "version": 3
   },
   "file_extension": ".py",
   "mimetype": "text/x-python",
   "name": "python",
   "nbconvert_exporter": "python",
   "pygments_lexer": "ipython3",
   "version": "3.8.13"
  }
 },
 "nbformat": 4,
 "nbformat_minor": 2
}
