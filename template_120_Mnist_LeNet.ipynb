{
 "cells": [
  {
   "cell_type": "markdown",
   "metadata": {
    "colab_type": "text",
    "id": "l5FbT6SKYfZU"
   },
   "source": [
    "# LeNet-5 (1998, Yan LeCunn)"
   ]
  },
  {
   "cell_type": "markdown",
   "metadata": {
    "colab_type": "text",
    "id": "qop11kd_Yv7k"
   },
   "source": [
    "### train, test split"
   ]
  },
  {
   "cell_type": "markdown",
   "metadata": {
    "colab_type": "text",
    "id": "Fe3CcX3wY00Q"
   },
   "source": [
    "### scaling \n",
    "- 0 `~` 1 사이로 pixel 값을 scale"
   ]
  },
  {
   "cell_type": "markdown",
   "metadata": {
    "colab_type": "text",
    "id": "FVOg-qtFZCOB"
   },
   "source": [
    "### Conv2D layer 의  입력 사양에 맞추어 3 dimension 으로 차원 증가"
   ]
  },
  {
   "cell_type": "markdown",
   "metadata": {
    "colab_type": "text",
    "id": "tkiTO0FpZV3u"
   },
   "source": [
    "### label 을 one-hot-encoding"
   ]
  },
  {
   "cell_type": "markdown",
   "metadata": {
    "colab_type": "text",
    "id": "Nea8kCD6YfZi"
   },
   "source": [
    "## tf.data 를 이용한 shuffling and batch 구성"
   ]
  },
  {
   "cell_type": "markdown",
   "metadata": {
    "colab_type": "text",
    "id": "AP1ClTjeYfZl"
   },
   "source": [
    "## LeNet 구성\n",
    "\n",
    "<img src=\"https://d2l.ai/_images/lenet.svg\" width=\"800\" />"
   ]
  },
  {
   "cell_type": "markdown",
   "metadata": {},
   "source": [
    "# 실습 : fashion MNIST 를 이용하여 위와 동일한 작업\n",
    "\n",
    "Label\tClass  \n",
    "0\tT-shirt/top  \n",
    "1\tTrouser  \n",
    "2\tPullover  \n",
    "3\tDress  \n",
    "4\tCoat  \n",
    "5\tSandal  \n",
    "6\tShirt  \n",
    "7\tSneaker  \n",
    "8\tBag  \n",
    "9\tAnkle boot"
   ]
  }
 ],
 "metadata": {
  "accelerator": "GPU",
  "colab": {
   "name": "120.Mnist_LeNet.ipynb",
   "provenance": []
  },
  "kernelspec": {
   "display_name": "Python 3 (ipykernel)",
   "language": "python",
   "name": "python3"
  },
  "language_info": {
   "codemirror_mode": {
    "name": "ipython",
    "version": 3
   },
   "file_extension": ".py",
   "mimetype": "text/x-python",
   "name": "python",
   "nbconvert_exporter": "python",
   "pygments_lexer": "ipython3",
   "version": "3.8.13"
  }
 },
 "nbformat": 4,
 "nbformat_minor": 1
}
