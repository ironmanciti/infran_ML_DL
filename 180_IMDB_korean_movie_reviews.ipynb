{
  "nbformat": 4,
  "nbformat_minor": 0,
  "metadata": {
    "accelerator": "GPU",
    "colab": {
      "name": "180_IMDB_korean_movie_reviews.ipynb",
      "provenance": [],
      "collapsed_sections": []
    },
    "kernelspec": {
      "display_name": "Python 3",
      "language": "python",
      "name": "python3"
    },
    "language_info": {
      "codemirror_mode": {
        "name": "ipython",
        "version": 3
      },
      "file_extension": ".py",
      "mimetype": "text/x-python",
      "name": "python",
      "nbconvert_exporter": "python",
      "pygments_lexer": "ipython3",
      "version": "3.8.5"
    }
  },
  "cells": [
    {
      "cell_type": "markdown",
      "metadata": {
        "id": "76TRr3twsSGR"
      },
      "source": [
        "# 180. 영화평 Text 분류 - Naver 영화평 이용"
      ]
    },
    {
      "cell_type": "code",
      "metadata": {
        "id": "hg6PPQxkqBaF"
      },
      "source": [
        "import tensorflow as tf\n",
        "from tensorflow.keras.layers import Dense, LSTM, Embedding, Bidirectional\n",
        "from tensorflow.keras.models import Sequential\n",
        "from tensorflow.keras.preprocessing.text import Tokenizer\n",
        "from tensorflow.keras.preprocessing.sequence import pad_sequences\n",
        "import tensorflow_datasets as tfds\n",
        "import numpy as np\n",
        "import matplotlib.pyplot as plt\n",
        "import re"
      ],
      "execution_count": 1,
      "outputs": []
    },
    {
      "cell_type": "code",
      "metadata": {
        "id": "0CP10pwVg9Bq"
      },
      "source": [
        "def read_data(filename):    \n",
        "    with open(filename, 'r') as f:\n",
        "        data = [line.split('\\t') for line in f.read().splitlines()]        \n",
        "        data = data[1:]   # header 제외 #    \n",
        "    return data "
      ],
      "execution_count": 2,
      "outputs": []
    },
    {
      "cell_type": "code",
      "metadata": {
        "colab": {
          "base_uri": "https://localhost:8080/"
        },
        "id": "5RSL0c-Og9Br",
        "outputId": "f626462a-7129-4006-b81f-31aab90ef41e"
      },
      "source": [
        "train_data = read_data('ratings_train.txt') \n",
        "test_data = read_data('ratings_test.txt') \n",
        "\n",
        "print(len(train_data))\n",
        "print(len(test_data))"
      ],
      "execution_count": 4,
      "outputs": [
        {
          "output_type": "stream",
          "text": [
            "150000\n",
            "50000\n"
          ],
          "name": "stdout"
        }
      ]
    },
    {
      "cell_type": "code",
      "metadata": {
        "colab": {
          "base_uri": "https://localhost:8080/"
        },
        "id": "fA8iDaQKg9Bt",
        "outputId": "c367ee55-acf7-4896-b1d1-272cee136715"
      },
      "source": [
        "def preprocessing(text):\n",
        "    text = re.sub('\\\\\\\\n', ' ', text)\n",
        "    text = re.sub('[^가-힣ㄱ-ㅎㅏ-ㅣa-zA-Z]', ' ', text)\n",
        "    return text\n",
        "\n",
        "stop_words = ['이', '있', '하', '것', '들', '그', '되', '수', '이', '보', '않', '없', '나',\n",
        "        '사람', '주', '아니', '등', '같', '우리', '때', '년', '가', '한', '지', '대하',\n",
        "       '오', '말', '일', '그렇', '위하', '때문', '그것', '두', '말하', '알', '그러나', '받',\n",
        "       '못하', '일', '그런', '또', '문제', '더', '사회', '많', '그리고', '좋', '크', '따르',\n",
        "       '중', '나오', '가지', '씨', '시키', '만들', '지금', '생각하', '그러', '속', '하나',\n",
        "       '집', '살', '모르', '적', '월', '데', '자신', '안', '어떤', '내', '내', '경우',\n",
        "       '명', '생각', '시간', '그녀', '다시', '이런', '앞', '보이', '번', '나', '다른', '어떻',\n",
        "       '여자', '개', '전', '들', '사실', '이렇', '점', '싶', '말', '정도', '좀', '원',\n",
        "       '잘', '통하', '소리', '놓', '있습니다', '합니다']\n",
        "\n",
        "preprocessed_train_data = []\n",
        "preprocessed_test_data = []\n",
        "\n",
        "for row in train_data:\n",
        "    data = preprocessing(row[1])\n",
        "    preprocessed_train_data.append([data, row[2]])\n",
        "    \n",
        "for row in test_data:\n",
        "    data = preprocessing(row[1])\n",
        "    preprocessed_test_data.append([data, row[2]])\n",
        "    \n",
        "def label_text_split(list_data):\n",
        "\n",
        "    sentences = []\n",
        "    labels = []\n",
        "\n",
        "    for row in list_data:\n",
        "        labels.append(int(row[1]))\n",
        "        sentence = row[0]\n",
        "\n",
        "        for word in stop_words:\n",
        "            token = \" \" + word + \" \"\n",
        "            sentence = sentence.replace(token, \" \")\n",
        "            sentence = sentence.replace(\"  \", \" \")\n",
        "            sentence = sentence.replace(\"  \", \" \")\n",
        "\n",
        "        sentences.append(sentence)\n",
        "    \n",
        "    return sentences, labels\n",
        "\n",
        "X_train, y_train = label_text_split(preprocessed_train_data)\n",
        "X_test, y_test = label_text_split(preprocessed_test_data)\n",
        "\n",
        "print(len(X_train), len(y_train))\n",
        "print(len(X_test), len(y_test))"
      ],
      "execution_count": 5,
      "outputs": [
        {
          "output_type": "stream",
          "text": [
            "150000 150000\n",
            "50000 50000\n"
          ],
          "name": "stdout"
        }
      ]
    },
    {
      "cell_type": "code",
      "metadata": {
        "id": "OTkDDxf2g9Bv"
      },
      "source": [
        "train_data = tf.data.Dataset.from_tensor_slices((X_train, y_train))\n",
        "test_data = tf.data.Dataset.from_tensor_slices((X_test, y_test))"
      ],
      "execution_count": 6,
      "outputs": []
    },
    {
      "cell_type": "code",
      "metadata": {
        "id": "MVM_B4MJg9Bw"
      },
      "source": [
        "vocab_size = 1000\n",
        "oov_tok = \"<OOV>\"\n",
        "\n",
        "tokenizer = Tokenizer(num_words=vocab_size, oov_token=oov_tok)\n",
        "tokenizer.fit_on_texts(X_train)\n",
        "word_index = tokenizer.word_index"
      ],
      "execution_count": 7,
      "outputs": []
    },
    {
      "cell_type": "code",
      "metadata": {
        "colab": {
          "base_uri": "https://localhost:8080/"
        },
        "id": "F74mUFABg9Bx",
        "outputId": "35c9365e-93b6-4436-9498-244c4a2c1700"
      },
      "source": [
        "train_examples_batch, train_labels_batch = next(iter(train_data.batch(1)))\n",
        "train_examples_batch, train_labels_batch"
      ],
      "execution_count": 8,
      "outputs": [
        {
          "output_type": "execute_result",
          "data": {
            "text/plain": [
              "(<tf.Tensor: shape=(1,), dtype=string, numpy=\n",
              " array([b'\\xec\\x95\\x84 \\xeb\\x8d\\x94\\xeb\\xb9\\x99 \\xec\\xa7\\x84\\xec\\xa7\\x9c \\xec\\xa7\\x9c\\xec\\xa6\\x9d\\xeb\\x82\\x98\\xeb\\x84\\xa4\\xec\\x9a\\x94 \\xeb\\xaa\\xa9\\xec\\x86\\x8c\\xeb\\xa6\\xac'],\n",
              "       dtype=object)>,\n",
              " <tf.Tensor: shape=(1,), dtype=int32, numpy=array([0], dtype=int32)>)"
            ]
          },
          "metadata": {
            "tags": []
          },
          "execution_count": 8
        }
      ]
    },
    {
      "cell_type": "markdown",
      "metadata": {
        "id": "BnS9z6Z2qBaa"
      },
      "source": [
        "## keras.preprocessing module 을 이용하여 tokenize 및 padding\n",
        "- keras.preprocessing.text.Tokenizer  \n",
        "\n",
        "- keras.preprocessing.sequence.pad_sequence"
      ]
    },
    {
      "cell_type": "code",
      "metadata": {
        "id": "gzTkP-1RqBab"
      },
      "source": [
        "train_sentences = []\n",
        "train_labels = []\n",
        "\n",
        "test_sentences = []\n",
        "test_labels = []"
      ],
      "execution_count": 9,
      "outputs": []
    },
    {
      "cell_type": "code",
      "metadata": {
        "id": "wplxqJkSqBah"
      },
      "source": [
        "for sent, label in train_data:\n",
        "    train_sentences.append(sent.numpy().decode('utf-8'))\n",
        "    train_labels.append(label.numpy())"
      ],
      "execution_count": 10,
      "outputs": []
    },
    {
      "cell_type": "code",
      "metadata": {
        "colab": {
          "base_uri": "https://localhost:8080/"
        },
        "id": "AwcAy3spqBak",
        "outputId": "70291f57-f853-474a-c20a-5db6677d356d"
      },
      "source": [
        "print(train_labels[-1])\n",
        "print(train_sentences[-1])"
      ],
      "execution_count": 11,
      "outputs": [
        {
          "output_type": "stream",
          "text": [
            "0\n",
            "한국 영화 최초로 수간하는 내용이 담긴 영화\n"
          ],
          "name": "stdout"
        }
      ]
    },
    {
      "cell_type": "code",
      "metadata": {
        "id": "gpNI1hILqBao"
      },
      "source": [
        "for sent, label in test_data:\n",
        "    test_sentences.append(sent.numpy().decode('utf-8'))\n",
        "    test_labels.append(label.numpy())"
      ],
      "execution_count": 12,
      "outputs": []
    },
    {
      "cell_type": "code",
      "metadata": {
        "colab": {
          "base_uri": "https://localhost:8080/"
        },
        "id": "dPxbS4mBqBar",
        "outputId": "c8771725-5ce9-4c33-d096-4585878b23f6"
      },
      "source": [
        "print(test_labels[-1])\n",
        "print(test_sentences[-1])"
      ],
      "execution_count": 13,
      "outputs": [
        {
          "output_type": "stream",
          "text": [
            "0\n",
            "마무리는 왜이래\n"
          ],
          "name": "stdout"
        }
      ]
    },
    {
      "cell_type": "markdown",
      "metadata": {
        "id": "cYU9_iKEqBau"
      },
      "source": [
        "## train_labels, test_labels 를 Python list 에서 numpy array 로 변환"
      ]
    },
    {
      "cell_type": "code",
      "metadata": {
        "colab": {
          "base_uri": "https://localhost:8080/"
        },
        "id": "hh2ONA0GqBau",
        "outputId": "a9df2e38-3c50-4a12-c49b-1ceabc9edf5c"
      },
      "source": [
        "train_labels = np.array(train_labels)\n",
        "test_labels = np.array(test_labels)\n",
        "\n",
        "print(train_labels.shape)\n",
        "print(test_labels.shape)"
      ],
      "execution_count": 14,
      "outputs": [
        {
          "output_type": "stream",
          "text": [
            "(150000,)\n",
            "(50000,)\n"
          ],
          "name": "stdout"
        }
      ]
    },
    {
      "cell_type": "markdown",
      "metadata": {
        "id": "cbidTe45qBax"
      },
      "source": [
        "## train_sentences, test_sentences text 를 sequence 로 변환 "
      ]
    },
    {
      "cell_type": "code",
      "metadata": {
        "id": "NuJGndVkqBay"
      },
      "source": [
        "vocab_size = 10000\n",
        "\n",
        "tokenizer = Tokenizer(num_words = vocab_size, oov_token='<OOV>')\n",
        "tokenizer.fit_on_texts(train_sentences)"
      ],
      "execution_count": 15,
      "outputs": []
    },
    {
      "cell_type": "code",
      "metadata": {
        "id": "_C3n9R4IqBa1"
      },
      "source": [
        "train_sequences = tokenizer.texts_to_sequences(train_sentences)\n",
        "test_sequences = tokenizer.texts_to_sequences(test_sentences)"
      ],
      "execution_count": 16,
      "outputs": []
    },
    {
      "cell_type": "code",
      "metadata": {
        "colab": {
          "base_uri": "https://localhost:8080/"
        },
        "id": "GmOUcdlsBSl3",
        "outputId": "32a60daf-da9c-47eb-9c59-aefb0fcc0c9e"
      },
      "source": [
        "print(train_sequences[0])"
      ],
      "execution_count": 17,
      "outputs": [
        {
          "output_type": "stream",
          "text": [
            "[17, 915, 5, 6695, 1079]\n"
          ],
          "name": "stdout"
        }
      ]
    },
    {
      "cell_type": "code",
      "metadata": {
        "colab": {
          "base_uri": "https://localhost:8080/",
          "height": 301
        },
        "id": "lTeWFNQnqBa3",
        "outputId": "54e8d445-4b2f-41ee-c087-6cc7964c53ba"
      },
      "source": [
        "import matplotlib.pyplot as plt\n",
        "\n",
        "plt.hist([len(s) for s in train_sequences] \n",
        "         + [len(s) for s in test_sequences], bins=50)\n",
        "\n",
        "print('maximun length : {}'.format(max(len(l) for l in train_sequences)))\n",
        "print('average length : {}'.format(sum(map(len, train_sequences))/len(train_sequences)))"
      ],
      "execution_count": 18,
      "outputs": [
        {
          "output_type": "stream",
          "text": [
            "maximun length : 47\n",
            "average length : 7.545466666666667\n"
          ],
          "name": "stdout"
        },
        {
          "output_type": "display_data",
          "data": {
            "image/png": "[encoded data removed]",
            "text/plain": [
              "<Figure size 432x288 with 1 Axes>"
            ]
          },
          "metadata": {
            "tags": [],
            "needs_background": "light"
          }
        }
      ]
    },
    {
      "cell_type": "code",
      "metadata": {
        "colab": {
          "base_uri": "https://localhost:8080/"
        },
        "id": "tH7F6F4z3kcg",
        "outputId": "07d53f08-3ef1-4011-be4b-64c363cf84bd"
      },
      "source": [
        "np.unique(train_labels, return_counts=True)"
      ],
      "execution_count": 19,
      "outputs": [
        {
          "output_type": "execute_result",
          "data": {
            "text/plain": [
              "(array([0, 1], dtype=int32), array([75173, 74827]))"
            ]
          },
          "metadata": {
            "tags": []
          },
          "execution_count": 19
        }
      ]
    },
    {
      "cell_type": "code",
      "metadata": {
        "id": "xDMrGPr1qBa5"
      },
      "source": [
        "max_length = 30\n",
        "\n",
        "train_padded = pad_sequences(train_sequences,\n",
        "                maxlen=max_length, truncating='post', padding='post')\n",
        "\n",
        "\n",
        "test_padded = pad_sequences(test_sequences,\n",
        "                maxlen=max_length, truncating='post', padding='post')"
      ],
      "execution_count": 20,
      "outputs": []
    },
    {
      "cell_type": "code",
      "metadata": {
        "colab": {
          "base_uri": "https://localhost:8080/"
        },
        "id": "B3To4CLbqBa9",
        "outputId": "2039cd67-fe5d-443d-d885-14757d079fe2"
      },
      "source": [
        "print(train_padded.shape)\n",
        "print(test_padded.shape)\n",
        "train_padded[0]"
      ],
      "execution_count": 21,
      "outputs": [
        {
          "output_type": "stream",
          "text": [
            "(150000, 30)\n",
            "(50000, 30)\n"
          ],
          "name": "stdout"
        },
        {
          "output_type": "execute_result",
          "data": {
            "text/plain": [
              "array([  17,  915,    5, 6695, 1079,    0,    0,    0,    0,    0,    0,\n",
              "          0,    0,    0,    0,    0,    0,    0,    0,    0,    0,    0,\n",
              "          0,    0,    0,    0,    0,    0,    0,    0], dtype=int32)"
            ]
          },
          "metadata": {
            "tags": []
          },
          "execution_count": 21
        }
      ]
    },
    {
      "cell_type": "markdown",
      "metadata": {
        "id": "J4j0WVzCqBbA"
      },
      "source": [
        "## sequence data 를 sentence 로 reverse conversion"
      ]
    },
    {
      "cell_type": "code",
      "metadata": {
        "colab": {
          "base_uri": "https://localhost:8080/"
        },
        "id": "LY7UPgb6qBbB",
        "outputId": "df2c071d-6135-4688-8495-0d93f1c34fc9"
      },
      "source": [
        "text = train_padded[0]\n",
        "print(' '.join([tokenizer.index_word.get(i, '<pad>') for i in text]))\n",
        "print()\n",
        "print(train_sentences[0])"
      ],
      "execution_count": 22,
      "outputs": [
        {
          "output_type": "stream",
          "text": [
            "아 더빙 진짜 짜증나네요 목소리 <pad> <pad> <pad> <pad> <pad> <pad> <pad> <pad> <pad> <pad> <pad> <pad> <pad> <pad> <pad> <pad> <pad> <pad> <pad> <pad> <pad> <pad> <pad> <pad> <pad>\n",
            "\n",
            "아 더빙 진짜 짜증나네요 목소리\n"
          ],
          "name": "stdout"
        }
      ]
    },
    {
      "cell_type": "markdown",
      "metadata": {
        "id": "wVXJRTjVqBbD"
      },
      "source": [
        "## model define"
      ]
    },
    {
      "cell_type": "code",
      "metadata": {
        "colab": {
          "base_uri": "https://localhost:8080/"
        },
        "id": "UjOwdAp2qBbE",
        "outputId": "1adc05b2-1a33-4106-e16c-0b12d87f335e"
      },
      "source": [
        "model = Sequential([\n",
        "    Embedding(vocab_size, 100),\n",
        "    Bidirectional(tf.keras.layers.LSTM(64)),\n",
        "    Dense(64, activation='relu'),\n",
        "    Dense(1, activation='sigmoid')\n",
        "])\n",
        "\n",
        "model.compile(loss='binary_crossentropy', optimizer='adam', metrics=['accuracy'])\n",
        "model.summary()"
      ],
      "execution_count": 23,
      "outputs": [
        {
          "output_type": "stream",
          "text": [
            "Model: \"sequential\"\n",
            "_________________________________________________________________\n",
            "Layer (type)                 Output Shape              Param #   \n",
            "=================================================================\n",
            "embedding (Embedding)        (None, None, 100)         1000000   \n",
            "_________________________________________________________________\n",
            "bidirectional (Bidirectional (None, 128)               84480     \n",
            "_________________________________________________________________\n",
            "dense (Dense)                (None, 64)                8256      \n",
            "_________________________________________________________________\n",
            "dense_1 (Dense)              (None, 1)                 65        \n",
            "=================================================================\n",
            "Total params: 1,092,801\n",
            "Trainable params: 1,092,801\n",
            "Non-trainable params: 0\n",
            "_________________________________________________________________\n"
          ],
          "name": "stdout"
        }
      ]
    },
    {
      "cell_type": "code",
      "metadata": {
        "colab": {
          "base_uri": "https://localhost:8080/"
        },
        "id": "aLFmPzmsqBbG",
        "outputId": "81223325-b73c-4b07-e0cf-acb01a104115"
      },
      "source": [
        "model.summary()"
      ],
      "execution_count": 24,
      "outputs": [
        {
          "output_type": "stream",
          "text": [
            "Model: \"sequential\"\n",
            "_________________________________________________________________\n",
            "Layer (type)                 Output Shape              Param #   \n",
            "=================================================================\n",
            "embedding (Embedding)        (None, None, 100)         1000000   \n",
            "_________________________________________________________________\n",
            "bidirectional (Bidirectional (None, 128)               84480     \n",
            "_________________________________________________________________\n",
            "dense (Dense)                (None, 64)                8256      \n",
            "_________________________________________________________________\n",
            "dense_1 (Dense)              (None, 1)                 65        \n",
            "=================================================================\n",
            "Total params: 1,092,801\n",
            "Trainable params: 1,092,801\n",
            "Non-trainable params: 0\n",
            "_________________________________________________________________\n"
          ],
          "name": "stdout"
        }
      ]
    },
    {
      "cell_type": "code",
      "metadata": {
        "id": "7Lk9l0hs4z_8"
      },
      "source": [
        "early_stop = tf.keras.callbacks.EarlyStopping(monitor='val_loss',  patience=5)"
      ],
      "execution_count": 25,
      "outputs": []
    },
    {
      "cell_type": "code",
      "metadata": {
        "colab": {
          "base_uri": "https://localhost:8080/"
        },
        "id": "hP4Mm5hTqBbI",
        "outputId": "5864b4f5-9f96-41ef-d73c-3a5886e763ff"
      },
      "source": [
        "import time\n",
        "s = time.time()\n",
        "\n",
        "num_epochs = 30\n",
        "history = model.fit(train_padded, train_labels, \n",
        "                    epochs=num_epochs, batch_size=128,\n",
        "          validation_data=(test_padded, test_labels), \n",
        "                    verbose=1, callbacks=[early_stop])\n",
        "\n",
        "print(time.time() - s)"
      ],
      "execution_count": 26,
      "outputs": [
        {
          "output_type": "stream",
          "text": [
            "Epoch 1/30\n",
            "1172/1172 [==============================] - 57s 19ms/step - loss: 0.4985 - accuracy: 0.7295 - val_loss: 0.4092 - val_accuracy: 0.7976\n",
            "Epoch 2/30\n",
            "1172/1172 [==============================] - 22s 19ms/step - loss: 0.3685 - accuracy: 0.8159 - val_loss: 0.4076 - val_accuracy: 0.7968\n",
            "Epoch 3/30\n",
            "1172/1172 [==============================] - 22s 19ms/step - loss: 0.3366 - accuracy: 0.8309 - val_loss: 0.4229 - val_accuracy: 0.7921\n",
            "Epoch 4/30\n",
            "1172/1172 [==============================] - 22s 19ms/step - loss: 0.3072 - accuracy: 0.8456 - val_loss: 0.4487 - val_accuracy: 0.7918\n",
            "Epoch 5/30\n",
            "1172/1172 [==============================] - 22s 19ms/step - loss: 0.2829 - accuracy: 0.8558 - val_loss: 0.4657 - val_accuracy: 0.7898\n",
            "Epoch 6/30\n",
            "1172/1172 [==============================] - 22s 19ms/step - loss: 0.2613 - accuracy: 0.8672 - val_loss: 0.5189 - val_accuracy: 0.7847\n",
            "Epoch 7/30\n",
            "1172/1172 [==============================] - 22s 19ms/step - loss: 0.2381 - accuracy: 0.8763 - val_loss: 0.5668 - val_accuracy: 0.7793\n",
            "188.47364830970764\n"
          ],
          "name": "stdout"
        }
      ]
    },
    {
      "cell_type": "code",
      "metadata": {
        "colab": {
          "base_uri": "https://localhost:8080/"
        },
        "id": "Sgu3j1Cbg9CA",
        "outputId": "d27bdc01-4d15-4536-ae1a-2ef8dd7639a3"
      },
      "source": [
        "results = model.evaluate(test_padded, test_labels, verbose=0)\n",
        "\n",
        "for name, value in zip(model.metrics_names, results):\n",
        "  print(\"%s: %.3f\" % (name, value))"
      ],
      "execution_count": 27,
      "outputs": [
        {
          "output_type": "stream",
          "text": [
            "loss: 0.567\n",
            "accuracy: 0.779\n"
          ],
          "name": "stdout"
        }
      ]
    },
    {
      "cell_type": "code",
      "metadata": {
        "colab": {
          "base_uri": "https://localhost:8080/",
          "height": 279
        },
        "id": "ZPOjnfwkqBbK",
        "outputId": "de177abe-8814-42ce-a43e-4f5556f0f4e2"
      },
      "source": [
        "fig, (ax1, ax2) = plt.subplots(1, 2, figsize=(12, 4))\n",
        "\n",
        "ax1.plot(history.history['accuracy'])\n",
        "ax1.plot(history.history['val_accuracy'])\n",
        "ax1.set_xlabel('Epochs')\n",
        "ax1.set_ylabel('accuracy')\n",
        "ax1.legend(['accuarcy', 'val_accuracy'])\n",
        "\n",
        "ax2.plot(history.history['loss'])\n",
        "ax2.plot(history.history['val_loss'])\n",
        "ax2.set_xlabel('Epochs')\n",
        "ax2.set_ylabel('loss')\n",
        "ax2.legend(['loss', 'val_loss'])\n",
        "plt.show()"
      ],
      "execution_count": 28,
      "outputs": [
        {
          "output_type": "display_data",
          "data": {
            "image/png": "[encoded data removed]",
            "text/plain": [
              "<Figure size 864x288 with 2 Axes>"
            ]
          },
          "metadata": {
            "tags": [],
            "needs_background": "light"
          }
        }
      ]
    },
    {
      "cell_type": "code",
      "metadata": {
        "id": "1z-r1z0KqBbM"
      },
      "source": [
        "# sample_text = ['다시는 보고 싶지 않은 짜증나는 영화']\n",
        "sample_text = ['권하고 싶지 않은 지루한 영화']\n",
        "# sample_text = ['정말 훌륭한 영화였다']\n",
        "sample_seq = tokenizer.texts_to_sequences(sample_text)\n",
        "sample_padded = pad_sequences(sample_seq, maxlen=max_length, padding='post', truncating='post')"
      ],
      "execution_count": 29,
      "outputs": []
    },
    {
      "cell_type": "code",
      "metadata": {
        "colab": {
          "base_uri": "https://localhost:8080/"
        },
        "id": "q0ZU4YQ7qBbO",
        "outputId": "74fae46a-77e3-468d-f6ec-9665aa1ca468"
      },
      "source": [
        "['positive' if model.predict([sample_padded]) >= 0.5 else 'negative']"
      ],
      "execution_count": 30,
      "outputs": [
        {
          "output_type": "execute_result",
          "data": {
            "text/plain": [
              "['negative']"
            ]
          },
          "metadata": {
            "tags": []
          },
          "execution_count": 30
        }
      ]
    },
    {
      "cell_type": "code",
      "metadata": {
        "id": "ohq4VNX7tEKJ"
      },
      "source": [
        ""
      ],
      "execution_count": null,
      "outputs": []
    }
  ]
}