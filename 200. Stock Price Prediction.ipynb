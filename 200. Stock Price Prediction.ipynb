{
 "cells": [
  {
   "cell_type": "markdown",
   "id": "whole-religion",
   "metadata": {},
   "source": [
    "# LSTM을 이용한 주가 예측"
   ]
  },
  {
   "cell_type": "code",
   "execution_count": 1,
   "id": "streaming-prefix",
   "metadata": {},
   "outputs": [],
   "source": [
    "import pandas as pd\n",
    "import numpy as np\n",
    "import matplotlib.pyplot as plt\n",
    "\n",
    "import yfinance as yf\n",
    "\n",
    "import tensorflow as tf\n",
    "from tensorflow.keras.models import Sequential\n",
    "from tensorflow.keras.layers import LSTM,Dropout,Dense, Lambda"
   ]
  },
  {
   "cell_type": "markdown",
   "id": "signed-temperature",
   "metadata": {},
   "source": [
    "- Apple 주식 가격 예측"
   ]
  },
  {
   "cell_type": "code",
   "execution_count": 2,
   "id": "alert-brand",
   "metadata": {},
   "outputs": [
    {
     "data": {
      "text/html": [
       "<div>\n",
       "<style scoped>\n",
       "    .dataframe tbody tr th:only-of-type {\n",
       "        vertical-align: middle;\n",
       "    }\n",
       "\n",
       "    .dataframe tbody tr th {\n",
       "        vertical-align: top;\n",
       "    }\n",
       "\n",
       "    .dataframe thead th {\n",
       "        text-align: right;\n",
       "    }\n",
       "</style>\n",
       "<table border=\"1\" class=\"dataframe\">\n",
       "  <thead>\n",
       "    <tr style=\"text-align: right;\">\n",
       "      <th></th>\n",
       "      <th>Open</th>\n",
       "      <th>High</th>\n",
       "      <th>Low</th>\n",
       "      <th>Close</th>\n",
       "      <th>Adj Close</th>\n",
       "      <th>Volume</th>\n",
       "    </tr>\n",
       "    <tr>\n",
       "      <th>Date</th>\n",
       "      <th></th>\n",
       "      <th></th>\n",
       "      <th></th>\n",
       "      <th></th>\n",
       "      <th></th>\n",
       "      <th></th>\n",
       "    </tr>\n",
       "  </thead>\n",
       "  <tbody>\n",
       "    <tr>\n",
       "      <th>2014-12-31</th>\n",
       "      <td>28.205000</td>\n",
       "      <td>28.282499</td>\n",
       "      <td>27.552500</td>\n",
       "      <td>27.594999</td>\n",
       "      <td>24.951864</td>\n",
       "      <td>165613600</td>\n",
       "    </tr>\n",
       "    <tr>\n",
       "      <th>2015-01-02</th>\n",
       "      <td>27.847500</td>\n",
       "      <td>27.860001</td>\n",
       "      <td>26.837500</td>\n",
       "      <td>27.332500</td>\n",
       "      <td>24.714506</td>\n",
       "      <td>212818400</td>\n",
       "    </tr>\n",
       "    <tr>\n",
       "      <th>2015-01-05</th>\n",
       "      <td>27.072500</td>\n",
       "      <td>27.162500</td>\n",
       "      <td>26.352501</td>\n",
       "      <td>26.562500</td>\n",
       "      <td>24.018265</td>\n",
       "      <td>257142000</td>\n",
       "    </tr>\n",
       "    <tr>\n",
       "      <th>2015-01-06</th>\n",
       "      <td>26.635000</td>\n",
       "      <td>26.857500</td>\n",
       "      <td>26.157499</td>\n",
       "      <td>26.565001</td>\n",
       "      <td>24.020521</td>\n",
       "      <td>263188400</td>\n",
       "    </tr>\n",
       "    <tr>\n",
       "      <th>2015-01-07</th>\n",
       "      <td>26.799999</td>\n",
       "      <td>27.049999</td>\n",
       "      <td>26.674999</td>\n",
       "      <td>26.937500</td>\n",
       "      <td>24.357342</td>\n",
       "      <td>160423600</td>\n",
       "    </tr>\n",
       "  </tbody>\n",
       "</table>\n",
       "</div>"
      ],
      "text/plain": [
       "                 Open       High        Low      Close  Adj Close     Volume\n",
       "Date                                                                        \n",
       "2014-12-31  28.205000  28.282499  27.552500  27.594999  24.951864  165613600\n",
       "2015-01-02  27.847500  27.860001  26.837500  27.332500  24.714506  212818400\n",
       "2015-01-05  27.072500  27.162500  26.352501  26.562500  24.018265  257142000\n",
       "2015-01-06  26.635000  26.857500  26.157499  26.565001  24.020521  263188400\n",
       "2015-01-07  26.799999  27.049999  26.674999  26.937500  24.357342  160423600"
      ]
     },
     "execution_count": 2,
     "metadata": {},
     "output_type": "execute_result"
    }
   ],
   "source": [
    "aapl = yf.download('AAPL', start='2015-01-01', end='2019-12-31', progress=False)\n",
    "aapl.head()"
   ]
  },
  {
   "cell_type": "code",
   "execution_count": 3,
   "id": "dcf5e005",
   "metadata": {},
   "outputs": [
    {
     "data": {
      "text/plain": [
       "<AxesSubplot:xlabel='Date'>"
      ]
     },
     "execution_count": 3,
     "metadata": {},
     "output_type": "execute_result"
    },
    {
     "data": {
      "image/png": "[encoded data removed]",
      "text/plain": [
       "<Figure size 432x288 with 1 Axes>"
      ]
     },
     "metadata": {
      "needs_background": "light"
     },
     "output_type": "display_data"
    }
   ],
   "source": [
    "aapl.Close.plot()"
   ]
  },
  {
   "cell_type": "markdown",
   "id": "thorough-collectible",
   "metadata": {},
   "source": [
    "LSTM layer로 하려고 하는 것은 지난 window-size 일(즉, t-window에서 t-1까지)의 역사적 가격을 사용하여 시간 t의 가격을 예측하는 것입니다. 정확한 가격이 아닌 추세를 파악하기 위해 노력할 것임을 명심하십시오."
   ]
  },
  {
   "cell_type": "markdown",
   "id": "european-darkness",
   "metadata": {},
   "source": [
    "- training dataset 생성"
   ]
  },
  {
   "cell_type": "code",
   "execution_count": 4,
   "id": "falling-subcommittee",
   "metadata": {},
   "outputs": [
    {
     "data": {
      "text/plain": [
       "(1258, 6)"
      ]
     },
     "execution_count": 4,
     "metadata": {},
     "output_type": "execute_result"
    }
   ],
   "source": [
    "aapl.shape"
   ]
  },
  {
   "cell_type": "code",
   "execution_count": 5,
   "id": "animated-request",
   "metadata": {},
   "outputs": [],
   "source": [
    "hist = []\n",
    "target = []\n",
    "#window = 60\n",
    "window = 3\n",
    "close = aapl['Close'].values\n",
    "\n",
    "for i in range(len(close) - window):\n",
    "    x = close[i:i+window]\n",
    "    y = close[i+window]\n",
    "    hist.append(x)\n",
    "    target.append(y)"
   ]
  },
  {
   "cell_type": "code",
   "execution_count": 6,
   "id": "99322634",
   "metadata": {},
   "outputs": [
    {
     "data": {
      "text/plain": [
       "array([27.59499931, 27.33250046, 26.5625    , 26.56500053, 26.9375    ,\n",
       "       27.97249985, 28.00250053, 27.3125    , 27.55500031, 27.45000076])"
      ]
     },
     "execution_count": 6,
     "metadata": {},
     "output_type": "execute_result"
    }
   ],
   "source": [
    "close[:10]"
   ]
  },
  {
   "cell_type": "code",
   "execution_count": 7,
   "id": "72e84850",
   "metadata": {},
   "outputs": [
    {
     "data": {
      "text/plain": [
       "[array([27.59499931, 27.33250046, 26.5625    ]),\n",
       " array([27.33250046, 26.5625    , 26.56500053]),\n",
       " array([26.5625    , 26.56500053, 26.9375    ]),\n",
       " array([26.56500053, 26.9375    , 27.97249985]),\n",
       " array([26.9375    , 27.97249985, 28.00250053])]"
      ]
     },
     "execution_count": 7,
     "metadata": {},
     "output_type": "execute_result"
    }
   ],
   "source": [
    "hist[:5]"
   ]
  },
  {
   "cell_type": "code",
   "execution_count": 8,
   "id": "6047fb7a",
   "metadata": {},
   "outputs": [
    {
     "data": {
      "text/plain": [
       "[26.565000534057617, 26.9375, 27.97249984741211, 28.002500534057617, 27.3125]"
      ]
     },
     "execution_count": 8,
     "metadata": {},
     "output_type": "execute_result"
    }
   ],
   "source": [
    "target[:5]"
   ]
  },
  {
   "cell_type": "markdown",
   "id": "accomplished-phenomenon",
   "metadata": {},
   "source": [
    "확인 방법 \n",
    "\n",
    "- \"hist\"의 각 요소는 window개 timestep의 list입니다. 1씩 증가하기 때문에 \"hist\"의 두 번째 요소의 마지막 항목은 \"target\"의 첫 번째 요소와 같아야 합니다. 또한 마지막 숫자가 같아야 합니다.\n",
    "\n",
    "```\n",
    "print(close[-1])\n",
    "print(i+length)\n",
    "print(target[-1])\n",
    "```"
   ]
  },
  {
   "cell_type": "code",
   "execution_count": 9,
   "id": "cognitive-shuttle",
   "metadata": {},
   "outputs": [
    {
     "data": {
      "text/plain": [
       "True"
      ]
     },
     "execution_count": 9,
     "metadata": {},
     "output_type": "execute_result"
    }
   ],
   "source": [
    "hist[1][-1] == target[0]"
   ]
  },
  {
   "cell_type": "code",
   "execution_count": 10,
   "id": "retained-throw",
   "metadata": {},
   "outputs": [
    {
     "name": "stdout",
     "output_type": "stream",
     "text": [
      "(1255, 3)\n",
      "(1255, 1)\n"
     ]
    }
   ],
   "source": [
    "hist = np.array(hist)\n",
    "target = np.array(target)\n",
    "target = target.reshape(-1, 1)\n",
    "print(hist.shape)\n",
    "print(target.shape)"
   ]
  },
  {
   "cell_type": "code",
   "execution_count": 11,
   "id": "hungarian-champagne",
   "metadata": {},
   "outputs": [
    {
     "data": {
      "text/plain": [
       "1155"
      ]
     },
     "execution_count": 11,
     "metadata": {},
     "output_type": "execute_result"
    }
   ],
   "source": [
    "len(hist) - 100"
   ]
  },
  {
   "cell_type": "markdown",
   "id": "continued-alpha",
   "metadata": {},
   "source": [
    "1098일의 데이터로 모델을 학습시키고 다음 100일의 데이터로 테스트하는 방식으로 데이터를 분할합니다."
   ]
  },
  {
   "cell_type": "code",
   "execution_count": 12,
   "id": "tired-easter",
   "metadata": {},
   "outputs": [],
   "source": [
    "#train/test split\n",
    "split = len(hist) - 100\n",
    "X_train = hist[:split]\n",
    "X_test = hist[split:]\n",
    "y_train = target[:split]\n",
    "y_test = target[split:]"
   ]
  },
  {
   "cell_type": "code",
   "execution_count": 13,
   "id": "ba0be369",
   "metadata": {},
   "outputs": [
    {
     "data": {
      "text/plain": [
       "((1155, 3, 1), (100, 3))"
      ]
     },
     "execution_count": 13,
     "metadata": {},
     "output_type": "execute_result"
    }
   ],
   "source": [
    "X_train = X_train.reshape(-1, window, 1)\n",
    "X_tes = X_test.reshape(-1, window, 1)\n",
    "\n",
    "X_train.shape, X_test.shape"
   ]
  },
  {
   "cell_type": "markdown",
   "id": "working-diana",
   "metadata": {},
   "source": [
    "- model 생성 및 fitting"
   ]
  },
  {
   "cell_type": "code",
   "execution_count": 14,
   "id": "continent-consistency",
   "metadata": {},
   "outputs": [
    {
     "name": "stdout",
     "output_type": "stream",
     "text": [
      "Model: \"sequential\"\n",
      "_________________________________________________________________\n",
      " Layer (type)                Output Shape              Param #   \n",
      "=================================================================\n",
      " lstm (LSTM)                 (None, 3, 64)             16896     \n",
      "                                                                 \n",
      " lstm_1 (LSTM)               (None, 3, 32)             12416     \n",
      "                                                                 \n",
      " lstm_2 (LSTM)               (None, 16)                3136      \n",
      "                                                                 \n",
      " dense (Dense)               (None, 1)                 17        \n",
      "                                                                 \n",
      " lambda (Lambda)             (None, 1)                 0         \n",
      "                                                                 \n",
      "=================================================================\n",
      "Total params: 32,465\n",
      "Trainable params: 32,465\n",
      "Non-trainable params: 0\n",
      "_________________________________________________________________\n"
     ]
    }
   ],
   "source": [
    "model = tf.keras.Sequential()\n",
    "model.add(LSTM(units=64, return_sequences=True, input_shape=(window, 1), dropout=0.2))\n",
    "model.add(LSTM(units=32, return_sequences=True, dropout=0.2))\n",
    "model.add(LSTM(units=16, dropout=0.2))\n",
    "model.add(Dense(units=1))\n",
    "model.add(Lambda(lambda x: x * 100))\n",
    "\n",
    "model.summary()"
   ]
  },
  {
   "cell_type": "code",
   "execution_count": 15,
   "id": "generic-stress",
   "metadata": {},
   "outputs": [],
   "source": [
    "model.compile(optimizer='adam', loss='mean_squared_error')"
   ]
  },
  {
   "cell_type": "code",
   "execution_count": 16,
   "id": "taken-grave",
   "metadata": {},
   "outputs": [
    {
     "name": "stdout",
     "output_type": "stream",
     "text": [
      "Epoch 1/100\n",
      "37/37 [==============================] - 3s 3ms/step - loss: 235.9860\n",
      "Epoch 2/100\n",
      "37/37 [==============================] - 0s 3ms/step - loss: 68.7552\n",
      "Epoch 3/100\n",
      "37/37 [==============================] - 0s 4ms/step - loss: 29.7788\n",
      "Epoch 4/100\n",
      "37/37 [==============================] - 0s 4ms/step - loss: 17.5996\n",
      "Epoch 5/100\n",
      "37/37 [==============================] - 0s 4ms/step - loss: 13.6400\n",
      "Epoch 6/100\n",
      "37/37 [==============================] - 0s 3ms/step - loss: 11.8302\n",
      "Epoch 7/100\n",
      "37/37 [==============================] - 0s 3ms/step - loss: 11.0726\n",
      "Epoch 8/100\n",
      "37/37 [==============================] - 0s 3ms/step - loss: 9.1763\n",
      "Epoch 9/100\n",
      "37/37 [==============================] - 0s 3ms/step - loss: 10.4908\n",
      "Epoch 10/100\n",
      "37/37 [==============================] - 0s 3ms/step - loss: 8.5434\n",
      "Epoch 11/100\n",
      "37/37 [==============================] - 0s 3ms/step - loss: 7.2857\n",
      "Epoch 12/100\n",
      "37/37 [==============================] - 0s 3ms/step - loss: 7.4528\n",
      "Epoch 13/100\n",
      "37/37 [==============================] - 0s 3ms/step - loss: 6.6385\n",
      "Epoch 14/100\n",
      "37/37 [==============================] - 0s 3ms/step - loss: 7.2998\n",
      "Epoch 15/100\n",
      "37/37 [==============================] - 0s 3ms/step - loss: 6.2668\n",
      "Epoch 16/100\n",
      "37/37 [==============================] - 0s 3ms/step - loss: 5.4652\n",
      "Epoch 17/100\n",
      "37/37 [==============================] - 0s 3ms/step - loss: 5.5075\n",
      "Epoch 18/100\n",
      "37/37 [==============================] - 0s 3ms/step - loss: 6.2754\n",
      "Epoch 19/100\n",
      "37/37 [==============================] - 0s 3ms/step - loss: 5.7085\n",
      "Epoch 20/100\n",
      "37/37 [==============================] - 0s 3ms/step - loss: 5.4291\n",
      "Epoch 21/100\n",
      "37/37 [==============================] - 0s 3ms/step - loss: 6.0974\n",
      "Epoch 22/100\n",
      "37/37 [==============================] - 0s 3ms/step - loss: 5.2146\n",
      "Epoch 23/100\n",
      "37/37 [==============================] - 0s 3ms/step - loss: 5.3022\n",
      "Epoch 24/100\n",
      "37/37 [==============================] - 0s 3ms/step - loss: 5.9468\n",
      "Epoch 25/100\n",
      "37/37 [==============================] - 0s 3ms/step - loss: 5.2364\n",
      "Epoch 26/100\n",
      "37/37 [==============================] - 0s 3ms/step - loss: 4.7949\n",
      "Epoch 27/100\n",
      "37/37 [==============================] - 0s 3ms/step - loss: 4.0413\n",
      "Epoch 28/100\n",
      "37/37 [==============================] - 0s 3ms/step - loss: 4.5542\n",
      "Epoch 29/100\n",
      "37/37 [==============================] - 0s 3ms/step - loss: 3.8221\n",
      "Epoch 30/100\n",
      "37/37 [==============================] - 0s 3ms/step - loss: 5.0974\n",
      "Epoch 31/100\n",
      "37/37 [==============================] - 0s 3ms/step - loss: 4.5411\n",
      "Epoch 32/100\n",
      "37/37 [==============================] - 0s 3ms/step - loss: 5.1261\n",
      "Epoch 33/100\n",
      "37/37 [==============================] - 0s 3ms/step - loss: 4.2896\n",
      "Epoch 34/100\n",
      "37/37 [==============================] - 0s 3ms/step - loss: 4.1043\n",
      "Epoch 35/100\n",
      "37/37 [==============================] - 0s 3ms/step - loss: 4.6551\n",
      "Epoch 36/100\n",
      "37/37 [==============================] - 0s 3ms/step - loss: 4.0226\n",
      "Epoch 37/100\n",
      "37/37 [==============================] - 0s 3ms/step - loss: 4.3961\n",
      "Epoch 38/100\n",
      "37/37 [==============================] - 0s 3ms/step - loss: 4.8913\n",
      "Epoch 39/100\n",
      "37/37 [==============================] - 0s 3ms/step - loss: 3.7333\n",
      "Epoch 40/100\n",
      "37/37 [==============================] - 0s 3ms/step - loss: 3.9985\n",
      "Epoch 41/100\n",
      "37/37 [==============================] - 0s 3ms/step - loss: 4.1441\n",
      "Epoch 42/100\n",
      "37/37 [==============================] - 0s 3ms/step - loss: 3.2426\n",
      "Epoch 43/100\n",
      "37/37 [==============================] - 0s 3ms/step - loss: 4.8250\n",
      "Epoch 44/100\n",
      "37/37 [==============================] - 0s 3ms/step - loss: 3.9169\n",
      "Epoch 45/100\n",
      "37/37 [==============================] - 0s 3ms/step - loss: 3.1607\n",
      "Epoch 46/100\n",
      "37/37 [==============================] - 0s 3ms/step - loss: 3.6367\n",
      "Epoch 47/100\n",
      "37/37 [==============================] - 0s 3ms/step - loss: 3.7342\n",
      "Epoch 48/100\n",
      "37/37 [==============================] - 0s 3ms/step - loss: 3.5382\n",
      "Epoch 49/100\n",
      "37/37 [==============================] - 0s 3ms/step - loss: 3.1565\n",
      "Epoch 50/100\n",
      "37/37 [==============================] - 0s 3ms/step - loss: 3.2706\n",
      "Epoch 51/100\n",
      "37/37 [==============================] - 0s 3ms/step - loss: 3.9411\n",
      "Epoch 52/100\n",
      "37/37 [==============================] - 0s 3ms/step - loss: 3.5128\n",
      "Epoch 53/100\n",
      "37/37 [==============================] - 0s 3ms/step - loss: 3.8597\n",
      "Epoch 54/100\n",
      "37/37 [==============================] - 0s 3ms/step - loss: 3.2360\n",
      "Epoch 55/100\n",
      "37/37 [==============================] - 0s 3ms/step - loss: 3.4885\n",
      "Epoch 56/100\n",
      "37/37 [==============================] - 0s 3ms/step - loss: 3.2711\n",
      "Epoch 57/100\n",
      "37/37 [==============================] - 0s 3ms/step - loss: 3.6964\n",
      "Epoch 58/100\n",
      "37/37 [==============================] - 0s 3ms/step - loss: 2.6593\n",
      "Epoch 59/100\n",
      "37/37 [==============================] - 0s 3ms/step - loss: 3.8815\n",
      "Epoch 60/100\n",
      "37/37 [==============================] - 0s 4ms/step - loss: 3.5021\n",
      "Epoch 61/100\n",
      "37/37 [==============================] - 0s 4ms/step - loss: 2.6356\n",
      "Epoch 62/100\n",
      "37/37 [==============================] - 0s 4ms/step - loss: 2.6738\n",
      "Epoch 63/100\n",
      "37/37 [==============================] - 0s 4ms/step - loss: 2.5599\n",
      "Epoch 64/100\n",
      "37/37 [==============================] - 0s 4ms/step - loss: 3.6928\n",
      "Epoch 65/100\n",
      "37/37 [==============================] - 0s 4ms/step - loss: 3.4388\n",
      "Epoch 66/100\n",
      "37/37 [==============================] - 0s 4ms/step - loss: 3.1051\n",
      "Epoch 67/100\n",
      "37/37 [==============================] - 0s 4ms/step - loss: 3.5079\n",
      "Epoch 68/100\n",
      "37/37 [==============================] - 0s 4ms/step - loss: 2.4391\n",
      "Epoch 69/100\n",
      "37/37 [==============================] - 0s 4ms/step - loss: 2.5156\n",
      "Epoch 70/100\n",
      "37/37 [==============================] - 0s 4ms/step - loss: 3.7446\n",
      "Epoch 71/100\n",
      "37/37 [==============================] - 0s 4ms/step - loss: 3.7948\n",
      "Epoch 72/100\n",
      "37/37 [==============================] - 0s 4ms/step - loss: 3.1071\n",
      "Epoch 73/100\n",
      "37/37 [==============================] - 0s 4ms/step - loss: 2.5569\n",
      "Epoch 74/100\n",
      "37/37 [==============================] - 0s 4ms/step - loss: 3.2464\n",
      "Epoch 75/100\n",
      "37/37 [==============================] - 0s 4ms/step - loss: 3.2761\n",
      "Epoch 76/100\n",
      "37/37 [==============================] - 0s 4ms/step - loss: 2.6608\n",
      "Epoch 77/100\n",
      "37/37 [==============================] - 0s 4ms/step - loss: 3.1443\n",
      "Epoch 78/100\n",
      "37/37 [==============================] - 0s 4ms/step - loss: 3.2624\n",
      "Epoch 79/100\n",
      "37/37 [==============================] - 0s 3ms/step - loss: 2.4083\n",
      "Epoch 80/100\n",
      "37/37 [==============================] - 0s 4ms/step - loss: 2.9144\n",
      "Epoch 81/100\n",
      "37/37 [==============================] - 0s 4ms/step - loss: 3.4995\n",
      "Epoch 82/100\n",
      "37/37 [==============================] - 0s 4ms/step - loss: 2.5720\n",
      "Epoch 83/100\n",
      "37/37 [==============================] - 0s 4ms/step - loss: 3.2484\n",
      "Epoch 84/100\n",
      "37/37 [==============================] - 0s 4ms/step - loss: 2.3938\n",
      "Epoch 85/100\n",
      "37/37 [==============================] - 0s 4ms/step - loss: 2.2591\n",
      "Epoch 86/100\n",
      "37/37 [==============================] - 0s 4ms/step - loss: 2.3830\n",
      "Epoch 87/100\n",
      "37/37 [==============================] - 0s 4ms/step - loss: 3.0217\n",
      "Epoch 88/100\n",
      "37/37 [==============================] - 0s 4ms/step - loss: 3.2495\n",
      "Epoch 89/100\n",
      "37/37 [==============================] - 0s 4ms/step - loss: 3.4126\n",
      "Epoch 90/100\n",
      "37/37 [==============================] - 0s 4ms/step - loss: 3.4085\n",
      "Epoch 91/100\n",
      "37/37 [==============================] - 0s 4ms/step - loss: 2.2165\n",
      "Epoch 92/100\n",
      "37/37 [==============================] - 0s 4ms/step - loss: 2.1730\n",
      "Epoch 93/100\n",
      "37/37 [==============================] - 0s 4ms/step - loss: 2.3927\n",
      "Epoch 94/100\n",
      "37/37 [==============================] - 0s 4ms/step - loss: 2.2197\n",
      "Epoch 95/100\n",
      "37/37 [==============================] - 0s 4ms/step - loss: 2.9691\n",
      "Epoch 96/100\n",
      "37/37 [==============================] - 0s 4ms/step - loss: 3.1479\n",
      "Epoch 97/100\n",
      "37/37 [==============================] - 0s 4ms/step - loss: 2.7866\n",
      "Epoch 98/100\n",
      "37/37 [==============================] - 0s 4ms/step - loss: 2.4395\n",
      "Epoch 99/100\n",
      "37/37 [==============================] - 0s 4ms/step - loss: 1.8606\n",
      "Epoch 100/100\n",
      "37/37 [==============================] - 0s 3ms/step - loss: 2.1340\n"
     ]
    }
   ],
   "source": [
    "history = model.fit(X_train, y_train, epochs=100, batch_size=32)"
   ]
  },
  {
   "cell_type": "code",
   "execution_count": 17,
   "id": "closing-specification",
   "metadata": {},
   "outputs": [
    {
     "data": {
      "image/png": "[encoded data removed]",
      "text/plain": [
       "<Figure size 432x288 with 1 Axes>"
      ]
     },
     "metadata": {
      "needs_background": "light"
     },
     "output_type": "display_data"
    }
   ],
   "source": [
    "plt.plot(history.history['loss'])\n",
    "plt.legend(['Training Loss'])\n",
    "plt.xlabel('Epoch')\n",
    "plt.ylabel('Loss')\n",
    "plt.show();"
   ]
  },
  {
   "cell_type": "markdown",
   "id": "ranging-incentive",
   "metadata": {},
   "source": [
    "앞으로 100일 동안의 주가 추이를 예측해 보도록 하겠습니다. 우리의 목표는 실제 가격이 아니라 추세를 예측하는 것임을 기억하십시오."
   ]
  },
  {
   "cell_type": "code",
   "execution_count": 22,
   "id": "controlling-desperate",
   "metadata": {},
   "outputs": [
    {
     "data": {
      "image/png": "[encoded data removed]",
      "text/plain": [
       "<Figure size 864x432 with 1 Axes>"
      ]
     },
     "metadata": {
      "needs_background": "light"
     },
     "output_type": "display_data"
    }
   ],
   "source": [
    "pred = model.predict(X_test)\n",
    "\n",
    "plt.figure(figsize=(12,6))\n",
    "plt.plot(np.concatenate((y_train, y_test)), label='True')\n",
    "plt.plot(np.concatenate((y_train, pred)), label='Predicted')\n",
    "plt.title('Apple Stock Price Prediction')\n",
    "plt.legend()\n",
    "plt.show()"
   ]
  },
  {
   "cell_type": "code",
   "execution_count": 23,
   "id": "c5bc75ee",
   "metadata": {},
   "outputs": [
    {
     "data": {
      "image/png": "[encoded data removed]",
      "text/plain": [
       "<Figure size 576x288 with 1 Axes>"
      ]
     },
     "metadata": {
      "needs_background": "light"
     },
     "output_type": "display_data"
    }
   ],
   "source": [
    "plt.figure(figsize=(8,4))\n",
    "plt.plot(y_test, label='True')\n",
    "plt.plot( pred, label='Predicted')\n",
    "plt.title('Apple Stock Price Prediction')\n",
    "plt.legend()\n",
    "plt.show()"
   ]
  },
  {
   "cell_type": "markdown",
   "id": "accompanied-walker",
   "metadata": {},
   "source": [
    "## 다양한 window_size tuning 을 하여 보다 정확한 예측 시도"
   ]
  },
  {
   "cell_type": "code",
   "execution_count": null,
   "id": "knowing-secretary",
   "metadata": {},
   "outputs": [],
   "source": []
  }
 ],
 "metadata": {
  "kernelspec": {
   "display_name": "Python 3 (ipykernel)",
   "language": "python",
   "name": "python3"
  },
  "language_info": {
   "codemirror_mode": {
    "name": "ipython",
    "version": 3
   },
   "file_extension": ".py",
   "mimetype": "text/x-python",
   "name": "python",
   "nbconvert_exporter": "python",
   "pygments_lexer": "ipython3",
   "version": "3.8.12"
  }
 },
 "nbformat": 4,
 "nbformat_minor": 5
}
