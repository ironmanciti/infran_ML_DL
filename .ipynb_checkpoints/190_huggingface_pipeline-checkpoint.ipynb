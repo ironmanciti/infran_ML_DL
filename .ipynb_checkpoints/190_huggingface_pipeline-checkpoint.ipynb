{
 "cells": [
  {
   "cell_type": "markdown",
   "metadata": {},
   "source": [
    "# 190. HuggingFace Pipeline"
   ]
  },
  {
   "cell_type": "code",
   "execution_count": 1,
   "metadata": {},
   "outputs": [],
   "source": [
    "from transformers import pipeline\n",
    "\n",
    "model_name = \"nlptown/bert-base-multilingual-uncased-sentiment\""
   ]
  },
  {
   "cell_type": "code",
   "execution_count": 3,
   "metadata": {},
   "outputs": [],
   "source": [
    "classifier = pipeline('sentiment-analysis', model=\"nlptown/bert-base-multilingual-uncased-sentiment\")"
   ]
  },
  {
   "cell_type": "code",
   "execution_count": 4,
   "metadata": {},
   "outputs": [
    {
     "name": "stdout",
     "output_type": "stream",
     "text": [
      "label: 1 star, with score: 0.297\n",
      "label: 4 stars, with score: 0.3977\n",
      "label: 2 stars, with score: 0.3608\n",
      "label: 1 star, with score: 0.2782\n",
      "label: 5 stars, with score: 0.8198\n",
      "label: 3 stars, with score: 0.4462\n"
     ]
    }
   ],
   "source": [
    "results = classifier([\"다시는 보고 싶지 않은 짜증나는 영화\", \n",
    "                              \"아주 재미있는 영화\",\n",
    "                              \"정말 재미없는 영화였다\", \n",
    "                              \"이 영화 망할거야\",\n",
    "                              \"이 영화 최고\",\n",
    "                              \"보통 영화\"])\n",
    "\n",
    "for result in results:\n",
    "    print(f\"label: {result['label']}, with score: {round(result['score'], 4)}\")"
   ]
  },
  {
   "cell_type": "code",
   "execution_count": 5,
   "metadata": {},
   "outputs": [
    {
     "name": "stdout",
     "output_type": "stream",
     "text": [
      "label: 1 star, with score: 0.4365\n",
      "label: 4 stars, with score: 0.4865\n",
      "label: 1 star, with score: 0.5213\n",
      "label: 1 star, with score: 0.6342\n",
      "label: 5 stars, with score: 0.8345\n",
      "label: 3 stars, with score: 0.2674\n"
     ]
    }
   ],
   "source": [
    "results = classifier([\"An annoying movie you never want to see again\", \n",
    "                              \"Very interesting movie\",\n",
    "                              \"It was a really boring movie\", \n",
    "                              \"This movie is going to be fucking\",\n",
    "                              \"The best of this movie\",\n",
    "                              \"Ordinary movie\"])\n",
    "\n",
    "for result in results:\n",
    "    print(f\"label: {result['label']}, with score: {round(result['score'], 4)}\")"
   ]
  },
  {
   "cell_type": "code",
   "execution_count": 5,
   "metadata": {},
   "outputs": [
    {
     "name": "stdout",
     "output_type": "stream",
     "text": [
      "label: 1 star, with score: 0.3269\n",
      "label: 3 stars, with score: 0.3109\n",
      "label: 3 stars, with score: 0.2585\n",
      "label: 5 stars, with score: 0.598\n",
      "label: 5 stars, with score: 0.5578\n",
      "label: 3 stars, with score: 0.3256\n"
     ]
    }
   ],
   "source": [
    "results = classifier([\"再び見たくない迷惑映画\", \n",
    "                              \"とても面白い映画\",\n",
    "                              \"本当につまらない映画でした\",\n",
    "                              \"この映画気よ\",\n",
    "                               \"この映画最高\",\n",
    "                              \"通常, 映画\"])\n",
    "\n",
    "for result in results:\n",
    "    print(f\"label: {result['label']}, with score: {round(result['score'], 4)}\")"
   ]
  }
 ],
 "metadata": {
  "kernelspec": {
   "display_name": "Python 3",
   "language": "python",
   "name": "python3"
  },
  "language_info": {
   "codemirror_mode": {
    "name": "ipython",
    "version": 3
   },
   "file_extension": ".py",
   "mimetype": "text/x-python",
   "name": "python",
   "nbconvert_exporter": "python",
   "pygments_lexer": "ipython3",
   "version": "3.7.10"
  }
 },
 "nbformat": 4,
 "nbformat_minor": 4
}
