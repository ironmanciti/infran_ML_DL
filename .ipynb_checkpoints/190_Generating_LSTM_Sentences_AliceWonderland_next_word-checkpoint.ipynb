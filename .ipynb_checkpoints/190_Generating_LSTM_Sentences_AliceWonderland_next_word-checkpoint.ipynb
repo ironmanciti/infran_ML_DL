{
 "cells": [
  {
   "cell_type": "markdown",
   "metadata": {
    "colab_type": "text",
    "id": "i3SMFJYftfEs"
   },
   "source": [
    "# 190. Keras API 와 LSTM 을 이용한 이상한 나라의 Alice 문장 생성기\n",
    "\n",
    "- next word 예측"
   ]
  },
  {
   "cell_type": "code",
   "execution_count": 0,
   "metadata": {
    "colab": {},
    "colab_type": "code",
    "id": "asn1fHFytfEu"
   },
   "outputs": [],
   "source": [
    "import tensorflow as tf\n",
    "import numpy as np\n",
    "from tensorflow.keras.preprocessing.sequence import pad_sequences\n",
    "from tensorflow.keras.layers import Embedding, LSTM, Dense, Dropout, Bidirectional\n",
    "from tensorflow.keras.preprocessing.text import Tokenizer\n",
    "from tensorflow.keras.models import Sequential\n",
    "import tensorflow.keras.regularizers as regularizers"
   ]
  },
  {
   "cell_type": "code",
   "execution_count": 3,
   "metadata": {
    "colab": {
     "base_uri": "https://localhost:8080/",
     "height": 53
    },
    "colab_type": "code",
    "id": "uP-mC7LTtfEx",
    "outputId": "764d0d6a-aff3-48ac-f14a-a60f1588f238"
   },
   "outputs": [
    {
     "name": "stdout",
     "output_type": "stream",
     "text": [
      "Downloading data from http://www.gutenberg.org/files/11/11.txt\n",
      "172032/167546 [==============================] - 0s 1us/step\n"
     ]
    }
   ],
   "source": [
    "path_to_file = tf.keras.utils.get_file('alice.txt', \"http://www.gutenberg.org/files/11/11.txt\")"
   ]
  },
  {
   "cell_type": "code",
   "execution_count": 4,
   "metadata": {
    "colab": {
     "base_uri": "https://localhost:8080/",
     "height": 55
    },
    "colab_type": "code",
    "id": "SvrmXp25tfEz",
    "outputId": "84b4a642-2238-4a46-bd73-22be8abfc5b9"
   },
   "outputs": [
    {
     "data": {
      "text/plain": [
       "\"project gutenberg's alice's adventures in wonderland, by lewis carroll this ebook is for the use of anyone anywhere at no cost and with almost no restrictions whatsoever.  you may copy it, give it away or re-use it under the terms of the project gutenberg license included with this ebook or online at www.gutenberg.org title: alice's adventures in wonderland author: lewis carroll posting date: june 25, 2008 [ebook #11] release date: march, 1994 [last updated: december 20, 2011] language: english character set encoding: ascii *** start of this project gutenberg ebook alice's adventures in wonderland *** alice's adventures in wonderland lewis carroll the millennium fulcrum edition 3.0 chapter i. down the rabbit-hole alice was beginning to get very tired of sitting by her sister on the bank, and of having nothing to do: once or twice she had peeped into the book her sister was reading, but it had no pictures or conversations in it, 'and what is the use of a book,' thought alice 'without pi\""
      ]
     },
     "execution_count": 4,
     "metadata": {
      "tags": []
     },
     "output_type": "execute_result"
    }
   ],
   "source": [
    "r = open(path_to_file)\n",
    "texts = r.readlines()\n",
    "lines = []\n",
    "\n",
    "for line in texts:\n",
    "    line = line.strip().lower()\n",
    "    if len(line) == 0:\n",
    "        continue\n",
    "    lines.append(line)\n",
    "\n",
    "text = \" \".join(lines)\n",
    "text[:1000]"
   ]
  },
  {
   "cell_type": "code",
   "execution_count": 0,
   "metadata": {
    "colab": {},
    "colab_type": "code",
    "id": "1RuGgWAmtfE2"
   },
   "outputs": [],
   "source": [
    "import re\n",
    "\n",
    "corpus = re.split('[,.]', text)"
   ]
  },
  {
   "cell_type": "code",
   "execution_count": 6,
   "metadata": {
    "colab": {
     "base_uri": "https://localhost:8080/",
     "height": 216
    },
    "colab_type": "code",
    "id": "RyUJ7MxNtfE4",
    "outputId": "b0f264ae-dc89-4af0-e4c7-060f8b391b43"
   },
   "outputs": [
    {
     "data": {
      "text/plain": [
       "[\"project gutenberg's alice's adventures in wonderland\",\n",
       " ' by lewis carroll this ebook is for the use of anyone anywhere at no cost and with almost no restrictions whatsoever',\n",
       " '  you may copy it',\n",
       " ' give it away or re-use it under the terms of the project gutenberg license included with this ebook or online at www',\n",
       " 'gutenberg',\n",
       " \"org title: alice's adventures in wonderland author: lewis carroll posting date: june 25\",\n",
       " ' 2008 [ebook #11] release date: march',\n",
       " ' 1994 [last updated: december 20',\n",
       " \" 2011] language: english character set encoding: ascii *** start of this project gutenberg ebook alice's adventures in wonderland *** alice's adventures in wonderland lewis carroll the millennium fulcrum edition 3\",\n",
       " '0 chapter i']"
      ]
     },
     "execution_count": 6,
     "metadata": {
      "tags": []
     },
     "output_type": "execute_result"
    }
   ],
   "source": [
    "corpus[:10]"
   ]
  },
  {
   "cell_type": "code",
   "execution_count": 7,
   "metadata": {
    "colab": {
     "base_uri": "https://localhost:8080/",
     "height": 35
    },
    "colab_type": "code",
    "id": "mRzxcEeatfE6",
    "outputId": "bb0e9624-6d92-44e9-bf53-457a17320754"
   },
   "outputs": [
    {
     "name": "stdout",
     "output_type": "stream",
     "text": [
      "3338\n"
     ]
    }
   ],
   "source": [
    "tokenizer = Tokenizer()\n",
    "\n",
    "tokenizer.fit_on_texts(corpus)\n",
    "total_words = len(tokenizer.word_index) + 1\n",
    "print(total_words)"
   ]
  },
  {
   "cell_type": "code",
   "execution_count": 8,
   "metadata": {
    "colab": {
     "base_uri": "https://localhost:8080/",
     "height": 35
    },
    "colab_type": "code",
    "id": "rD29b-YrM8hJ",
    "outputId": "9629ed93-c696-464c-85fb-6c6fb7e5d7e0"
   },
   "outputs": [
    {
     "data": {
      "text/plain": [
       "[(11, 'you'), (12, 'alice'), (13, 'was'), (14, 'i'), (15, 'that')]"
      ]
     },
     "execution_count": 8,
     "metadata": {
      "tags": []
     },
     "output_type": "execute_result"
    }
   ],
   "source": [
    "list(tokenizer.index_word.items())[10:15]"
   ]
  },
  {
   "cell_type": "code",
   "execution_count": 9,
   "metadata": {
    "colab": {
     "base_uri": "https://localhost:8080/",
     "height": 35
    },
    "colab_type": "code",
    "id": "t4UF7YzUM8hO",
    "outputId": "082a6ca4-8cb2-412f-843f-7bbdd215ebdf"
   },
   "outputs": [
    {
     "data": {
      "text/plain": [
       "[('you', 11), ('alice', 12), ('was', 13), ('i', 14), ('that', 15)]"
      ]
     },
     "execution_count": 9,
     "metadata": {
      "tags": []
     },
     "output_type": "execute_result"
    }
   ],
   "source": [
    "list(tokenizer.word_index.items())[10:15]"
   ]
  },
  {
   "cell_type": "code",
   "execution_count": 0,
   "metadata": {
    "colab": {},
    "colab_type": "code",
    "id": "AQlBVvwitfE8"
   },
   "outputs": [],
   "source": [
    "# token list 를 이용한 input sequence 생성\n",
    "input_sequences = []\n",
    "\n",
    "for line in corpus:\n",
    "    token_list = tokenizer.texts_to_sequences([line])[0]\n",
    "    for i in range(1, len(token_list)):\n",
    "        n_gram_sequence = token_list[:i+1]\n",
    "        input_sequences.append(n_gram_sequence)"
   ]
  },
  {
   "cell_type": "code",
   "execution_count": 11,
   "metadata": {
    "colab": {
     "base_uri": "https://localhost:8080/",
     "height": 214
    },
    "colab_type": "code",
    "id": "nI97Ln4atfE_",
    "outputId": "d7db6847-ff22-42d2-db62-2534f20e61f3"
   },
   "outputs": [
    {
     "name": "stdout",
     "output_type": "stream",
     "text": [
      "27218\n"
     ]
    },
    {
     "data": {
      "text/plain": [
       "[[48, 1303],\n",
       " [48, 1303, 248],\n",
       " [48, 1303, 248, 342],\n",
       " [48, 1303, 248, 342, 10],\n",
       " [48, 1303, 248, 342, 10, 481],\n",
       " [59, 815],\n",
       " [59, 815, 816],\n",
       " [59, 815, 816, 22],\n",
       " [59, 815, 816, 22, 443],\n",
       " [59, 815, 816, 22, 443, 31]]"
      ]
     },
     "execution_count": 11,
     "metadata": {
      "tags": []
     },
     "output_type": "execute_result"
    }
   ],
   "source": [
    "print(len(input_sequences))\n",
    "input_sequences[:10]"
   ]
  },
  {
   "cell_type": "code",
   "execution_count": 13,
   "metadata": {
    "colab": {
     "base_uri": "https://localhost:8080/",
     "height": 143
    },
    "colab_type": "code",
    "id": "neKxP5KXtfFB",
    "outputId": "de76e840-2970-4898-c11a-153b074abe12"
   },
   "outputs": [
    {
     "data": {
      "text/plain": [
       "array([[   0,    0,    0, ...,    0,   48, 1303],\n",
       "       [   0,    0,    0, ...,   48, 1303,  248],\n",
       "       [   0,    0,    0, ..., 1303,  248,  342],\n",
       "       ...,\n",
       "       [   0,    0,    0, ...,    4,  275,   40],\n",
       "       [   0,    0,    0, ...,  275,   40,  494],\n",
       "       [   0,    0,    0, ...,   40,  494,  621]], dtype=int32)"
      ]
     },
     "execution_count": 13,
     "metadata": {
      "tags": []
     },
     "output_type": "execute_result"
    }
   ],
   "source": [
    "# pad sequences \n",
    "max_sequence_len = max([len(x) for x in input_sequences])\n",
    "\n",
    "input_sequences = np.array(pad_sequences(input_sequences, maxlen=max_sequence_len, padding='pre'))\n",
    "input_sequences"
   ]
  },
  {
   "cell_type": "code",
   "execution_count": 0,
   "metadata": {
    "colab": {},
    "colab_type": "code",
    "id": "ejnqC8LZtfFE"
   },
   "outputs": [],
   "source": [
    "text_dataset = tf.data.Dataset.from_tensor_slices(input_sequences)"
   ]
  },
  {
   "cell_type": "code",
   "execution_count": 0,
   "metadata": {
    "colab": {},
    "colab_type": "code",
    "id": "02XRjp6htfFH"
   },
   "outputs": [],
   "source": [
    "def split_input_target(chunk):\n",
    "    input_text = chunk[:-1]\n",
    "    target_text = chunk[-1]\n",
    "    return input_text, target_text"
   ]
  },
  {
   "cell_type": "code",
   "execution_count": 18,
   "metadata": {
    "colab": {
     "base_uri": "https://localhost:8080/",
     "height": 537
    },
    "colab_type": "code",
    "id": "CqJpy2c-tfFJ",
    "outputId": "444447ba-02c9-424b-bccd-12bd6bc4678a"
   },
   "outputs": [
    {
     "name": "stdout",
     "output_type": "stream",
     "text": [
      "tf.Tensor(\n",
      "[[   0    0    0 ...    0    0   48]\n",
      " [   0    0    0 ...    0   48 1303]\n",
      " [   0    0    0 ...   48 1303  248]\n",
      " ...\n",
      " [   0    0    0 ...    8 1317    4]\n",
      " [   0    0    0 ... 1317    4   17]\n",
      " [   0    0    0 ...    4   17   15]], shape=(256, 62), dtype=int32)\n",
      "\n",
      "tf.Tensor(\n",
      "[1303  248  342   10  481  815  816   22  443   31   24    1  151    6\n",
      "  704 1006   19   49  817    3   18  482   49 1304 1305  175  343    8\n",
      "    8  169   27 1306  151    8  203    1  204    6    1   48   44  258\n",
      " 1007   18   22  443   27  818   19  625 1826  248  342   10  481 1827\n",
      "  815  816 1828  819 1829 1830  443  820 1832  819  136  140 1307 1834\n",
      " 1308 1836  550 1309  196 1837 1008 1009    6   22   48   44  443  248\n",
      "  342   10  481  248  342   10  481  815  816    1 1838 1839 1310  373\n",
      "  344   14    1  110  705   12   13  274    4  115   29  551    6  405\n",
      "   59   17  483   20    1 1010    6  406  154    4   45  148   27  706\n",
      "    7   23 1011   68    1  374   17  483   13  821    8   23   49  822\n",
      "   27 1311   10    8   38   31    1  151    6    5  374   62   12 1841\n",
      "  822   27 1311    2   28    7   13 1012   10   17  407  375   16  121\n",
      "   16    7   57    1  552  162  155   17  484   29  707    3 1013    1\n",
      " 1312    6  485    5 1842 1843   58   25  823    1  626    6  205   39\n",
      "    3 1313    1 1844  315    5  156  110   18 1845  163  259  316   59\n",
      "   17   13  154   28   29 1314   10   15 1315   74   12   91    8   28\n",
      "   29   93   35    6    1   76    4  275    1  110   95    4  295  170\n",
      "  206  170   14  188   25  627    2   60    7   62    8  122 1316 1317\n",
      "    4   17   15    7], shape=(256,), dtype=int32)\n"
     ]
    }
   ],
   "source": [
    "dataset = text_dataset.map(split_input_target).batch(256, drop_remainder=True)\n",
    "\n",
    "for input, target in dataset.take(1):\n",
    "    print(input)\n",
    "    print()\n",
    "    print(target)"
   ]
  },
  {
   "cell_type": "code",
   "execution_count": 19,
   "metadata": {
    "colab": {
     "base_uri": "https://localhost:8080/",
     "height": 393
    },
    "colab_type": "code",
    "id": "w9vH8Y59ajYL",
    "outputId": "c92ebbfc-e6a6-4abf-af67-803d28b18b92"
   },
   "outputs": [
    {
     "name": "stdout",
     "output_type": "stream",
     "text": [
      "Model: \"sequential_1\"\n",
      "_________________________________________________________________\n",
      "Layer (type)                 Output Shape              Param #   \n",
      "=================================================================\n",
      "embedding_1 (Embedding)      (None, None, 100)         333800    \n",
      "_________________________________________________________________\n",
      "bidirectional_1 (Bidirection (None, None, 64)          34048     \n",
      "_________________________________________________________________\n",
      "dropout_1 (Dropout)          (None, None, 64)          0         \n",
      "_________________________________________________________________\n",
      "lstm_3 (LSTM)                (None, 16)                5184      \n",
      "_________________________________________________________________\n",
      "dense_2 (Dense)              (None, 1669)              28373     \n",
      "_________________________________________________________________\n",
      "dense_3 (Dense)              (None, 3338)              5574460   \n",
      "=================================================================\n",
      "Total params: 5,975,865\n",
      "Trainable params: 5,975,865\n",
      "Non-trainable params: 0\n",
      "_________________________________________________________________\n",
      "None\n"
     ]
    }
   ],
   "source": [
    "model = Sequential()\n",
    "model.add(Embedding(total_words, 100))\n",
    "model.add(Bidirectional(LSTM(32, return_sequences = True)))\n",
    "model.add(Dropout(0.2))\n",
    "model.add(LSTM(16))\n",
    "model.add(Dense(total_words/2, activation='relu', kernel_regularizer=regularizers.l2(0.01)))\n",
    "model.add(Dense(total_words, activation='softmax'))\n",
    "\n",
    "model.compile(loss='sparse_categorical_crossentropy', optimizer='adam', metrics=['accuracy'])\n",
    "print(model.summary())"
   ]
  },
  {
   "cell_type": "code",
   "execution_count": 20,
   "metadata": {
    "colab": {
     "base_uri": "https://localhost:8080/",
     "height": 1000
    },
    "colab_type": "code",
    "id": "AIg2f1HBxqof",
    "outputId": "040e3a96-7cbc-4a05-b690-3118e652a5e7",
    "scrolled": true
   },
   "outputs": [
    {
     "name": "stdout",
     "output_type": "stream",
     "text": [
      "Epoch 1/150\n",
      "106/106 [==============================] - 2s 23ms/step - loss: 6.8967 - accuracy: 0.0617\n",
      "Epoch 2/150\n",
      "106/106 [==============================] - 2s 22ms/step - loss: 6.3009 - accuracy: 0.0622\n",
      "Epoch 3/150\n",
      "106/106 [==============================] - 2s 23ms/step - loss: 6.1763 - accuracy: 0.0622\n",
      "Epoch 4/150\n",
      "106/106 [==============================] - 2s 23ms/step - loss: 6.1326 - accuracy: 0.0624\n",
      "Epoch 5/150\n",
      "106/106 [==============================] - 2s 23ms/step - loss: 6.0668 - accuracy: 0.0654\n",
      "Epoch 6/150\n",
      "106/106 [==============================] - 2s 23ms/step - loss: 5.9735 - accuracy: 0.0682\n",
      "Epoch 7/150\n",
      "106/106 [==============================] - 2s 23ms/step - loss: 5.9037 - accuracy: 0.0723\n",
      "Epoch 8/150\n",
      "106/106 [==============================] - 2s 23ms/step - loss: 5.8529 - accuracy: 0.0754\n",
      "Epoch 9/150\n",
      "106/106 [==============================] - 2s 23ms/step - loss: 5.8032 - accuracy: 0.0763\n",
      "Epoch 10/150\n",
      "106/106 [==============================] - 2s 23ms/step - loss: 5.7410 - accuracy: 0.0808\n",
      "Epoch 11/150\n",
      "106/106 [==============================] - 2s 23ms/step - loss: 5.6718 - accuracy: 0.0848\n",
      "Epoch 12/150\n",
      "106/106 [==============================] - 3s 24ms/step - loss: 5.5934 - accuracy: 0.0923\n",
      "Epoch 13/150\n",
      "106/106 [==============================] - 2s 23ms/step - loss: 5.5196 - accuracy: 0.0974\n",
      "Epoch 14/150\n",
      "106/106 [==============================] - 2s 23ms/step - loss: 5.4544 - accuracy: 0.1045\n",
      "Epoch 15/150\n",
      "106/106 [==============================] - 3s 24ms/step - loss: 5.3965 - accuracy: 0.1112\n",
      "Epoch 16/150\n",
      "106/106 [==============================] - 3s 25ms/step - loss: 5.3410 - accuracy: 0.1172\n",
      "Epoch 17/150\n",
      "106/106 [==============================] - 3s 24ms/step - loss: 5.2936 - accuracy: 0.1218\n",
      "Epoch 18/150\n",
      "106/106 [==============================] - 3s 25ms/step - loss: 5.2467 - accuracy: 0.1240\n",
      "Epoch 19/150\n",
      "106/106 [==============================] - 2s 23ms/step - loss: 5.2031 - accuracy: 0.1274\n",
      "Epoch 20/150\n",
      "106/106 [==============================] - 2s 23ms/step - loss: 5.1611 - accuracy: 0.1292\n",
      "Epoch 21/150\n",
      "106/106 [==============================] - 2s 23ms/step - loss: 5.1186 - accuracy: 0.1320\n",
      "Epoch 22/150\n",
      "106/106 [==============================] - 2s 23ms/step - loss: 5.0865 - accuracy: 0.1329\n",
      "Epoch 23/150\n",
      "106/106 [==============================] - 2s 23ms/step - loss: 5.0426 - accuracy: 0.1354\n",
      "Epoch 24/150\n",
      "106/106 [==============================] - 2s 23ms/step - loss: 5.0070 - accuracy: 0.1380\n",
      "Epoch 25/150\n",
      "106/106 [==============================] - 2s 22ms/step - loss: 4.9703 - accuracy: 0.1410\n",
      "Epoch 26/150\n",
      "106/106 [==============================] - 2s 22ms/step - loss: 4.9400 - accuracy: 0.1436\n",
      "Epoch 27/150\n",
      "106/106 [==============================] - 2s 22ms/step - loss: 4.9059 - accuracy: 0.1465\n",
      "Epoch 28/150\n",
      "106/106 [==============================] - 2s 23ms/step - loss: 4.8725 - accuracy: 0.1507\n",
      "Epoch 29/150\n",
      "106/106 [==============================] - 2s 22ms/step - loss: 4.8415 - accuracy: 0.1512\n",
      "Epoch 30/150\n",
      "106/106 [==============================] - 2s 23ms/step - loss: 4.8118 - accuracy: 0.1531\n",
      "Epoch 31/150\n",
      "106/106 [==============================] - 2s 23ms/step - loss: 4.7866 - accuracy: 0.1558\n",
      "Epoch 32/150\n",
      "106/106 [==============================] - 2s 23ms/step - loss: 4.7606 - accuracy: 0.1592\n",
      "Epoch 33/150\n",
      "106/106 [==============================] - 2s 23ms/step - loss: 4.7411 - accuracy: 0.1595\n",
      "Epoch 34/150\n",
      "106/106 [==============================] - 2s 23ms/step - loss: 4.7096 - accuracy: 0.1611\n",
      "Epoch 35/150\n",
      "106/106 [==============================] - 2s 23ms/step - loss: 4.6897 - accuracy: 0.1626\n",
      "Epoch 36/150\n",
      "106/106 [==============================] - 2s 23ms/step - loss: 4.6669 - accuracy: 0.1631\n",
      "Epoch 37/150\n",
      "106/106 [==============================] - 2s 23ms/step - loss: 4.6398 - accuracy: 0.1659\n",
      "Epoch 38/150\n",
      "106/106 [==============================] - 2s 23ms/step - loss: 4.6168 - accuracy: 0.1694\n",
      "Epoch 39/150\n",
      "106/106 [==============================] - 2s 23ms/step - loss: 4.5959 - accuracy: 0.1714\n",
      "Epoch 40/150\n",
      "106/106 [==============================] - 2s 22ms/step - loss: 4.5651 - accuracy: 0.1749\n",
      "Epoch 41/150\n",
      "106/106 [==============================] - 2s 23ms/step - loss: 4.5373 - accuracy: 0.1776\n",
      "Epoch 42/150\n",
      "106/106 [==============================] - 2s 23ms/step - loss: 4.5152 - accuracy: 0.1801\n",
      "Epoch 43/150\n",
      "106/106 [==============================] - 2s 22ms/step - loss: 4.4853 - accuracy: 0.1837\n",
      "Epoch 44/150\n",
      "106/106 [==============================] - 2s 23ms/step - loss: 4.4659 - accuracy: 0.1848\n",
      "Epoch 45/150\n",
      "106/106 [==============================] - 2s 23ms/step - loss: 4.4446 - accuracy: 0.1879\n",
      "Epoch 46/150\n",
      "106/106 [==============================] - 2s 23ms/step - loss: 4.4203 - accuracy: 0.1903\n",
      "Epoch 47/150\n",
      "106/106 [==============================] - 2s 23ms/step - loss: 4.4101 - accuracy: 0.1890\n",
      "Epoch 48/150\n",
      "106/106 [==============================] - 2s 23ms/step - loss: 4.3849 - accuracy: 0.1942\n",
      "Epoch 49/150\n",
      "106/106 [==============================] - 2s 23ms/step - loss: 4.3563 - accuracy: 0.1977\n",
      "Epoch 50/150\n",
      "106/106 [==============================] - 2s 23ms/step - loss: 4.3355 - accuracy: 0.1984\n",
      "Epoch 51/150\n",
      "106/106 [==============================] - 3s 24ms/step - loss: 4.3229 - accuracy: 0.1976\n",
      "Epoch 52/150\n",
      "106/106 [==============================] - 3s 24ms/step - loss: 4.3010 - accuracy: 0.2008\n",
      "Epoch 53/150\n",
      "106/106 [==============================] - 3s 25ms/step - loss: 4.2811 - accuracy: 0.2061\n",
      "Epoch 54/150\n",
      "106/106 [==============================] - 3s 25ms/step - loss: 4.2626 - accuracy: 0.2049\n",
      "Epoch 55/150\n",
      "106/106 [==============================] - 3s 24ms/step - loss: 4.2615 - accuracy: 0.2045\n",
      "Epoch 56/150\n",
      "106/106 [==============================] - 3s 25ms/step - loss: 4.2342 - accuracy: 0.2083\n",
      "Epoch 57/150\n",
      "106/106 [==============================] - 3s 24ms/step - loss: 4.2143 - accuracy: 0.2077\n",
      "Epoch 58/150\n",
      "106/106 [==============================] - 2s 23ms/step - loss: 4.1902 - accuracy: 0.2127\n",
      "Epoch 59/150\n",
      "106/106 [==============================] - 3s 24ms/step - loss: 4.1730 - accuracy: 0.2138\n",
      "Epoch 60/150\n",
      "106/106 [==============================] - 2s 23ms/step - loss: 4.1561 - accuracy: 0.2172\n",
      "Epoch 61/150\n",
      "106/106 [==============================] - 2s 23ms/step - loss: 4.1435 - accuracy: 0.2171\n",
      "Epoch 62/150\n",
      "106/106 [==============================] - 2s 23ms/step - loss: 4.1238 - accuracy: 0.2201\n",
      "Epoch 63/150\n",
      "106/106 [==============================] - 2s 23ms/step - loss: 4.1035 - accuracy: 0.2209\n",
      "Epoch 64/150\n",
      "106/106 [==============================] - 2s 23ms/step - loss: 4.0956 - accuracy: 0.2241\n",
      "Epoch 65/150\n",
      "106/106 [==============================] - 2s 23ms/step - loss: 4.0770 - accuracy: 0.2239\n",
      "Epoch 66/150\n",
      "106/106 [==============================] - 2s 23ms/step - loss: 4.0543 - accuracy: 0.2282\n",
      "Epoch 67/150\n",
      "106/106 [==============================] - 2s 23ms/step - loss: 4.0400 - accuracy: 0.2294\n",
      "Epoch 68/150\n",
      "106/106 [==============================] - 2s 22ms/step - loss: 4.0299 - accuracy: 0.2314\n",
      "Epoch 69/150\n",
      "106/106 [==============================] - 2s 23ms/step - loss: 4.0149 - accuracy: 0.2328\n",
      "Epoch 70/150\n",
      "106/106 [==============================] - 2s 23ms/step - loss: 4.0110 - accuracy: 0.2325\n",
      "Epoch 71/150\n",
      "106/106 [==============================] - 2s 23ms/step - loss: 3.9932 - accuracy: 0.2355\n",
      "Epoch 72/150\n",
      "106/106 [==============================] - 2s 22ms/step - loss: 3.9767 - accuracy: 0.2356\n",
      "Epoch 73/150\n",
      "106/106 [==============================] - 2s 23ms/step - loss: 3.9938 - accuracy: 0.2344\n",
      "Epoch 74/150\n",
      "106/106 [==============================] - 2s 23ms/step - loss: 3.9858 - accuracy: 0.2360\n",
      "Epoch 75/150\n",
      "106/106 [==============================] - 2s 23ms/step - loss: 3.9366 - accuracy: 0.2391\n",
      "Epoch 76/150\n",
      "106/106 [==============================] - 2s 23ms/step - loss: 3.9096 - accuracy: 0.2434\n",
      "Epoch 77/150\n",
      "106/106 [==============================] - 2s 23ms/step - loss: 3.8855 - accuracy: 0.2456\n",
      "Epoch 78/150\n",
      "106/106 [==============================] - 3s 24ms/step - loss: 3.8757 - accuracy: 0.2469\n",
      "Epoch 79/150\n",
      "106/106 [==============================] - 2s 23ms/step - loss: 3.8630 - accuracy: 0.2485\n",
      "Epoch 80/150\n",
      "106/106 [==============================] - 2s 23ms/step - loss: 3.8444 - accuracy: 0.2496\n",
      "Epoch 81/150\n",
      "106/106 [==============================] - 2s 22ms/step - loss: 3.8311 - accuracy: 0.2504\n",
      "Epoch 82/150\n",
      "106/106 [==============================] - 3s 24ms/step - loss: 3.8132 - accuracy: 0.2539\n",
      "Epoch 83/150\n",
      "106/106 [==============================] - 3s 24ms/step - loss: 3.8018 - accuracy: 0.2558\n",
      "Epoch 84/150\n",
      "106/106 [==============================] - 3s 24ms/step - loss: 3.7928 - accuracy: 0.2562\n",
      "Epoch 85/150\n",
      "106/106 [==============================] - 2s 23ms/step - loss: 3.7802 - accuracy: 0.2568\n",
      "Epoch 86/150\n",
      "106/106 [==============================] - 2s 23ms/step - loss: 3.7705 - accuracy: 0.2584\n",
      "Epoch 87/150\n",
      "106/106 [==============================] - 2s 23ms/step - loss: 3.7484 - accuracy: 0.2625\n",
      "Epoch 88/150\n",
      "106/106 [==============================] - 2s 23ms/step - loss: 3.7360 - accuracy: 0.2623\n",
      "Epoch 89/150\n",
      "106/106 [==============================] - 2s 23ms/step - loss: 3.7283 - accuracy: 0.2653\n",
      "Epoch 90/150\n",
      "106/106 [==============================] - 2s 23ms/step - loss: 3.7133 - accuracy: 0.2642\n",
      "Epoch 91/150\n",
      "106/106 [==============================] - 2s 23ms/step - loss: 3.7021 - accuracy: 0.2660\n",
      "Epoch 92/150\n",
      "106/106 [==============================] - 3s 24ms/step - loss: 3.6963 - accuracy: 0.2687\n",
      "Epoch 93/150\n",
      "106/106 [==============================] - 2s 23ms/step - loss: 3.6772 - accuracy: 0.2708\n",
      "Epoch 94/150\n",
      "106/106 [==============================] - 2s 23ms/step - loss: 3.6599 - accuracy: 0.2730\n",
      "Epoch 95/150\n",
      "106/106 [==============================] - 2s 23ms/step - loss: 3.6508 - accuracy: 0.2738\n",
      "Epoch 96/150\n",
      "106/106 [==============================] - 2s 23ms/step - loss: 3.6302 - accuracy: 0.2754\n",
      "Epoch 97/150\n",
      "106/106 [==============================] - 2s 23ms/step - loss: 3.6202 - accuracy: 0.2773\n",
      "Epoch 98/150\n",
      "106/106 [==============================] - 2s 23ms/step - loss: 3.6071 - accuracy: 0.2783\n",
      "Epoch 99/150\n",
      "106/106 [==============================] - 2s 23ms/step - loss: 3.6024 - accuracy: 0.2797\n",
      "Epoch 100/150\n",
      "106/106 [==============================] - 2s 23ms/step - loss: 3.5820 - accuracy: 0.2822\n",
      "Epoch 101/150\n",
      "106/106 [==============================] - 2s 23ms/step - loss: 3.5694 - accuracy: 0.2850\n",
      "Epoch 102/150\n",
      "106/106 [==============================] - 2s 22ms/step - loss: 3.5628 - accuracy: 0.2840\n",
      "Epoch 103/150\n",
      "106/106 [==============================] - 2s 23ms/step - loss: 3.5604 - accuracy: 0.2863\n",
      "Epoch 104/150\n",
      "106/106 [==============================] - 2s 23ms/step - loss: 3.5493 - accuracy: 0.2859\n",
      "Epoch 105/150\n",
      "106/106 [==============================] - 2s 23ms/step - loss: 3.5340 - accuracy: 0.2904\n",
      "Epoch 106/150\n",
      "106/106 [==============================] - 2s 23ms/step - loss: 3.5114 - accuracy: 0.2912\n",
      "Epoch 107/150\n",
      "106/106 [==============================] - 2s 23ms/step - loss: 3.5087 - accuracy: 0.2924\n",
      "Epoch 108/150\n",
      "106/106 [==============================] - 2s 23ms/step - loss: 3.4956 - accuracy: 0.2941\n",
      "Epoch 109/150\n",
      "106/106 [==============================] - 2s 23ms/step - loss: 3.5419 - accuracy: 0.2884\n",
      "Epoch 110/150\n",
      "106/106 [==============================] - 2s 23ms/step - loss: 3.4966 - accuracy: 0.2943\n",
      "Epoch 111/150\n",
      "106/106 [==============================] - 2s 23ms/step - loss: 3.4703 - accuracy: 0.2990\n",
      "Epoch 112/150\n",
      "106/106 [==============================] - 3s 24ms/step - loss: 3.4556 - accuracy: 0.3002\n",
      "Epoch 113/150\n",
      "106/106 [==============================] - 3s 24ms/step - loss: 3.4492 - accuracy: 0.3002\n",
      "Epoch 114/150\n",
      "106/106 [==============================] - 3s 24ms/step - loss: 3.4451 - accuracy: 0.3031\n",
      "Epoch 115/150\n",
      "106/106 [==============================] - 3s 24ms/step - loss: 3.4175 - accuracy: 0.3081\n",
      "Epoch 116/150\n",
      "106/106 [==============================] - 2s 23ms/step - loss: 3.4073 - accuracy: 0.3079\n",
      "Epoch 117/150\n",
      "106/106 [==============================] - 2s 23ms/step - loss: 3.3958 - accuracy: 0.3103\n",
      "Epoch 118/150\n",
      "106/106 [==============================] - 2s 23ms/step - loss: 3.3805 - accuracy: 0.3128\n",
      "Epoch 119/150\n",
      "106/106 [==============================] - 2s 23ms/step - loss: 3.3748 - accuracy: 0.3143\n",
      "Epoch 120/150\n",
      "106/106 [==============================] - 2s 23ms/step - loss: 3.3595 - accuracy: 0.3151\n",
      "Epoch 121/150\n",
      "106/106 [==============================] - 2s 23ms/step - loss: 3.3509 - accuracy: 0.3166\n",
      "Epoch 122/150\n",
      "106/106 [==============================] - 2s 23ms/step - loss: 3.3465 - accuracy: 0.3183\n",
      "Epoch 123/150\n",
      "106/106 [==============================] - 2s 23ms/step - loss: 3.3321 - accuracy: 0.3229\n",
      "Epoch 124/150\n",
      "106/106 [==============================] - 2s 23ms/step - loss: 3.3240 - accuracy: 0.3224\n",
      "Epoch 125/150\n",
      "106/106 [==============================] - 2s 23ms/step - loss: 3.3327 - accuracy: 0.3201\n",
      "Epoch 126/150\n",
      "106/106 [==============================] - 2s 23ms/step - loss: 3.3118 - accuracy: 0.3219\n",
      "Epoch 127/150\n",
      "106/106 [==============================] - 2s 23ms/step - loss: 3.2950 - accuracy: 0.3242\n",
      "Epoch 128/150\n",
      "106/106 [==============================] - 2s 24ms/step - loss: 3.2919 - accuracy: 0.3241\n",
      "Epoch 129/150\n",
      "106/106 [==============================] - 3s 24ms/step - loss: 3.2919 - accuracy: 0.3247\n",
      "Epoch 130/150\n",
      "106/106 [==============================] - 3s 24ms/step - loss: 3.2749 - accuracy: 0.3268\n",
      "Epoch 131/150\n",
      "106/106 [==============================] - 3s 24ms/step - loss: 3.2656 - accuracy: 0.3297\n",
      "Epoch 132/150\n",
      "106/106 [==============================] - 3s 24ms/step - loss: 3.2507 - accuracy: 0.3315\n",
      "Epoch 133/150\n",
      "106/106 [==============================] - 2s 23ms/step - loss: 3.2405 - accuracy: 0.3323\n",
      "Epoch 134/150\n",
      "106/106 [==============================] - 2s 23ms/step - loss: 3.2235 - accuracy: 0.3367\n",
      "Epoch 135/150\n",
      "106/106 [==============================] - 2s 23ms/step - loss: 3.2177 - accuracy: 0.3387\n",
      "Epoch 136/150\n",
      "106/106 [==============================] - 2s 23ms/step - loss: 3.2540 - accuracy: 0.3334\n",
      "Epoch 137/150\n",
      "106/106 [==============================] - 2s 22ms/step - loss: 3.2352 - accuracy: 0.3360\n",
      "Epoch 138/150\n",
      "106/106 [==============================] - 2s 23ms/step - loss: 3.1949 - accuracy: 0.3436\n",
      "Epoch 139/150\n",
      "106/106 [==============================] - 2s 23ms/step - loss: 3.1742 - accuracy: 0.3447\n",
      "Epoch 140/150\n",
      "106/106 [==============================] - 2s 23ms/step - loss: 3.1643 - accuracy: 0.3504\n",
      "Epoch 141/150\n",
      "106/106 [==============================] - 2s 23ms/step - loss: 3.1618 - accuracy: 0.3476\n",
      "Epoch 142/150\n",
      "106/106 [==============================] - 3s 24ms/step - loss: 3.1536 - accuracy: 0.3488\n",
      "Epoch 143/150\n",
      "106/106 [==============================] - 2s 23ms/step - loss: 3.1447 - accuracy: 0.3494\n",
      "Epoch 144/150\n",
      "106/106 [==============================] - 2s 23ms/step - loss: 3.1345 - accuracy: 0.3513\n",
      "Epoch 145/150\n",
      "106/106 [==============================] - 2s 23ms/step - loss: 3.1176 - accuracy: 0.3569\n",
      "Epoch 146/150\n",
      "106/106 [==============================] - 3s 25ms/step - loss: 3.1157 - accuracy: 0.3528\n",
      "Epoch 147/150\n",
      "106/106 [==============================] - 3s 25ms/step - loss: 3.1022 - accuracy: 0.3586\n",
      "Epoch 148/150\n",
      "106/106 [==============================] - 3s 25ms/step - loss: 3.0959 - accuracy: 0.3597\n",
      "Epoch 149/150\n",
      "106/106 [==============================] - 3s 24ms/step - loss: 3.0941 - accuracy: 0.3589\n",
      "Epoch 150/150\n",
      "106/106 [==============================] - 2s 23ms/step - loss: 3.0966 - accuracy: 0.3602\n",
      "CPU times: user 6min 51s, sys: 48.3 s, total: 7min 39s\n",
      "Wall time: 6min 23s\n"
     ]
    }
   ],
   "source": [
    "history = model.fit(dataset, epochs=150, verbose=1)"
   ]
  },
  {
   "cell_type": "code",
   "execution_count": 21,
   "metadata": {
    "colab": {
     "base_uri": "https://localhost:8080/",
     "height": 281
    },
    "colab_type": "code",
    "id": "1fXTEO3GJ282",
    "outputId": "fd6ea4c8-960f-40a2-f19e-c5d1027793b5"
   },
   "outputs": [
    {
     "data": {
      "image/png": "[encoded data removed]",
      "text/plain": [
       "<Figure size 864x288 with 2 Axes>"
      ]
     },
     "metadata": {
      "needs_background": "light",
      "tags": []
     },
     "output_type": "display_data"
    }
   ],
   "source": [
    "import matplotlib.pyplot as plt\n",
    "%matplotlib inline\n",
    "\n",
    "acc = history.history['accuracy']\n",
    "loss = history.history['loss']\n",
    "\n",
    "epochs = range(len(acc))\n",
    "\n",
    "plt.figure(figsize=(12,4))\n",
    "\n",
    "plt.subplot(1, 2, 1)\n",
    "plt.plot(epochs, acc, 'b', label='Training accuracy')\n",
    "plt.title('Training accuracy')\n",
    "\n",
    "plt.subplot(1, 2, 2)\n",
    "plt.plot(epochs, loss, 'b', label='Training Loss')\n",
    "plt.title('Training loss')\n",
    "plt.legend()\n",
    "\n",
    "plt.show()"
   ]
  },
  {
   "cell_type": "code",
   "execution_count": 22,
   "metadata": {
    "colab": {
     "base_uri": "https://localhost:8080/",
     "height": 109
    },
    "colab_type": "code",
    "id": "MPTokoLYxCvI",
    "outputId": "7630ba70-a924-4409-975e-41d4af6b2280"
   },
   "outputs": [
    {
     "name": "stdout",
     "output_type": "stream",
     "text": [
      "WARNING:tensorflow:From <ipython-input-22-40c65ba3a64f>:7: Sequential.predict_classes (from tensorflow.python.keras.engine.sequential) is deprecated and will be removed after 2021-01-01.\n",
      "Instructions for updating:\n",
      "Please use instead:* `np.argmax(model.predict(x), axis=-1)`,   if your model does multi-class classification   (e.g. if it uses a `softmax` last-layer activation).* `(model.predict(x) > 0.5).astype(\"int32\")`,   if your model does binary classification   (e.g. if it uses a `sigmoid` last-layer activation).\n",
      "Help me Obi Wan Kenobi, you're my only hope in the capital of rock the other passage was at the other state side of all a little sister's dream or angry 11 faces mournfully providing in a low voice state of receipt about a little thing would be beheaded or soup when the e evening grass fell at a little girl or 60 days of receipt as your history of the united states or hippopotamus on their slates and date gardeners instantly the white rabbit derive and or re others so that is to you ' said the king and and the jury were playing that look in a\n"
     ]
    }
   ],
   "source": [
    "seed_text = \"Help me Obi Wan Kenobi, you're my only hope\"\n",
    "next_words = 100\n",
    "\n",
    "for _ in range(next_words):\n",
    "    token_list = tokenizer.texts_to_sequences([seed_text])[0]\n",
    "    token_list = pad_sequences([token_list], maxlen=max_sequence_len-1, padding='pre')\n",
    "    predicted = model.predict_classes(token_list, verbose=0)\n",
    "    output_word = tokenizer.index_word[predicted[0]]\n",
    "    seed_text += \" \" + output_word\n",
    "print(seed_text)"
   ]
  },
  {
   "cell_type": "code",
   "execution_count": 0,
   "metadata": {
    "colab": {},
    "colab_type": "code",
    "id": "AJzIYX4Fw574"
   },
   "outputs": [],
   "source": []
  }
 ],
 "metadata": {
  "accelerator": "GPU",
  "colab": {
   "collapsed_sections": [],
   "name": "190_Generating_LSTM_Sentences_AliceWonderland_next_word.ipynb",
   "provenance": []
  },
  "kernelspec": {
   "display_name": "Python 3",
   "language": "python",
   "name": "python3"
  },
  "language_info": {
   "codemirror_mode": {
    "name": "ipython",
    "version": 3
   },
   "file_extension": ".py",
   "mimetype": "text/x-python",
   "name": "python",
   "nbconvert_exporter": "python",
   "pygments_lexer": "ipython3",
   "version": "3.7.5"
  }
 },
 "nbformat": 4,
 "nbformat_minor": 1
}
