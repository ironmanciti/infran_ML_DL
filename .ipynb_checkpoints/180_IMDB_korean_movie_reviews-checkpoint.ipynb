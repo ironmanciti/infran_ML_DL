{
 "cells": [
  {
   "cell_type": "markdown",
   "metadata": {},
   "source": [
    "# 180. 영화평 Text 분류 - Naver 영화평 이용"
   ]
  },
  {
   "cell_type": "code",
   "execution_count": 1,
   "metadata": {
    "id": "hg6PPQxkqBaF"
   },
   "outputs": [],
   "source": [
    "import tensorflow as tf\n",
    "from tensorflow.keras.layers import Dense, LSTM, Embedding, Bidirectional\n",
    "from tensorflow.keras.models import Sequential\n",
    "from tensorflow.keras.preprocessing.text import Tokenizer\n",
    "from tensorflow.keras.preprocessing.sequence import pad_sequences\n",
    "import tensorflow_datasets as tfds\n",
    "import numpy as np\n",
    "import matplotlib.pyplot as plt\n",
    "import re"
   ]
  },
  {
   "cell_type": "code",
   "execution_count": 61,
   "metadata": {
    "id": "0CP10pwVg9Bq"
   },
   "outputs": [],
   "source": [
    "def read_data(filename):    \n",
    "    with open(filename, 'r') as f:\n",
    "        data = [line.split('\\t') for line in f.read().splitlines()]        \n",
    "        data = data[1:]   # header 제외 #    \n",
    "    return data "
   ]
  },
  {
   "cell_type": "code",
   "execution_count": 84,
   "metadata": {
    "colab": {
     "base_uri": "https://localhost:8080/"
    },
    "id": "5RSL0c-Og9Br",
    "outputId": "72056ef8-440e-4602-e5d0-059ba5dc36b3"
   },
   "outputs": [
    {
     "name": "stdout",
     "output_type": "stream",
     "text": [
      "150000\n",
      "50000\n"
     ]
    }
   ],
   "source": [
    "train_data = read_data('ratings_train.txt') \n",
    "test_data = read_data('ratings_test.txt') \n",
    "\n",
    "print(len(train_data))\n",
    "print(len(test_data))"
   ]
  },
  {
   "cell_type": "code",
   "execution_count": 85,
   "metadata": {
    "colab": {
     "base_uri": "https://localhost:8080/"
    },
    "id": "fA8iDaQKg9Bt",
    "outputId": "b375b97a-05d5-4ca2-eb88-edaa6f881559"
   },
   "outputs": [
    {
     "name": "stdout",
     "output_type": "stream",
     "text": [
      "150000 150000\n",
      "50000 50000\n"
     ]
    }
   ],
   "source": [
    "def preprocessing(text):\n",
    "    text = re.sub('\\\\\\\\n', ' ', text)\n",
    "    text = re.sub('[^가-힣ㄱ-ㅎㅏ-ㅣa-zA-Z]', ' ', text)\n",
    "    return text\n",
    "\n",
    "stop_words = ['이', '있', '하', '것', '들', '그', '되', '수', '이', '보', '않', '없', '나',\n",
    "        '사람', '주', '아니', '등', '같', '우리', '때', '년', '가', '한', '지', '대하',\n",
    "       '오', '말', '일', '그렇', '위하', '때문', '그것', '두', '말하', '알', '그러나', '받',\n",
    "       '못하', '일', '그런', '또', '문제', '더', '사회', '많', '그리고', '좋', '크', '따르',\n",
    "       '중', '나오', '가지', '씨', '시키', '만들', '지금', '생각하', '그러', '속', '하나',\n",
    "       '집', '살', '모르', '적', '월', '데', '자신', '안', '어떤', '내', '내', '경우',\n",
    "       '명', '생각', '시간', '그녀', '다시', '이런', '앞', '보이', '번', '나', '다른', '어떻',\n",
    "       '여자', '개', '전', '들', '사실', '이렇', '점', '싶', '말', '정도', '좀', '원',\n",
    "       '잘', '통하', '소리', '놓', '있습니다', '합니다']\n",
    "\n",
    "preprocessed_train_data = []\n",
    "preprocessed_test_data = []\n",
    "\n",
    "for row in train_data:\n",
    "    data = preprocessing(row[1])\n",
    "    preprocessed_train_data.append([data, row[2]])\n",
    "    \n",
    "for row in test_data:\n",
    "    data = preprocessing(row[1])\n",
    "    preprocessed_test_data.append([data, row[2]])\n",
    "    \n",
    "def label_text_split(list_data):\n",
    "\n",
    "    sentences = []\n",
    "    labels = []\n",
    "\n",
    "    for row in list_data:\n",
    "        labels.append(int(row[1]))\n",
    "        sentence = row[0]\n",
    "\n",
    "        for word in stop_words:\n",
    "            token = \" \" + word + \" \"\n",
    "            sentence = sentence.replace(token, \" \")\n",
    "            sentence = sentence.replace(\"  \", \" \")\n",
    "            sentence = sentence.replace(\"  \", \" \")\n",
    "\n",
    "        sentences.append(sentence)\n",
    "    \n",
    "    return sentences, labels\n",
    "\n",
    "X_train, y_train = label_text_split(preprocessed_train_data)\n",
    "X_test, y_test = label_text_split(preprocessed_test_data)\n",
    "\n",
    "print(len(X_train), len(y_train))\n",
    "print(len(X_test), len(y_test))"
   ]
  },
  {
   "cell_type": "code",
   "execution_count": 86,
   "metadata": {
    "id": "OTkDDxf2g9Bv"
   },
   "outputs": [],
   "source": [
    "train_data = tf.data.Dataset.from_tensor_slices((X_train, y_train))\n",
    "test_data = tf.data.Dataset.from_tensor_slices((X_test, y_test))"
   ]
  },
  {
   "cell_type": "code",
   "execution_count": 87,
   "metadata": {
    "id": "MVM_B4MJg9Bw"
   },
   "outputs": [],
   "source": [
    "vocab_size = 1000\n",
    "oov_tok = \"<OOV>\"\n",
    "\n",
    "tokenizer = Tokenizer(num_words=vocab_size, oov_token=oov_tok)\n",
    "tokenizer.fit_on_texts(X_train)\n",
    "word_index = tokenizer.word_index"
   ]
  },
  {
   "cell_type": "code",
   "execution_count": 88,
   "metadata": {
    "colab": {
     "base_uri": "https://localhost:8080/"
    },
    "id": "F74mUFABg9Bx",
    "outputId": "e01a279a-a40d-4804-a83d-00b1902b2d09"
   },
   "outputs": [
    {
     "data": {
      "text/plain": [
       "(<tf.Tensor: shape=(1,), dtype=string, numpy=\n",
       " array([b'\\xec\\x95\\x84 \\xeb\\x8d\\x94\\xeb\\xb9\\x99 \\xec\\xa7\\x84\\xec\\xa7\\x9c \\xec\\xa7\\x9c\\xec\\xa6\\x9d\\xeb\\x82\\x98\\xeb\\x84\\xa4\\xec\\x9a\\x94 \\xeb\\xaa\\xa9\\xec\\x86\\x8c\\xeb\\xa6\\xac'],\n",
       "       dtype=object)>,\n",
       " <tf.Tensor: shape=(1,), dtype=int32, numpy=array([0], dtype=int32)>)"
      ]
     },
     "execution_count": 88,
     "metadata": {
      "tags": []
     },
     "output_type": "execute_result"
    }
   ],
   "source": [
    "train_examples_batch, train_labels_batch = next(iter(train_data.batch(1)))\n",
    "train_examples_batch, train_labels_batch"
   ]
  },
  {
   "cell_type": "markdown",
   "metadata": {
    "id": "BnS9z6Z2qBaa"
   },
   "source": [
    "## keras.preprocessing module 을 이용하여 tokenize 및 padding\n",
    "- keras.preprocessing.text.Tokenizer  \n",
    "\n",
    "- keras.preprocessing.sequence.pad_sequence"
   ]
  },
  {
   "cell_type": "code",
   "execution_count": 89,
   "metadata": {
    "id": "gzTkP-1RqBab"
   },
   "outputs": [],
   "source": [
    "train_sentences = []\n",
    "train_labels = []\n",
    "\n",
    "test_sentences = []\n",
    "test_labels = []"
   ]
  },
  {
   "cell_type": "code",
   "execution_count": 90,
   "metadata": {
    "id": "wplxqJkSqBah"
   },
   "outputs": [],
   "source": [
    "for sent, label in train_data:\n",
    "    train_sentences.append(sent.numpy().decode('utf-8'))\n",
    "    train_labels.append(label.numpy())"
   ]
  },
  {
   "cell_type": "code",
   "execution_count": 91,
   "metadata": {
    "colab": {
     "base_uri": "https://localhost:8080/"
    },
    "id": "AwcAy3spqBak",
    "outputId": "8c0845ab-2bb4-44b0-b1cc-15d291794569"
   },
   "outputs": [
    {
     "name": "stdout",
     "output_type": "stream",
     "text": [
      "0\n",
      "한국 영화 최초로 수간하는 내용이 담긴 영화\n"
     ]
    }
   ],
   "source": [
    "print(train_labels[-1])\n",
    "print(train_sentences[-1])"
   ]
  },
  {
   "cell_type": "code",
   "execution_count": 92,
   "metadata": {
    "id": "gpNI1hILqBao"
   },
   "outputs": [],
   "source": [
    "for sent, label in test_data:\n",
    "    test_sentences.append(sent.numpy().decode('utf-8'))\n",
    "    test_labels.append(label.numpy())"
   ]
  },
  {
   "cell_type": "code",
   "execution_count": 93,
   "metadata": {
    "colab": {
     "base_uri": "https://localhost:8080/"
    },
    "id": "dPxbS4mBqBar",
    "outputId": "efb37b2e-0b96-4484-8a43-dccd460584be"
   },
   "outputs": [
    {
     "name": "stdout",
     "output_type": "stream",
     "text": [
      "0\n",
      "마무리는 왜이래\n"
     ]
    }
   ],
   "source": [
    "print(test_labels[-1])\n",
    "print(test_sentences[-1])"
   ]
  },
  {
   "cell_type": "markdown",
   "metadata": {
    "id": "cYU9_iKEqBau"
   },
   "source": [
    "## train_labels, test_labels 를 Python list 에서 numpy array 로 변환"
   ]
  },
  {
   "cell_type": "code",
   "execution_count": 94,
   "metadata": {
    "colab": {
     "base_uri": "https://localhost:8080/"
    },
    "id": "hh2ONA0GqBau",
    "outputId": "17746448-0fec-4f1c-e42f-761924ddfa52"
   },
   "outputs": [
    {
     "name": "stdout",
     "output_type": "stream",
     "text": [
      "(150000,)\n",
      "(50000,)\n"
     ]
    }
   ],
   "source": [
    "train_labels = np.array(train_labels)\n",
    "test_labels = np.array(test_labels)\n",
    "\n",
    "print(train_labels.shape)\n",
    "print(test_labels.shape)"
   ]
  },
  {
   "cell_type": "markdown",
   "metadata": {
    "id": "cbidTe45qBax"
   },
   "source": [
    "## train_sentences, test_sentences text 를 sequence 로 변환 "
   ]
  },
  {
   "cell_type": "code",
   "execution_count": 95,
   "metadata": {
    "id": "NuJGndVkqBay"
   },
   "outputs": [],
   "source": [
    "vocab_size = 10000\n",
    "\n",
    "tokenizer = Tokenizer(num_words = vocab_size, oov_token='<OOV>')\n",
    "tokenizer.fit_on_texts(train_sentences)"
   ]
  },
  {
   "cell_type": "code",
   "execution_count": 96,
   "metadata": {
    "id": "_C3n9R4IqBa1"
   },
   "outputs": [],
   "source": [
    "train_sequences = tokenizer.texts_to_sequences(train_sentences)\n",
    "test_sequences = tokenizer.texts_to_sequences(test_sentences)"
   ]
  },
  {
   "cell_type": "code",
   "execution_count": 97,
   "metadata": {
    "colab": {
     "base_uri": "https://localhost:8080/"
    },
    "id": "GmOUcdlsBSl3",
    "outputId": "41e89bbc-36ab-42ab-ee59-1227768b8a36"
   },
   "outputs": [
    {
     "name": "stdout",
     "output_type": "stream",
     "text": [
      "[17, 915, 5, 6695, 1079]\n"
     ]
    }
   ],
   "source": [
    "print(train_sequences[0])"
   ]
  },
  {
   "cell_type": "code",
   "execution_count": 98,
   "metadata": {
    "colab": {
     "base_uri": "https://localhost:8080/",
     "height": 301
    },
    "id": "lTeWFNQnqBa3",
    "outputId": "569087c0-dcb4-4b1e-a5a1-aebd75040fe4"
   },
   "outputs": [
    {
     "name": "stdout",
     "output_type": "stream",
     "text": [
      "maximun length : 47\n",
      "average length : 7.545466666666667\n"
     ]
    },
    {
     "data": {
      "image/png": "[encoded data removed]",
      "text/plain": [
       "<Figure size 432x288 with 1 Axes>"
      ]
     },
     "metadata": {
      "needs_background": "light",
      "tags": []
     },
     "output_type": "display_data"
    }
   ],
   "source": [
    "import matplotlib.pyplot as plt\n",
    "\n",
    "plt.hist([len(s) for s in train_sequences] \n",
    "         + [len(s) for s in test_sequences], bins=50)\n",
    "\n",
    "print('maximun length : {}'.format(max(len(l) for l in train_sequences)))\n",
    "print('average length : {}'.format(sum(map(len, train_sequences))/len(train_sequences)))"
   ]
  },
  {
   "cell_type": "code",
   "execution_count": 99,
   "metadata": {
    "colab": {
     "base_uri": "https://localhost:8080/"
    },
    "id": "tH7F6F4z3kcg",
    "outputId": "0938ad50-45e0-4e75-971e-15518e7d8df7"
   },
   "outputs": [
    {
     "data": {
      "text/plain": [
       "(array([0, 1], dtype=int32), array([75173, 74827]))"
      ]
     },
     "execution_count": 99,
     "metadata": {
      "tags": []
     },
     "output_type": "execute_result"
    }
   ],
   "source": [
    "np.unique(train_labels, return_counts=True)"
   ]
  },
  {
   "cell_type": "code",
   "execution_count": 100,
   "metadata": {
    "id": "xDMrGPr1qBa5"
   },
   "outputs": [],
   "source": [
    "max_length = 30\n",
    "\n",
    "train_padded = pad_sequences(train_sequences,\n",
    "                maxlen=max_length, truncating='post', padding='post')\n",
    "\n",
    "\n",
    "test_padded = pad_sequences(test_sequences,\n",
    "                maxlen=max_length, truncating='post', padding='post')"
   ]
  },
  {
   "cell_type": "code",
   "execution_count": 101,
   "metadata": {
    "colab": {
     "base_uri": "https://localhost:8080/"
    },
    "id": "B3To4CLbqBa9",
    "outputId": "51925f4f-0a8d-4aa9-9283-c7c6cfdf40e7"
   },
   "outputs": [
    {
     "name": "stdout",
     "output_type": "stream",
     "text": [
      "(150000, 30)\n",
      "(50000, 30)\n"
     ]
    },
    {
     "data": {
      "text/plain": [
       "array([  17,  915,    5, 6695, 1079,    0,    0,    0,    0,    0,    0,\n",
       "          0,    0,    0,    0,    0,    0,    0,    0,    0,    0,    0,\n",
       "          0,    0,    0,    0,    0,    0,    0,    0], dtype=int32)"
      ]
     },
     "execution_count": 101,
     "metadata": {
      "tags": []
     },
     "output_type": "execute_result"
    }
   ],
   "source": [
    "print(train_padded.shape)\n",
    "print(test_padded.shape)\n",
    "train_padded[0]"
   ]
  },
  {
   "cell_type": "markdown",
   "metadata": {
    "id": "J4j0WVzCqBbA"
   },
   "source": [
    "## sequence data 를 sentence 로 reverse conversion"
   ]
  },
  {
   "cell_type": "code",
   "execution_count": 102,
   "metadata": {
    "colab": {
     "base_uri": "https://localhost:8080/"
    },
    "id": "LY7UPgb6qBbB",
    "outputId": "457df204-0294-438a-e00e-79a9a0befc17"
   },
   "outputs": [
    {
     "name": "stdout",
     "output_type": "stream",
     "text": [
      "아 더빙 진짜 짜증나네요 목소리 <pad> <pad> <pad> <pad> <pad> <pad> <pad> <pad> <pad> <pad> <pad> <pad> <pad> <pad> <pad> <pad> <pad> <pad> <pad> <pad> <pad> <pad> <pad> <pad> <pad>\n",
      "\n",
      "아 더빙 진짜 짜증나네요 목소리\n"
     ]
    }
   ],
   "source": [
    "text = train_padded[0]\n",
    "print(' '.join([tokenizer.index_word.get(i, '<pad>') for i in text]))\n",
    "print()\n",
    "print(train_sentences[0])"
   ]
  },
  {
   "cell_type": "markdown",
   "metadata": {
    "id": "wVXJRTjVqBbD"
   },
   "source": [
    "## model define"
   ]
  },
  {
   "cell_type": "code",
   "execution_count": 103,
   "metadata": {
    "colab": {
     "base_uri": "https://localhost:8080/"
    },
    "id": "UjOwdAp2qBbE",
    "outputId": "d8d7695e-3b70-4d3e-c1b3-21e98b088787"
   },
   "outputs": [
    {
     "name": "stdout",
     "output_type": "stream",
     "text": [
      "Model: \"sequential\"\n",
      "_________________________________________________________________\n",
      "Layer (type)                 Output Shape              Param #   \n",
      "=================================================================\n",
      "embedding (Embedding)        (None, None, 100)         1000000   \n",
      "_________________________________________________________________\n",
      "bidirectional (Bidirectional (None, 128)               84480     \n",
      "_________________________________________________________________\n",
      "dense (Dense)                (None, 64)                8256      \n",
      "_________________________________________________________________\n",
      "dense_1 (Dense)              (None, 1)                 65        \n",
      "=================================================================\n",
      "Total params: 1,092,801\n",
      "Trainable params: 1,092,801\n",
      "Non-trainable params: 0\n",
      "_________________________________________________________________\n"
     ]
    }
   ],
   "source": [
    "model = Sequential([\n",
    "    Embedding(vocab_size, 100),\n",
    "    Bidirectional(tf.keras.layers.LSTM(64)),\n",
    "    Dense(64, activation='relu'),\n",
    "    Dense(1, activation='sigmoid')\n",
    "])\n",
    "\n",
    "model.compile(loss='binary_crossentropy', optimizer='adam', metrics=['accuracy'])\n",
    "model.summary()"
   ]
  },
  {
   "cell_type": "code",
   "execution_count": 105,
   "metadata": {
    "colab": {
     "base_uri": "https://localhost:8080/"
    },
    "id": "aLFmPzmsqBbG",
    "outputId": "afc49b9e-ce5b-4578-94d4-e321e2a0e96d"
   },
   "outputs": [
    {
     "name": "stdout",
     "output_type": "stream",
     "text": [
      "Model: \"sequential\"\n",
      "_________________________________________________________________\n",
      "Layer (type)                 Output Shape              Param #   \n",
      "=================================================================\n",
      "embedding (Embedding)        (None, None, 100)         1000000   \n",
      "_________________________________________________________________\n",
      "bidirectional (Bidirectional (None, 128)               84480     \n",
      "_________________________________________________________________\n",
      "dense (Dense)                (None, 64)                8256      \n",
      "_________________________________________________________________\n",
      "dense_1 (Dense)              (None, 1)                 65        \n",
      "=================================================================\n",
      "Total params: 1,092,801\n",
      "Trainable params: 1,092,801\n",
      "Non-trainable params: 0\n",
      "_________________________________________________________________\n"
     ]
    }
   ],
   "source": [
    "model.summary()"
   ]
  },
  {
   "cell_type": "code",
   "execution_count": 106,
   "metadata": {
    "id": "7Lk9l0hs4z_8"
   },
   "outputs": [],
   "source": [
    "early_stop = tf.keras.callbacks.EarlyStopping(monitor='val_loss',  patience=5)"
   ]
  },
  {
   "cell_type": "code",
   "execution_count": 107,
   "metadata": {
    "colab": {
     "base_uri": "https://localhost:8080/"
    },
    "id": "hP4Mm5hTqBbI",
    "outputId": "8cdeaa7b-8768-46c2-d970-5f8484aa53e1"
   },
   "outputs": [
    {
     "name": "stdout",
     "output_type": "stream",
     "text": [
      "Epoch 1/30\n",
      "1172/1172 [==============================] - 54s 18ms/step - loss: 0.4969 - accuracy: 0.7295 - val_loss: 0.4103 - val_accuracy: 0.7924\n",
      "Epoch 2/30\n",
      "1172/1172 [==============================] - 20s 17ms/step - loss: 0.3693 - accuracy: 0.8162 - val_loss: 0.4051 - val_accuracy: 0.7975\n",
      "Epoch 3/30\n",
      "1172/1172 [==============================] - 20s 17ms/step - loss: 0.3366 - accuracy: 0.8301 - val_loss: 0.4195 - val_accuracy: 0.7971\n",
      "Epoch 4/30\n",
      "1172/1172 [==============================] - 20s 17ms/step - loss: 0.3086 - accuracy: 0.8435 - val_loss: 0.4468 - val_accuracy: 0.7942\n",
      "Epoch 5/30\n",
      "1172/1172 [==============================] - 20s 17ms/step - loss: 0.2843 - accuracy: 0.8544 - val_loss: 0.4799 - val_accuracy: 0.7913\n",
      "Epoch 6/30\n",
      "1172/1172 [==============================] - 20s 17ms/step - loss: 0.2569 - accuracy: 0.8694 - val_loss: 0.5119 - val_accuracy: 0.7844\n",
      "Epoch 7/30\n",
      "1172/1172 [==============================] - 20s 17ms/step - loss: 0.2341 - accuracy: 0.8796 - val_loss: 0.5616 - val_accuracy: 0.7789\n",
      "175.88196659088135\n"
     ]
    }
   ],
   "source": [
    "import time\n",
    "s = time.time()\n",
    "\n",
    "num_epochs = 30\n",
    "history = model.fit(train_padded, train_labels, \n",
    "                    epochs=num_epochs, batch_size=128,\n",
    "          validation_data=(test_padded, test_labels), \n",
    "                    verbose=1, callbacks=[early_stop])\n",
    "\n",
    "print(time.time() - s)"
   ]
  },
  {
   "cell_type": "code",
   "execution_count": 112,
   "metadata": {
    "colab": {
     "base_uri": "https://localhost:8080/"
    },
    "id": "Sgu3j1Cbg9CA",
    "outputId": "fdc1fa8d-ef1d-4fa5-f732-0018177d7c5b"
   },
   "outputs": [
    {
     "name": "stdout",
     "output_type": "stream",
     "text": [
      "loss: 0.562\n",
      "accuracy: 0.779\n"
     ]
    }
   ],
   "source": [
    "results = model.evaluate(test_padded, test_labels, verbose=0)\n",
    "\n",
    "for name, value in zip(model.metrics_names, results):\n",
    "  print(\"%s: %.3f\" % (name, value))"
   ]
  },
  {
   "cell_type": "code",
   "execution_count": 113,
   "metadata": {
    "colab": {
     "base_uri": "https://localhost:8080/",
     "height": 282
    },
    "id": "ZPOjnfwkqBbK",
    "outputId": "b1cd6c82-1db7-473f-cb5d-3a1857ffcd2e"
   },
   "outputs": [
    {
     "data": {
      "image/png": "[encoded data removed]",
      "text/plain": [
       "<Figure size 864x288 with 2 Axes>"
      ]
     },
     "metadata": {
      "needs_background": "light",
      "tags": []
     },
     "output_type": "display_data"
    }
   ],
   "source": [
    "fig, (ax1, ax2) = plt.subplots(1, 2, figsize=(12, 4))\n",
    "\n",
    "ax1.plot(history.history['accuracy'])\n",
    "ax1.plot(history.history['val_accuracy'])\n",
    "ax1.set_xlabel('Epochs')\n",
    "ax1.set_ylabel('accuracy')\n",
    "ax1.legend(['accuarcy', 'val_accuracy'])\n",
    "\n",
    "ax2.plot(history.history['loss'])\n",
    "ax2.plot(history.history['val_loss'])\n",
    "ax2.set_xlabel('Epochs')\n",
    "ax2.set_ylabel('loss')\n",
    "ax2.legend(['loss', 'val_loss'])\n",
    "plt.show()"
   ]
  },
  {
   "cell_type": "code",
   "execution_count": 118,
   "metadata": {
    "id": "1z-r1z0KqBbM"
   },
   "outputs": [],
   "source": [
    "# sample_text = ['다시는 보고 싶지 않은 짜증나는 영화']\n",
    "sample_text = ['권하고 싶지 않은 지루한 영화']\n",
    "# sample_text = ['정말 훌륭한 영화였다']\n",
    "sample_seq = tokenizer.texts_to_sequences(sample_text)\n",
    "sample_padded = pad_sequences(sample_seq, maxlen=max_length, padding='post', truncating='post')"
   ]
  },
  {
   "cell_type": "code",
   "execution_count": 119,
   "metadata": {
    "colab": {
     "base_uri": "https://localhost:8080/"
    },
    "id": "q0ZU4YQ7qBbO",
    "outputId": "b6de8cea-835b-4533-88bb-7e15955c03a3"
   },
   "outputs": [
    {
     "data": {
      "text/plain": [
       "['negative']"
      ]
     },
     "execution_count": 119,
     "metadata": {
      "tags": []
     },
     "output_type": "execute_result"
    }
   ],
   "source": [
    "['positive' if model.predict([sample_padded]) >= 0.5 else 'negative']"
   ]
  }
 ],
 "metadata": {
  "accelerator": "GPU",
  "colab": {
   "collapsed_sections": [],
   "name": "180_IMDB_korean_movie_reviews.ipynb",
   "provenance": []
  },
  "kernelspec": {
   "display_name": "Python 3",
   "language": "python",
   "name": "python3"
  },
  "language_info": {
   "codemirror_mode": {
    "name": "ipython",
    "version": 3
   },
   "file_extension": ".py",
   "mimetype": "text/x-python",
   "name": "python",
   "nbconvert_exporter": "python",
   "pygments_lexer": "ipython3",
   "version": "3.8.5"
  }
 },
 "nbformat": 4,
 "nbformat_minor": 1
}
