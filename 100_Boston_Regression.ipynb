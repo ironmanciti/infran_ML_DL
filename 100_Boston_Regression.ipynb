{
 "cells": [
  {
   "cell_type": "markdown",
   "metadata": {
    "colab_type": "text",
    "id": "uMzSmlzgrTPV"
   },
   "source": [
    "# 100. Boston House Price Regression\n",
    "\n",
    "- 보스턴 주택가격 예측\n",
    "\n",
    "### 13 개의 종속변수와 1 개의 독립변수 (주택가격 중앙값) 으로 구성\n",
    "\n",
    "#### 독립변수 (13 개)\n",
    "CRIM 자치시(town) 별 1인당 범죄율  \n",
    "ZN 25,000 평방피트를 초과하는 거주지역의 비율  \n",
    "INDUS 비소매상업지역이 점유하고 있는 토지의 비율  \n",
    "CHAS 찰스강에 대한 더미변수(강의 경계에 위치한 경우는 1, 아니면 0)  \n",
    "NOX 10ppm 당 농축 일산화질소  \n",
    "RM 주택 1가구당 평균 방의 개수  \n",
    "AGE 1940년 이전에 건축된 소유주택의 비율  \n",
    "DIS 5개의 보스턴 직업센터까지의 접근성 지수  \n",
    "RAD 방사형 도로까지의 접근성 지수  \n",
    "TAX 10,000 달러 당 재산세율  \n",
    "PTRATIO 자치시(town)별 학생/교사 비율  \n",
    "B 1000(Bk-0.63)^2, 여기서 Bk는 자치시별 흑인의 비율을 말함  \n",
    "LSTAT 모집단의 하위계층의 비율(%)   \n",
    "\n",
    "#### 종속변수 (1 개)\n",
    "MEDV 본인 소유의 주택가격(중앙값) (단위: $1,000)  "
   ]
  },
  {
   "cell_type": "code",
   "execution_count": 1,
   "metadata": {
    "colab": {},
    "colab_type": "code",
    "id": "phPT7edHrTPW"
   },
   "outputs": [],
   "source": [
    "from sklearn.model_selection import train_test_split\n",
    "from sklearn.preprocessing import MinMaxScaler\n",
    "from sklearn.metrics import mean_squared_error, r2_score\n",
    "\n",
    "from tensorflow.keras.models import Sequential\n",
    "from tensorflow.keras.layers import Dense\n",
    "import pandas as pd\n",
    "import matplotlib.pyplot as plt\n",
    "import tensorflow as tf"
   ]
  },
  {
   "cell_type": "code",
   "execution_count": 2,
   "metadata": {
    "colab": {
     "base_uri": "https://localhost:8080/",
     "height": 198
    },
    "colab_type": "code",
    "id": "CLOt7W58rTPa",
    "outputId": "f632edd1-51ff-47d7-8de6-255fbe874e22"
   },
   "outputs": [],
   "source": [
    "df_boston = pd.read_csv(\"boston_house.csv\", index_col=0)\n",
    "boston = df_boston.drop('MEDV', axis=1)\n",
    "target = df_boston.pop('MEDV')"
   ]
  },
  {
   "cell_type": "code",
   "execution_count": 3,
   "metadata": {
    "colab": {},
    "colab_type": "code",
    "id": "dTar7PMprTPd"
   },
   "outputs": [],
   "source": [
    "X = boston.values\n",
    "y = target.values"
   ]
  },
  {
   "cell_type": "code",
   "execution_count": 4,
   "metadata": {
    "colab": {
     "base_uri": "https://localhost:8080/",
     "height": 35
    },
    "colab_type": "code",
    "id": "tjU7kLnRrTPg",
    "outputId": "4dd6c014-c002-4f6f-ec4f-14016fbd5382"
   },
   "outputs": [
    {
     "data": {
      "text/plain": [
       "array([24. , 21.6, 34.7, 33.4, 36.2, 28.7, 22.9, 27.1, 16.5, 18.9])"
      ]
     },
     "execution_count": 4,
     "metadata": {},
     "output_type": "execute_result"
    }
   ],
   "source": [
    "y[:10]"
   ]
  },
  {
   "cell_type": "code",
   "execution_count": 5,
   "metadata": {
    "colab": {
     "base_uri": "https://localhost:8080/",
     "height": 53
    },
    "colab_type": "code",
    "id": "T6CypJZVrTPj",
    "outputId": "1ac5c40e-8039-470b-fdd6-4811ec19d395"
   },
   "outputs": [
    {
     "name": "stdout",
     "output_type": "stream",
     "text": [
      "(506, 13)\n",
      "(506,)\n"
     ]
    }
   ],
   "source": [
    "print(X.shape)\n",
    "print(y.shape)"
   ]
  },
  {
   "cell_type": "code",
   "execution_count": 6,
   "metadata": {
    "colab": {},
    "colab_type": "code",
    "id": "4cgRCJrBrTPl"
   },
   "outputs": [],
   "source": [
    "X_train, X_test, y_train, y_test = train_test_split(X, y)"
   ]
  },
  {
   "cell_type": "code",
   "execution_count": 7,
   "metadata": {
    "colab": {},
    "colab_type": "code",
    "id": "cMm9Wk5DrTPo"
   },
   "outputs": [],
   "source": [
    "sc = MinMaxScaler()\n",
    "X_train = sc.fit_transform(X_train)\n",
    "X_test  = sc.transform(X_test)"
   ]
  },
  {
   "cell_type": "markdown",
   "metadata": {
    "colab_type": "text",
    "id": "pLf27y9VrTPr"
   },
   "source": [
    "### model build"
   ]
  },
  {
   "cell_type": "code",
   "execution_count": 8,
   "metadata": {
    "colab": {},
    "colab_type": "code",
    "id": "1GPf5hWlrTPs"
   },
   "outputs": [],
   "source": [
    "model = Sequential()\n",
    "\n",
    "model.add(Dense(64, input_shape=(13,), activation='relu'))\n",
    "model.add(Dense(32, activation='relu'))\n",
    "model.add(Dense(1))"
   ]
  },
  {
   "cell_type": "code",
   "execution_count": 9,
   "metadata": {
    "colab": {},
    "colab_type": "code",
    "id": "g5NRN0k1rTPu"
   },
   "outputs": [],
   "source": [
    "model.compile(loss='mean_squared_error', optimizer='adam', metrics=['mae', 'mse'])"
   ]
  },
  {
   "cell_type": "code",
   "execution_count": 10,
   "metadata": {},
   "outputs": [
    {
     "name": "stdout",
     "output_type": "stream",
     "text": [
      "Model: \"sequential\"\n",
      "_________________________________________________________________\n",
      " Layer (type)                Output Shape              Param #   \n",
      "=================================================================\n",
      " dense (Dense)               (None, 64)                896       \n",
      "                                                                 \n",
      " dense_1 (Dense)             (None, 32)                2080      \n",
      "                                                                 \n",
      " dense_2 (Dense)             (None, 1)                 33        \n",
      "                                                                 \n",
      "=================================================================\n",
      "Total params: 3,009\n",
      "Trainable params: 3,009\n",
      "Non-trainable params: 0\n",
      "_________________________________________________________________\n"
     ]
    }
   ],
   "source": [
    "model.summary()"
   ]
  },
  {
   "cell_type": "markdown",
   "metadata": {
    "colab_type": "text",
    "id": "4nlJzIHwrTPy"
   },
   "source": [
    "- epoch 수와 batchz_size 변경하며 test"
   ]
  },
  {
   "cell_type": "code",
   "execution_count": 11,
   "metadata": {
    "colab": {
     "base_uri": "https://localhost:8080/",
     "height": 1000
    },
    "colab_type": "code",
    "id": "GiBonfIdrTPy",
    "outputId": "809d622a-d39f-481b-c12b-dae8d8226c17",
    "scrolled": true
   },
   "outputs": [
    {
     "name": "stdout",
     "output_type": "stream",
     "text": [
      "Epoch 1/500\n",
      "12/12 [==============================] - 1s 13ms/step - loss: 570.6582 - mae: 22.0670 - mse: 570.6582 - val_loss: 589.6066 - val_mae: 22.4079 - val_mse: 589.6066\n",
      "Epoch 2/500\n",
      "12/12 [==============================] - 0s 3ms/step - loss: 539.3998 - mae: 21.3075 - mse: 539.3998 - val_loss: 553.8239 - val_mae: 21.5300 - val_mse: 553.8239\n",
      "Epoch 3/500\n",
      "12/12 [==============================] - 0s 4ms/step - loss: 500.9749 - mae: 20.3186 - mse: 500.9749 - val_loss: 506.9255 - val_mae: 20.3268 - val_mse: 506.9255\n",
      "Epoch 4/500\n",
      "12/12 [==============================] - 0s 4ms/step - loss: 447.8376 - mae: 18.8871 - mse: 447.8376 - val_loss: 442.0815 - val_mae: 18.5505 - val_mse: 442.0815\n",
      "Epoch 5/500\n",
      "12/12 [==============================] - 0s 3ms/step - loss: 378.7413 - mae: 16.8174 - mse: 378.7413 - val_loss: 361.1816 - val_mae: 16.1392 - val_mse: 361.1816\n",
      "Epoch 6/500\n",
      "12/12 [==============================] - 0s 3ms/step - loss: 297.4314 - mae: 14.2731 - mse: 297.4314 - val_loss: 273.8651 - val_mae: 13.2660 - val_mse: 273.8651\n",
      "Epoch 7/500\n",
      "12/12 [==============================] - 0s 3ms/step - loss: 218.9287 - mae: 11.7620 - mse: 218.9287 - val_loss: 200.9411 - val_mae: 11.0627 - val_mse: 200.9411\n",
      "Epoch 8/500\n",
      "12/12 [==============================] - 0s 4ms/step - loss: 162.9175 - mae: 10.0051 - mse: 162.9175 - val_loss: 162.8326 - val_mae: 9.9797 - val_mse: 162.8326\n",
      "Epoch 9/500\n",
      "12/12 [==============================] - 0s 3ms/step - loss: 138.6894 - mae: 9.1563 - mse: 138.6894 - val_loss: 148.3870 - val_mae: 9.5308 - val_mse: 148.3870\n",
      "Epoch 10/500\n",
      "12/12 [==============================] - 0s 3ms/step - loss: 127.6199 - mae: 8.7310 - mse: 127.6199 - val_loss: 136.5977 - val_mae: 9.0496 - val_mse: 136.5977\n",
      "Epoch 11/500\n",
      "12/12 [==============================] - 0s 3ms/step - loss: 117.0414 - mae: 8.3094 - mse: 117.0414 - val_loss: 125.3750 - val_mae: 8.5700 - val_mse: 125.3750\n",
      "Epoch 12/500\n",
      "12/12 [==============================] - 0s 3ms/step - loss: 107.2244 - mae: 7.8756 - mse: 107.2244 - val_loss: 114.8783 - val_mae: 8.0881 - val_mse: 114.8783\n",
      "Epoch 13/500\n",
      "12/12 [==============================] - 0s 3ms/step - loss: 98.1450 - mae: 7.4711 - mse: 98.1450 - val_loss: 105.2145 - val_mae: 7.6468 - val_mse: 105.2145\n",
      "Epoch 14/500\n",
      "12/12 [==============================] - 0s 3ms/step - loss: 89.9701 - mae: 7.0848 - mse: 89.9701 - val_loss: 96.2920 - val_mae: 7.2581 - val_mse: 96.2920\n",
      "Epoch 15/500\n",
      "12/12 [==============================] - 0s 3ms/step - loss: 82.8707 - mae: 6.7550 - mse: 82.8707 - val_loss: 88.4262 - val_mae: 6.9398 - val_mse: 88.4262\n",
      "Epoch 16/500\n",
      "12/12 [==============================] - 0s 3ms/step - loss: 76.1912 - mae: 6.4184 - mse: 76.1912 - val_loss: 81.3988 - val_mae: 6.6168 - val_mse: 81.3988\n",
      "Epoch 17/500\n",
      "12/12 [==============================] - 0s 3ms/step - loss: 70.7156 - mae: 6.1142 - mse: 70.7156 - val_loss: 75.4943 - val_mae: 6.3198 - val_mse: 75.4943\n",
      "Epoch 18/500\n",
      "12/12 [==============================] - 0s 3ms/step - loss: 66.0670 - mae: 5.9048 - mse: 66.0670 - val_loss: 70.0295 - val_mae: 6.1116 - val_mse: 70.0295\n",
      "Epoch 19/500\n",
      "12/12 [==============================] - 0s 3ms/step - loss: 61.9370 - mae: 5.6731 - mse: 61.9370 - val_loss: 65.5392 - val_mae: 5.8699 - val_mse: 65.5392\n",
      "Epoch 20/500\n",
      "12/12 [==============================] - 0s 3ms/step - loss: 58.8352 - mae: 5.5024 - mse: 58.8352 - val_loss: 61.7961 - val_mae: 5.7298 - val_mse: 61.7961\n",
      "Epoch 21/500\n",
      "12/12 [==============================] - 0s 3ms/step - loss: 55.9833 - mae: 5.3130 - mse: 55.9833 - val_loss: 58.8788 - val_mae: 5.5232 - val_mse: 58.8788\n",
      "Epoch 22/500\n",
      "12/12 [==============================] - 0s 3ms/step - loss: 54.0337 - mae: 5.1459 - mse: 54.0337 - val_loss: 56.3555 - val_mae: 5.3873 - val_mse: 56.3555\n",
      "Epoch 23/500\n",
      "12/12 [==============================] - 0s 3ms/step - loss: 51.7947 - mae: 5.0695 - mse: 51.7947 - val_loss: 54.4108 - val_mae: 5.4015 - val_mse: 54.4108\n",
      "Epoch 24/500\n",
      "12/12 [==============================] - 0s 3ms/step - loss: 50.3728 - mae: 5.0617 - mse: 50.3728 - val_loss: 52.5949 - val_mae: 5.2859 - val_mse: 52.5949\n",
      "Epoch 25/500\n",
      "12/12 [==============================] - 0s 3ms/step - loss: 48.9612 - mae: 4.9195 - mse: 48.9612 - val_loss: 50.9150 - val_mae: 5.1714 - val_mse: 50.9150\n",
      "Epoch 26/500\n",
      "12/12 [==============================] - 0s 3ms/step - loss: 47.4833 - mae: 4.8488 - mse: 47.4833 - val_loss: 49.3496 - val_mae: 5.1277 - val_mse: 49.3496\n",
      "Epoch 27/500\n",
      "12/12 [==============================] - 0s 3ms/step - loss: 45.8893 - mae: 4.7495 - mse: 45.8893 - val_loss: 47.8563 - val_mae: 5.0343 - val_mse: 47.8563\n",
      "Epoch 28/500\n",
      "12/12 [==============================] - 0s 3ms/step - loss: 44.8214 - mae: 4.7464 - mse: 44.8214 - val_loss: 46.8008 - val_mae: 5.0855 - val_mse: 46.8008\n",
      "Epoch 29/500\n",
      "12/12 [==============================] - 0s 3ms/step - loss: 43.4327 - mae: 4.6308 - mse: 43.4327 - val_loss: 45.3708 - val_mae: 4.9023 - val_mse: 45.3708\n",
      "Epoch 30/500\n",
      "12/12 [==============================] - 0s 3ms/step - loss: 41.9461 - mae: 4.5574 - mse: 41.9461 - val_loss: 44.3950 - val_mae: 4.9137 - val_mse: 44.3950\n",
      "Epoch 31/500\n",
      "12/12 [==============================] - 0s 3ms/step - loss: 40.7737 - mae: 4.5398 - mse: 40.7737 - val_loss: 43.1738 - val_mae: 4.8406 - val_mse: 43.1738\n",
      "Epoch 32/500\n",
      "12/12 [==============================] - 0s 3ms/step - loss: 39.9139 - mae: 4.4060 - mse: 39.9139 - val_loss: 41.8958 - val_mae: 4.7207 - val_mse: 41.8958\n",
      "Epoch 33/500\n",
      "12/12 [==============================] - 0s 3ms/step - loss: 38.7338 - mae: 4.4793 - mse: 38.7338 - val_loss: 41.6375 - val_mae: 4.8511 - val_mse: 41.6375\n",
      "Epoch 34/500\n",
      "12/12 [==============================] - 0s 3ms/step - loss: 37.8590 - mae: 4.3461 - mse: 37.8590 - val_loss: 39.7505 - val_mae: 4.5706 - val_mse: 39.7505\n",
      "Epoch 35/500\n",
      "12/12 [==============================] - 0s 3ms/step - loss: 36.3988 - mae: 4.2721 - mse: 36.3988 - val_loss: 38.9838 - val_mae: 4.6157 - val_mse: 38.9838\n",
      "Epoch 36/500\n",
      "12/12 [==============================] - 0s 3ms/step - loss: 35.5179 - mae: 4.2838 - mse: 35.5179 - val_loss: 38.0699 - val_mae: 4.5676 - val_mse: 38.0699\n",
      "Epoch 37/500\n",
      "12/12 [==============================] - 0s 3ms/step - loss: 34.4786 - mae: 4.0886 - mse: 34.4786 - val_loss: 36.6445 - val_mae: 4.3767 - val_mse: 36.6445\n",
      "Epoch 38/500\n",
      "12/12 [==============================] - 0s 3ms/step - loss: 33.6791 - mae: 4.0717 - mse: 33.6791 - val_loss: 36.1899 - val_mae: 4.4750 - val_mse: 36.1899\n",
      "Epoch 39/500\n",
      "12/12 [==============================] - 0s 3ms/step - loss: 32.6903 - mae: 4.0799 - mse: 32.6903 - val_loss: 34.8347 - val_mae: 4.3487 - val_mse: 34.8347\n",
      "Epoch 40/500\n",
      "12/12 [==============================] - 0s 3ms/step - loss: 31.9310 - mae: 3.9391 - mse: 31.9310 - val_loss: 34.0646 - val_mae: 4.3031 - val_mse: 34.0646\n",
      "Epoch 41/500\n",
      "12/12 [==============================] - 0s 3ms/step - loss: 31.1301 - mae: 3.9501 - mse: 31.1301 - val_loss: 33.4676 - val_mae: 4.2935 - val_mse: 33.4676\n",
      "Epoch 42/500\n",
      "12/12 [==============================] - 0s 3ms/step - loss: 30.3784 - mae: 3.8431 - mse: 30.3784 - val_loss: 32.1673 - val_mae: 4.1750 - val_mse: 32.1673\n",
      "Epoch 43/500\n",
      "12/12 [==============================] - 0s 3ms/step - loss: 29.5725 - mae: 3.8199 - mse: 29.5725 - val_loss: 31.8964 - val_mae: 4.2244 - val_mse: 31.8964\n",
      "Epoch 44/500\n",
      "12/12 [==============================] - 0s 3ms/step - loss: 29.0523 - mae: 3.7982 - mse: 29.0523 - val_loss: 30.8119 - val_mae: 4.1224 - val_mse: 30.8119\n",
      "Epoch 45/500\n",
      "12/12 [==============================] - 0s 3ms/step - loss: 28.4233 - mae: 3.7154 - mse: 28.4233 - val_loss: 29.9650 - val_mae: 4.0917 - val_mse: 29.9650\n",
      "Epoch 46/500\n",
      "12/12 [==============================] - 0s 3ms/step - loss: 27.8871 - mae: 3.6841 - mse: 27.8871 - val_loss: 29.1145 - val_mae: 4.0206 - val_mse: 29.1145\n",
      "Epoch 47/500\n",
      "12/12 [==============================] - 0s 3ms/step - loss: 27.5009 - mae: 3.7078 - mse: 27.5009 - val_loss: 28.5902 - val_mae: 4.0039 - val_mse: 28.5902\n",
      "Epoch 48/500\n",
      "12/12 [==============================] - 0s 3ms/step - loss: 26.8032 - mae: 3.5760 - mse: 26.8032 - val_loss: 27.8084 - val_mae: 3.9207 - val_mse: 27.8084\n",
      "Epoch 49/500\n",
      "12/12 [==============================] - 0s 3ms/step - loss: 26.4182 - mae: 3.5817 - mse: 26.4182 - val_loss: 27.2411 - val_mae: 3.9168 - val_mse: 27.2411\n",
      "Epoch 50/500\n",
      "12/12 [==============================] - 0s 3ms/step - loss: 26.2561 - mae: 3.4925 - mse: 26.2561 - val_loss: 26.3220 - val_mae: 3.8170 - val_mse: 26.3220\n",
      "Epoch 51/500\n",
      "12/12 [==============================] - 0s 3ms/step - loss: 25.6366 - mae: 3.5278 - mse: 25.6366 - val_loss: 26.5121 - val_mae: 3.9190 - val_mse: 26.5121\n",
      "Epoch 52/500\n",
      "12/12 [==============================] - 0s 3ms/step - loss: 25.2446 - mae: 3.4596 - mse: 25.2446 - val_loss: 25.4356 - val_mae: 3.7723 - val_mse: 25.4356\n",
      "Epoch 53/500\n",
      "12/12 [==============================] - 0s 3ms/step - loss: 25.0488 - mae: 3.4534 - mse: 25.0488 - val_loss: 24.9299 - val_mae: 3.7376 - val_mse: 24.9299\n",
      "Epoch 54/500\n",
      "12/12 [==============================] - 0s 3ms/step - loss: 24.5994 - mae: 3.3654 - mse: 24.5994 - val_loss: 24.3270 - val_mae: 3.6726 - val_mse: 24.3270\n",
      "Epoch 55/500\n",
      "12/12 [==============================] - 0s 3ms/step - loss: 24.2646 - mae: 3.3455 - mse: 24.2646 - val_loss: 23.6933 - val_mae: 3.6542 - val_mse: 23.6933\n",
      "Epoch 56/500\n",
      "12/12 [==============================] - 0s 3ms/step - loss: 24.0495 - mae: 3.3310 - mse: 24.0495 - val_loss: 23.4381 - val_mae: 3.6406 - val_mse: 23.4381\n",
      "Epoch 57/500\n",
      "12/12 [==============================] - 0s 3ms/step - loss: 23.6517 - mae: 3.3095 - mse: 23.6517 - val_loss: 23.2270 - val_mae: 3.6141 - val_mse: 23.2270\n",
      "Epoch 58/500\n",
      "12/12 [==============================] - 0s 3ms/step - loss: 23.4570 - mae: 3.2769 - mse: 23.4570 - val_loss: 22.7387 - val_mae: 3.5839 - val_mse: 22.7387\n",
      "Epoch 59/500\n",
      "12/12 [==============================] - 0s 3ms/step - loss: 23.6239 - mae: 3.2840 - mse: 23.6239 - val_loss: 22.7159 - val_mae: 3.6337 - val_mse: 22.7159\n",
      "Epoch 60/500\n",
      "12/12 [==============================] - 0s 4ms/step - loss: 23.2078 - mae: 3.2969 - mse: 23.2078 - val_loss: 22.0623 - val_mae: 3.5177 - val_mse: 22.0623\n",
      "Epoch 61/500\n",
      "12/12 [==============================] - 0s 3ms/step - loss: 22.9444 - mae: 3.2262 - mse: 22.9444 - val_loss: 21.5445 - val_mae: 3.4777 - val_mse: 21.5445\n",
      "Epoch 62/500\n",
      "12/12 [==============================] - 0s 3ms/step - loss: 22.7999 - mae: 3.2179 - mse: 22.7999 - val_loss: 21.4765 - val_mae: 3.5096 - val_mse: 21.4765\n",
      "Epoch 63/500\n",
      "12/12 [==============================] - 0s 3ms/step - loss: 22.7401 - mae: 3.2747 - mse: 22.7401 - val_loss: 20.8842 - val_mae: 3.4332 - val_mse: 20.8842\n",
      "Epoch 64/500\n",
      "12/12 [==============================] - 0s 3ms/step - loss: 22.6224 - mae: 3.1843 - mse: 22.6224 - val_loss: 20.6573 - val_mae: 3.3798 - val_mse: 20.6573\n",
      "Epoch 65/500\n",
      "12/12 [==============================] - 0s 3ms/step - loss: 22.3461 - mae: 3.2140 - mse: 22.3461 - val_loss: 20.7966 - val_mae: 3.4633 - val_mse: 20.7966\n",
      "Epoch 66/500\n",
      "12/12 [==============================] - 0s 3ms/step - loss: 22.3403 - mae: 3.1965 - mse: 22.3403 - val_loss: 20.0123 - val_mae: 3.3290 - val_mse: 20.0123\n",
      "Epoch 67/500\n",
      "12/12 [==============================] - 0s 3ms/step - loss: 22.1568 - mae: 3.2041 - mse: 22.1568 - val_loss: 20.0324 - val_mae: 3.4110 - val_mse: 20.0324\n",
      "Epoch 68/500\n",
      "12/12 [==============================] - 0s 3ms/step - loss: 22.2364 - mae: 3.1815 - mse: 22.2364 - val_loss: 19.5815 - val_mae: 3.3099 - val_mse: 19.5815\n",
      "Epoch 69/500\n",
      "12/12 [==============================] - 0s 3ms/step - loss: 22.2446 - mae: 3.2508 - mse: 22.2446 - val_loss: 19.8708 - val_mae: 3.3894 - val_mse: 19.8708\n",
      "Epoch 70/500\n",
      "12/12 [==============================] - 0s 3ms/step - loss: 22.3493 - mae: 3.1927 - mse: 22.3493 - val_loss: 19.1697 - val_mae: 3.2599 - val_mse: 19.1697\n",
      "Epoch 71/500\n",
      "12/12 [==============================] - 0s 3ms/step - loss: 22.2950 - mae: 3.2840 - mse: 22.2950 - val_loss: 19.7234 - val_mae: 3.4118 - val_mse: 19.7234\n",
      "Epoch 72/500\n",
      "12/12 [==============================] - 0s 3ms/step - loss: 21.7394 - mae: 3.1596 - mse: 21.7394 - val_loss: 18.6069 - val_mae: 3.1804 - val_mse: 18.6069\n",
      "Epoch 73/500\n",
      "12/12 [==============================] - 0s 3ms/step - loss: 21.9103 - mae: 3.2219 - mse: 21.9103 - val_loss: 19.6023 - val_mae: 3.4171 - val_mse: 19.6023\n",
      "Epoch 74/500\n",
      "12/12 [==============================] - 0s 3ms/step - loss: 21.8371 - mae: 3.1503 - mse: 21.8371 - val_loss: 18.2599 - val_mae: 3.1793 - val_mse: 18.2599\n",
      "Epoch 75/500\n",
      "12/12 [==============================] - 0s 3ms/step - loss: 21.3070 - mae: 3.1317 - mse: 21.3070 - val_loss: 18.9251 - val_mae: 3.3436 - val_mse: 18.9251\n",
      "Epoch 76/500\n",
      "12/12 [==============================] - 0s 3ms/step - loss: 21.2295 - mae: 3.1573 - mse: 21.2295 - val_loss: 18.2020 - val_mae: 3.2051 - val_mse: 18.2020\n",
      "Epoch 77/500\n",
      "12/12 [==============================] - 0s 3ms/step - loss: 21.3436 - mae: 3.1296 - mse: 21.3436 - val_loss: 18.0820 - val_mae: 3.2058 - val_mse: 18.0820\n",
      "Epoch 78/500\n",
      "12/12 [==============================] - 0s 3ms/step - loss: 21.0909 - mae: 3.1096 - mse: 21.0909 - val_loss: 18.0032 - val_mae: 3.2048 - val_mse: 18.0032\n",
      "Epoch 79/500\n",
      "12/12 [==============================] - 0s 3ms/step - loss: 21.0225 - mae: 3.1154 - mse: 21.0225 - val_loss: 18.1891 - val_mae: 3.2708 - val_mse: 18.1891\n",
      "Epoch 80/500\n",
      "12/12 [==============================] - 0s 3ms/step - loss: 20.8779 - mae: 3.1195 - mse: 20.8779 - val_loss: 17.6444 - val_mae: 3.1603 - val_mse: 17.6444\n",
      "Epoch 81/500\n",
      "12/12 [==============================] - 0s 3ms/step - loss: 20.9205 - mae: 3.0914 - mse: 20.9205 - val_loss: 17.7480 - val_mae: 3.2119 - val_mse: 17.7480\n",
      "Epoch 82/500\n",
      "12/12 [==============================] - 0s 3ms/step - loss: 20.7121 - mae: 3.0960 - mse: 20.7121 - val_loss: 17.2819 - val_mae: 3.1287 - val_mse: 17.2819\n",
      "Epoch 83/500\n",
      "12/12 [==============================] - 0s 3ms/step - loss: 20.6807 - mae: 3.0897 - mse: 20.6807 - val_loss: 17.3406 - val_mae: 3.1611 - val_mse: 17.3406\n",
      "Epoch 84/500\n",
      "12/12 [==============================] - 0s 3ms/step - loss: 20.5264 - mae: 3.0703 - mse: 20.5264 - val_loss: 16.9532 - val_mae: 3.0997 - val_mse: 16.9532\n",
      "Epoch 85/500\n",
      "12/12 [==============================] - 0s 3ms/step - loss: 20.5417 - mae: 3.0668 - mse: 20.5417 - val_loss: 17.0660 - val_mae: 3.1297 - val_mse: 17.0660\n",
      "Epoch 86/500\n",
      "12/12 [==============================] - 0s 3ms/step - loss: 20.5141 - mae: 3.0893 - mse: 20.5141 - val_loss: 17.3203 - val_mae: 3.1954 - val_mse: 17.3203\n",
      "Epoch 87/500\n",
      "12/12 [==============================] - 0s 3ms/step - loss: 20.4639 - mae: 3.0787 - mse: 20.4639 - val_loss: 16.5638 - val_mae: 3.0516 - val_mse: 16.5638\n",
      "Epoch 88/500\n",
      "12/12 [==============================] - 0s 3ms/step - loss: 20.7279 - mae: 3.1443 - mse: 20.7279 - val_loss: 16.9302 - val_mae: 3.1300 - val_mse: 16.9302\n",
      "Epoch 89/500\n",
      "12/12 [==============================] - 0s 3ms/step - loss: 20.5205 - mae: 3.0511 - mse: 20.5205 - val_loss: 16.2710 - val_mae: 3.0215 - val_mse: 16.2710\n",
      "Epoch 90/500\n",
      "12/12 [==============================] - 0s 3ms/step - loss: 20.0396 - mae: 3.0455 - mse: 20.0396 - val_loss: 16.4675 - val_mae: 3.0913 - val_mse: 16.4675\n",
      "Epoch 91/500\n",
      "12/12 [==============================] - 0s 3ms/step - loss: 19.9704 - mae: 3.0409 - mse: 19.9704 - val_loss: 16.2264 - val_mae: 3.0385 - val_mse: 16.2264\n",
      "Epoch 92/500\n",
      "12/12 [==============================] - 0s 3ms/step - loss: 20.0413 - mae: 3.0101 - mse: 20.0413 - val_loss: 16.3155 - val_mae: 3.0545 - val_mse: 16.3155\n",
      "Epoch 93/500\n",
      "12/12 [==============================] - 0s 4ms/step - loss: 19.7885 - mae: 3.0162 - mse: 19.7885 - val_loss: 16.2715 - val_mae: 3.0476 - val_mse: 16.2715\n",
      "Epoch 94/500\n",
      "12/12 [==============================] - 0s 3ms/step - loss: 19.8155 - mae: 3.0258 - mse: 19.8155 - val_loss: 15.8723 - val_mae: 2.9914 - val_mse: 15.8723\n",
      "Epoch 95/500\n",
      "12/12 [==============================] - 0s 3ms/step - loss: 19.6299 - mae: 2.9905 - mse: 19.6299 - val_loss: 15.9660 - val_mae: 3.0240 - val_mse: 15.9660\n",
      "Epoch 96/500\n",
      "12/12 [==============================] - 0s 3ms/step - loss: 19.5413 - mae: 3.0049 - mse: 19.5413 - val_loss: 15.7499 - val_mae: 2.9879 - val_mse: 15.7499\n",
      "Epoch 97/500\n",
      "12/12 [==============================] - 0s 3ms/step - loss: 19.8996 - mae: 2.9697 - mse: 19.8996 - val_loss: 15.7352 - val_mae: 2.9978 - val_mse: 15.7352\n"
     ]
    },
    {
     "name": "stdout",
     "output_type": "stream",
     "text": [
      "Epoch 98/500\n",
      "12/12 [==============================] - 0s 3ms/step - loss: 19.5017 - mae: 3.0102 - mse: 19.5017 - val_loss: 16.1093 - val_mae: 3.0649 - val_mse: 16.1093\n",
      "Epoch 99/500\n",
      "12/12 [==============================] - 0s 3ms/step - loss: 19.5959 - mae: 2.9536 - mse: 19.5959 - val_loss: 15.1131 - val_mae: 2.9086 - val_mse: 15.1131\n",
      "Epoch 100/500\n",
      "12/12 [==============================] - 0s 3ms/step - loss: 19.2317 - mae: 2.9508 - mse: 19.2317 - val_loss: 15.4307 - val_mae: 2.9706 - val_mse: 15.4307\n",
      "Epoch 101/500\n",
      "12/12 [==============================] - 0s 3ms/step - loss: 19.3216 - mae: 2.9650 - mse: 19.3216 - val_loss: 15.0300 - val_mae: 2.9012 - val_mse: 15.0300\n",
      "Epoch 102/500\n",
      "12/12 [==============================] - 0s 3ms/step - loss: 18.9465 - mae: 2.9384 - mse: 18.9465 - val_loss: 15.6909 - val_mae: 3.0128 - val_mse: 15.6909\n",
      "Epoch 103/500\n",
      "12/12 [==============================] - 0s 3ms/step - loss: 18.9193 - mae: 2.9140 - mse: 18.9193 - val_loss: 15.0725 - val_mae: 2.9234 - val_mse: 15.0725\n",
      "Epoch 104/500\n",
      "12/12 [==============================] - 0s 3ms/step - loss: 18.7498 - mae: 2.9147 - mse: 18.7498 - val_loss: 14.9172 - val_mae: 2.9016 - val_mse: 14.9172\n",
      "Epoch 105/500\n",
      "12/12 [==============================] - 0s 3ms/step - loss: 18.7465 - mae: 2.9082 - mse: 18.7465 - val_loss: 14.7822 - val_mae: 2.8863 - val_mse: 14.7822\n",
      "Epoch 106/500\n",
      "12/12 [==============================] - 0s 3ms/step - loss: 18.6133 - mae: 2.8852 - mse: 18.6133 - val_loss: 14.7256 - val_mae: 2.8745 - val_mse: 14.7256\n",
      "Epoch 107/500\n",
      "12/12 [==============================] - 0s 3ms/step - loss: 18.4281 - mae: 2.8746 - mse: 18.4281 - val_loss: 14.7583 - val_mae: 2.9114 - val_mse: 14.7583\n",
      "Epoch 108/500\n",
      "12/12 [==============================] - 0s 3ms/step - loss: 18.4803 - mae: 2.8957 - mse: 18.4803 - val_loss: 14.3402 - val_mae: 2.8385 - val_mse: 14.3402\n",
      "Epoch 109/500\n",
      "12/12 [==============================] - 0s 3ms/step - loss: 18.2810 - mae: 2.8490 - mse: 18.2810 - val_loss: 14.4153 - val_mae: 2.8535 - val_mse: 14.4153\n",
      "Epoch 110/500\n",
      "12/12 [==============================] - 0s 3ms/step - loss: 18.1739 - mae: 2.8540 - mse: 18.1739 - val_loss: 14.5049 - val_mae: 2.8794 - val_mse: 14.5049\n",
      "Epoch 111/500\n",
      "12/12 [==============================] - 0s 3ms/step - loss: 18.1451 - mae: 2.8548 - mse: 18.1451 - val_loss: 14.2741 - val_mae: 2.8466 - val_mse: 14.2741\n",
      "Epoch 112/500\n",
      "12/12 [==============================] - 0s 3ms/step - loss: 18.1214 - mae: 2.8422 - mse: 18.1214 - val_loss: 14.4625 - val_mae: 2.8834 - val_mse: 14.4625\n",
      "Epoch 113/500\n",
      "12/12 [==============================] - 0s 3ms/step - loss: 18.1172 - mae: 2.8773 - mse: 18.1172 - val_loss: 14.0841 - val_mae: 2.8165 - val_mse: 14.0841\n",
      "Epoch 114/500\n",
      "12/12 [==============================] - 0s 3ms/step - loss: 17.9525 - mae: 2.8333 - mse: 17.9525 - val_loss: 14.0275 - val_mae: 2.8142 - val_mse: 14.0275\n",
      "Epoch 115/500\n",
      "12/12 [==============================] - 0s 3ms/step - loss: 17.9365 - mae: 2.8146 - mse: 17.9365 - val_loss: 13.5647 - val_mae: 2.7633 - val_mse: 13.5647\n",
      "Epoch 116/500\n",
      "12/12 [==============================] - 0s 3ms/step - loss: 17.8004 - mae: 2.8018 - mse: 17.8004 - val_loss: 13.6334 - val_mae: 2.7913 - val_mse: 13.6334\n",
      "Epoch 117/500\n",
      "12/12 [==============================] - 0s 3ms/step - loss: 17.7374 - mae: 2.7906 - mse: 17.7374 - val_loss: 13.9716 - val_mae: 2.8366 - val_mse: 13.9716\n",
      "Epoch 118/500\n",
      "12/12 [==============================] - 0s 3ms/step - loss: 17.7512 - mae: 2.8576 - mse: 17.7512 - val_loss: 14.1385 - val_mae: 2.8577 - val_mse: 14.1385\n",
      "Epoch 119/500\n",
      "12/12 [==============================] - 0s 3ms/step - loss: 17.9745 - mae: 2.8417 - mse: 17.9745 - val_loss: 13.6244 - val_mae: 2.7776 - val_mse: 13.6244\n",
      "Epoch 120/500\n",
      "12/12 [==============================] - 0s 3ms/step - loss: 17.5905 - mae: 2.8576 - mse: 17.5905 - val_loss: 13.7664 - val_mae: 2.8164 - val_mse: 13.7664\n",
      "Epoch 121/500\n",
      "12/12 [==============================] - 0s 3ms/step - loss: 17.2253 - mae: 2.7713 - mse: 17.2253 - val_loss: 13.2418 - val_mae: 2.7284 - val_mse: 13.2418\n",
      "Epoch 122/500\n",
      "12/12 [==============================] - 0s 3ms/step - loss: 17.3615 - mae: 2.7481 - mse: 17.3615 - val_loss: 13.4308 - val_mae: 2.7749 - val_mse: 13.4308\n",
      "Epoch 123/500\n",
      "12/12 [==============================] - 0s 3ms/step - loss: 17.4717 - mae: 2.7699 - mse: 17.4717 - val_loss: 12.9544 - val_mae: 2.7123 - val_mse: 12.9544\n",
      "Epoch 124/500\n",
      "12/12 [==============================] - 0s 3ms/step - loss: 17.1942 - mae: 2.7804 - mse: 17.1942 - val_loss: 13.4090 - val_mae: 2.7739 - val_mse: 13.4090\n",
      "Epoch 125/500\n",
      "12/12 [==============================] - 0s 3ms/step - loss: 16.9739 - mae: 2.7364 - mse: 16.9739 - val_loss: 13.2162 - val_mae: 2.7358 - val_mse: 13.2162\n",
      "Epoch 126/500\n",
      "12/12 [==============================] - 0s 3ms/step - loss: 17.0179 - mae: 2.7567 - mse: 17.0179 - val_loss: 13.1652 - val_mae: 2.7416 - val_mse: 13.1652\n",
      "Epoch 127/500\n",
      "12/12 [==============================] - 0s 3ms/step - loss: 16.8639 - mae: 2.7339 - mse: 16.8639 - val_loss: 13.0169 - val_mae: 2.7254 - val_mse: 13.0169\n",
      "Epoch 128/500\n",
      "12/12 [==============================] - 0s 3ms/step - loss: 16.8154 - mae: 2.6976 - mse: 16.8154 - val_loss: 12.9217 - val_mae: 2.7244 - val_mse: 12.9217\n",
      "Epoch 129/500\n",
      "12/12 [==============================] - 0s 3ms/step - loss: 16.7435 - mae: 2.7535 - mse: 16.7435 - val_loss: 12.7898 - val_mae: 2.7131 - val_mse: 12.7898\n",
      "Epoch 130/500\n",
      "12/12 [==============================] - 0s 3ms/step - loss: 16.6498 - mae: 2.7075 - mse: 16.6498 - val_loss: 12.6415 - val_mae: 2.6728 - val_mse: 12.6415\n",
      "Epoch 131/500\n",
      "12/12 [==============================] - 0s 3ms/step - loss: 16.6336 - mae: 2.6827 - mse: 16.6336 - val_loss: 12.7455 - val_mae: 2.7172 - val_mse: 12.7455\n",
      "Epoch 132/500\n",
      "12/12 [==============================] - 0s 3ms/step - loss: 16.8381 - mae: 2.8155 - mse: 16.8381 - val_loss: 12.6730 - val_mae: 2.7053 - val_mse: 12.6730\n",
      "Epoch 133/500\n",
      "12/12 [==============================] - 0s 3ms/step - loss: 16.6451 - mae: 2.7020 - mse: 16.6451 - val_loss: 12.8454 - val_mae: 2.7137 - val_mse: 12.8454\n",
      "Epoch 134/500\n",
      "12/12 [==============================] - 0s 3ms/step - loss: 16.3511 - mae: 2.6753 - mse: 16.3511 - val_loss: 12.4171 - val_mae: 2.6771 - val_mse: 12.4171\n",
      "Epoch 135/500\n",
      "12/12 [==============================] - 0s 3ms/step - loss: 16.2212 - mae: 2.6802 - mse: 16.2212 - val_loss: 12.7169 - val_mae: 2.7269 - val_mse: 12.7169\n",
      "Epoch 136/500\n",
      "12/12 [==============================] - 0s 3ms/step - loss: 16.1774 - mae: 2.6630 - mse: 16.1774 - val_loss: 12.3714 - val_mae: 2.6586 - val_mse: 12.3714\n",
      "Epoch 137/500\n",
      "12/12 [==============================] - 0s 3ms/step - loss: 16.2415 - mae: 2.6442 - mse: 16.2415 - val_loss: 12.6923 - val_mae: 2.7438 - val_mse: 12.6923\n",
      "Epoch 138/500\n",
      "12/12 [==============================] - 0s 3ms/step - loss: 16.0725 - mae: 2.6714 - mse: 16.0725 - val_loss: 12.3214 - val_mae: 2.6682 - val_mse: 12.3214\n",
      "Epoch 139/500\n",
      "12/12 [==============================] - 0s 3ms/step - loss: 15.9994 - mae: 2.6578 - mse: 15.9994 - val_loss: 12.1310 - val_mae: 2.6383 - val_mse: 12.1310\n",
      "Epoch 140/500\n",
      "12/12 [==============================] - 0s 3ms/step - loss: 16.0265 - mae: 2.6334 - mse: 16.0265 - val_loss: 12.5489 - val_mae: 2.7121 - val_mse: 12.5489\n",
      "Epoch 141/500\n",
      "12/12 [==============================] - 0s 3ms/step - loss: 16.0216 - mae: 2.6401 - mse: 16.0216 - val_loss: 11.8691 - val_mae: 2.6186 - val_mse: 11.8691\n",
      "Epoch 142/500\n",
      "12/12 [==============================] - 0s 3ms/step - loss: 15.7685 - mae: 2.6326 - mse: 15.7685 - val_loss: 12.2317 - val_mae: 2.6674 - val_mse: 12.2317\n",
      "Epoch 143/500\n",
      "12/12 [==============================] - 0s 3ms/step - loss: 15.6267 - mae: 2.6153 - mse: 15.6267 - val_loss: 12.0637 - val_mae: 2.6456 - val_mse: 12.0637\n",
      "Epoch 144/500\n",
      "12/12 [==============================] - 0s 3ms/step - loss: 15.6933 - mae: 2.6155 - mse: 15.6933 - val_loss: 12.1210 - val_mae: 2.6806 - val_mse: 12.1210\n",
      "Epoch 145/500\n",
      "12/12 [==============================] - 0s 3ms/step - loss: 15.5695 - mae: 2.6333 - mse: 15.5695 - val_loss: 11.9576 - val_mae: 2.6271 - val_mse: 11.9576\n",
      "Epoch 146/500\n",
      "12/12 [==============================] - 0s 3ms/step - loss: 15.5167 - mae: 2.5943 - mse: 15.5167 - val_loss: 12.0379 - val_mae: 2.6594 - val_mse: 12.0379\n",
      "Epoch 147/500\n",
      "12/12 [==============================] - 0s 3ms/step - loss: 15.3836 - mae: 2.5776 - mse: 15.3836 - val_loss: 11.6608 - val_mae: 2.6125 - val_mse: 11.6608\n",
      "Epoch 148/500\n",
      "12/12 [==============================] - 0s 3ms/step - loss: 15.5041 - mae: 2.5831 - mse: 15.5041 - val_loss: 11.4123 - val_mae: 2.5718 - val_mse: 11.4123\n",
      "Epoch 149/500\n",
      "12/12 [==============================] - 0s 3ms/step - loss: 15.2542 - mae: 2.5986 - mse: 15.2542 - val_loss: 11.9320 - val_mae: 2.6531 - val_mse: 11.9320\n",
      "Epoch 150/500\n",
      "12/12 [==============================] - 0s 3ms/step - loss: 15.3710 - mae: 2.5769 - mse: 15.3710 - val_loss: 11.4323 - val_mae: 2.5913 - val_mse: 11.4323\n",
      "Epoch 151/500\n",
      "12/12 [==============================] - 0s 3ms/step - loss: 15.0346 - mae: 2.5605 - mse: 15.0346 - val_loss: 11.8264 - val_mae: 2.6501 - val_mse: 11.8264\n",
      "Epoch 152/500\n",
      "12/12 [==============================] - 0s 3ms/step - loss: 15.0812 - mae: 2.5942 - mse: 15.0812 - val_loss: 11.4985 - val_mae: 2.5801 - val_mse: 11.4985\n",
      "Epoch 153/500\n",
      "12/12 [==============================] - 0s 3ms/step - loss: 15.0621 - mae: 2.5573 - mse: 15.0621 - val_loss: 11.6055 - val_mae: 2.6112 - val_mse: 11.6055\n",
      "Epoch 154/500\n",
      "12/12 [==============================] - 0s 3ms/step - loss: 14.9456 - mae: 2.5602 - mse: 14.9456 - val_loss: 11.5653 - val_mae: 2.5984 - val_mse: 11.5653\n",
      "Epoch 155/500\n",
      "12/12 [==============================] - 0s 3ms/step - loss: 14.7733 - mae: 2.5288 - mse: 14.7733 - val_loss: 11.1156 - val_mae: 2.5456 - val_mse: 11.1156\n",
      "Epoch 156/500\n",
      "12/12 [==============================] - 0s 3ms/step - loss: 14.8218 - mae: 2.5217 - mse: 14.8218 - val_loss: 11.1585 - val_mae: 2.5739 - val_mse: 11.1585\n",
      "Epoch 157/500\n",
      "12/12 [==============================] - 0s 3ms/step - loss: 14.7855 - mae: 2.5564 - mse: 14.7855 - val_loss: 11.1699 - val_mae: 2.5377 - val_mse: 11.1699\n",
      "Epoch 158/500\n",
      "12/12 [==============================] - 0s 3ms/step - loss: 14.6049 - mae: 2.5085 - mse: 14.6049 - val_loss: 11.1260 - val_mae: 2.5590 - val_mse: 11.1260\n",
      "Epoch 159/500\n",
      "12/12 [==============================] - 0s 3ms/step - loss: 14.5975 - mae: 2.5212 - mse: 14.5975 - val_loss: 10.9031 - val_mae: 2.5337 - val_mse: 10.9031\n",
      "Epoch 160/500\n",
      "12/12 [==============================] - 0s 3ms/step - loss: 14.5159 - mae: 2.5257 - mse: 14.5159 - val_loss: 10.9649 - val_mae: 2.5345 - val_mse: 10.9649\n",
      "Epoch 161/500\n",
      "12/12 [==============================] - 0s 3ms/step - loss: 14.4401 - mae: 2.4875 - mse: 14.4401 - val_loss: 10.9042 - val_mae: 2.5119 - val_mse: 10.9042\n",
      "Epoch 162/500\n",
      "12/12 [==============================] - 0s 3ms/step - loss: 14.3007 - mae: 2.5013 - mse: 14.3007 - val_loss: 10.8029 - val_mae: 2.5205 - val_mse: 10.8029\n",
      "Epoch 163/500\n",
      "12/12 [==============================] - 0s 3ms/step - loss: 14.3334 - mae: 2.4743 - mse: 14.3334 - val_loss: 11.0384 - val_mae: 2.5762 - val_mse: 11.0384\n",
      "Epoch 164/500\n",
      "12/12 [==============================] - 0s 3ms/step - loss: 14.2471 - mae: 2.5147 - mse: 14.2471 - val_loss: 10.8334 - val_mae: 2.5193 - val_mse: 10.8334\n",
      "Epoch 165/500\n",
      "12/12 [==============================] - 0s 3ms/step - loss: 14.2374 - mae: 2.4711 - mse: 14.2374 - val_loss: 10.6911 - val_mae: 2.5115 - val_mse: 10.6911\n",
      "Epoch 166/500\n",
      "12/12 [==============================] - 0s 3ms/step - loss: 14.0234 - mae: 2.5018 - mse: 14.0234 - val_loss: 10.6499 - val_mae: 2.5215 - val_mse: 10.6499\n",
      "Epoch 167/500\n",
      "12/12 [==============================] - 0s 3ms/step - loss: 14.2387 - mae: 2.4554 - mse: 14.2387 - val_loss: 10.5574 - val_mae: 2.5170 - val_mse: 10.5574\n",
      "Epoch 168/500\n",
      "12/12 [==============================] - 0s 3ms/step - loss: 14.0776 - mae: 2.5339 - mse: 14.0776 - val_loss: 10.4583 - val_mae: 2.4586 - val_mse: 10.4583\n",
      "Epoch 169/500\n",
      "12/12 [==============================] - 0s 4ms/step - loss: 14.1176 - mae: 2.4661 - mse: 14.1176 - val_loss: 10.9121 - val_mae: 2.5514 - val_mse: 10.9121\n",
      "Epoch 170/500\n",
      "12/12 [==============================] - 0s 4ms/step - loss: 13.7614 - mae: 2.4563 - mse: 13.7614 - val_loss: 10.2852 - val_mae: 2.4483 - val_mse: 10.2852\n",
      "Epoch 171/500\n",
      "12/12 [==============================] - 0s 3ms/step - loss: 13.7449 - mae: 2.4408 - mse: 13.7449 - val_loss: 10.1743 - val_mae: 2.4674 - val_mse: 10.1743\n",
      "Epoch 172/500\n",
      "12/12 [==============================] - 0s 3ms/step - loss: 13.7416 - mae: 2.4344 - mse: 13.7416 - val_loss: 10.5465 - val_mae: 2.5191 - val_mse: 10.5465\n",
      "Epoch 173/500\n",
      "12/12 [==============================] - 0s 3ms/step - loss: 13.5995 - mae: 2.4298 - mse: 13.5995 - val_loss: 10.1241 - val_mae: 2.4393 - val_mse: 10.1241\n",
      "Epoch 174/500\n",
      "12/12 [==============================] - 0s 3ms/step - loss: 13.7393 - mae: 2.4839 - mse: 13.7393 - val_loss: 10.1743 - val_mae: 2.4342 - val_mse: 10.1743\n",
      "Epoch 175/500\n",
      "12/12 [==============================] - 0s 3ms/step - loss: 13.4455 - mae: 2.4239 - mse: 13.4455 - val_loss: 10.2644 - val_mae: 2.4776 - val_mse: 10.2644\n",
      "Epoch 176/500\n",
      "12/12 [==============================] - 0s 3ms/step - loss: 13.3686 - mae: 2.4194 - mse: 13.3686 - val_loss: 10.0391 - val_mae: 2.4334 - val_mse: 10.0391\n",
      "Epoch 177/500\n",
      "12/12 [==============================] - 0s 3ms/step - loss: 13.4273 - mae: 2.4112 - mse: 13.4273 - val_loss: 9.8365 - val_mae: 2.4129 - val_mse: 9.8365\n",
      "Epoch 178/500\n",
      "12/12 [==============================] - 0s 3ms/step - loss: 13.3424 - mae: 2.4423 - mse: 13.3424 - val_loss: 10.1664 - val_mae: 2.4428 - val_mse: 10.1664\n",
      "Epoch 179/500\n",
      "12/12 [==============================] - 0s 3ms/step - loss: 13.3181 - mae: 2.4289 - mse: 13.3181 - val_loss: 10.0612 - val_mae: 2.4202 - val_mse: 10.0612\n",
      "Epoch 180/500\n",
      "12/12 [==============================] - 0s 3ms/step - loss: 13.3364 - mae: 2.4041 - mse: 13.3364 - val_loss: 9.6480 - val_mae: 2.3971 - val_mse: 9.6480\n",
      "Epoch 181/500\n",
      "12/12 [==============================] - 0s 3ms/step - loss: 13.2560 - mae: 2.4268 - mse: 13.2560 - val_loss: 9.4712 - val_mae: 2.3484 - val_mse: 9.4712\n",
      "Epoch 182/500\n",
      "12/12 [==============================] - 0s 3ms/step - loss: 13.0453 - mae: 2.4030 - mse: 13.0453 - val_loss: 10.0591 - val_mae: 2.4361 - val_mse: 10.0591\n",
      "Epoch 183/500\n",
      "12/12 [==============================] - 0s 3ms/step - loss: 13.1650 - mae: 2.4032 - mse: 13.1650 - val_loss: 9.7924 - val_mae: 2.3920 - val_mse: 9.7924\n",
      "Epoch 184/500\n",
      "12/12 [==============================] - 0s 3ms/step - loss: 13.1106 - mae: 2.4361 - mse: 13.1106 - val_loss: 9.4606 - val_mae: 2.3584 - val_mse: 9.4606\n",
      "Epoch 185/500\n",
      "12/12 [==============================] - 0s 3ms/step - loss: 12.8698 - mae: 2.3790 - mse: 12.8698 - val_loss: 9.6494 - val_mae: 2.3961 - val_mse: 9.6494\n",
      "Epoch 186/500\n",
      "12/12 [==============================] - 0s 3ms/step - loss: 12.9674 - mae: 2.4190 - mse: 12.9674 - val_loss: 9.7259 - val_mae: 2.3703 - val_mse: 9.7259\n",
      "Epoch 187/500\n",
      "12/12 [==============================] - 0s 3ms/step - loss: 12.7827 - mae: 2.3625 - mse: 12.7827 - val_loss: 9.6552 - val_mae: 2.4027 - val_mse: 9.6552\n",
      "Epoch 188/500\n",
      "12/12 [==============================] - 0s 3ms/step - loss: 12.8428 - mae: 2.4557 - mse: 12.8428 - val_loss: 9.4552 - val_mae: 2.3503 - val_mse: 9.4552\n",
      "Epoch 189/500\n",
      "12/12 [==============================] - 0s 3ms/step - loss: 12.6838 - mae: 2.3644 - mse: 12.6838 - val_loss: 9.4452 - val_mae: 2.3632 - val_mse: 9.4452\n",
      "Epoch 190/500\n",
      "12/12 [==============================] - 0s 3ms/step - loss: 12.6755 - mae: 2.3813 - mse: 12.6755 - val_loss: 9.1581 - val_mae: 2.3154 - val_mse: 9.1581\n",
      "Epoch 191/500\n",
      "12/12 [==============================] - 0s 3ms/step - loss: 12.5888 - mae: 2.3520 - mse: 12.5888 - val_loss: 9.4687 - val_mae: 2.3797 - val_mse: 9.4687\n",
      "Epoch 192/500\n",
      "12/12 [==============================] - 0s 3ms/step - loss: 12.5686 - mae: 2.3575 - mse: 12.5686 - val_loss: 9.0571 - val_mae: 2.3251 - val_mse: 9.0571\n",
      "Epoch 193/500\n",
      "12/12 [==============================] - 0s 4ms/step - loss: 12.4774 - mae: 2.3680 - mse: 12.4774 - val_loss: 8.9465 - val_mae: 2.2756 - val_mse: 8.9465\n",
      "Epoch 194/500\n",
      "12/12 [==============================] - 0s 4ms/step - loss: 12.3975 - mae: 2.3538 - mse: 12.3975 - val_loss: 9.2103 - val_mae: 2.3217 - val_mse: 9.2103\n"
     ]
    },
    {
     "name": "stdout",
     "output_type": "stream",
     "text": [
      "Epoch 195/500\n",
      "12/12 [==============================] - 0s 3ms/step - loss: 12.4745 - mae: 2.3845 - mse: 12.4745 - val_loss: 9.1861 - val_mae: 2.3098 - val_mse: 9.1861\n",
      "Epoch 196/500\n",
      "12/12 [==============================] - 0s 3ms/step - loss: 12.4593 - mae: 2.3927 - mse: 12.4593 - val_loss: 9.5003 - val_mae: 2.3943 - val_mse: 9.5003\n",
      "Epoch 197/500\n",
      "12/12 [==============================] - 0s 3ms/step - loss: 12.1635 - mae: 2.3437 - mse: 12.1635 - val_loss: 9.0750 - val_mae: 2.2927 - val_mse: 9.0750\n",
      "Epoch 198/500\n",
      "12/12 [==============================] - 0s 3ms/step - loss: 12.2000 - mae: 2.3483 - mse: 12.2000 - val_loss: 9.0827 - val_mae: 2.3177 - val_mse: 9.0827\n",
      "Epoch 199/500\n",
      "12/12 [==============================] - 0s 3ms/step - loss: 12.0820 - mae: 2.3352 - mse: 12.0820 - val_loss: 8.8782 - val_mae: 2.2834 - val_mse: 8.8782\n",
      "Epoch 200/500\n",
      "12/12 [==============================] - 0s 3ms/step - loss: 12.2041 - mae: 2.3480 - mse: 12.2041 - val_loss: 9.5482 - val_mae: 2.3917 - val_mse: 9.5482\n",
      "Epoch 201/500\n",
      "12/12 [==============================] - 0s 3ms/step - loss: 12.0583 - mae: 2.3497 - mse: 12.0583 - val_loss: 8.8857 - val_mae: 2.2903 - val_mse: 8.8857\n",
      "Epoch 202/500\n",
      "12/12 [==============================] - 0s 3ms/step - loss: 12.0641 - mae: 2.3356 - mse: 12.0641 - val_loss: 8.8436 - val_mae: 2.2868 - val_mse: 8.8436\n",
      "Epoch 203/500\n",
      "12/12 [==============================] - 0s 3ms/step - loss: 11.9367 - mae: 2.3266 - mse: 11.9367 - val_loss: 8.8290 - val_mae: 2.3050 - val_mse: 8.8290\n",
      "Epoch 204/500\n",
      "12/12 [==============================] - 0s 3ms/step - loss: 12.0661 - mae: 2.3307 - mse: 12.0661 - val_loss: 9.2094 - val_mae: 2.3466 - val_mse: 9.2094\n",
      "Epoch 205/500\n",
      "12/12 [==============================] - 0s 3ms/step - loss: 11.8463 - mae: 2.3283 - mse: 11.8463 - val_loss: 8.7448 - val_mae: 2.2507 - val_mse: 8.7448\n",
      "Epoch 206/500\n",
      "12/12 [==============================] - 0s 3ms/step - loss: 11.8939 - mae: 2.2884 - mse: 11.8939 - val_loss: 9.1184 - val_mae: 2.3711 - val_mse: 9.1184\n",
      "Epoch 207/500\n",
      "12/12 [==============================] - 0s 3ms/step - loss: 12.1768 - mae: 2.4029 - mse: 12.1768 - val_loss: 8.7180 - val_mae: 2.2414 - val_mse: 8.7180\n",
      "Epoch 208/500\n",
      "12/12 [==============================] - 0s 3ms/step - loss: 11.7498 - mae: 2.3217 - mse: 11.7498 - val_loss: 9.1295 - val_mae: 2.3442 - val_mse: 9.1295\n",
      "Epoch 209/500\n",
      "12/12 [==============================] - 0s 3ms/step - loss: 11.8240 - mae: 2.2921 - mse: 11.8240 - val_loss: 8.8348 - val_mae: 2.2990 - val_mse: 8.8348\n",
      "Epoch 210/500\n",
      "12/12 [==============================] - 0s 4ms/step - loss: 11.8588 - mae: 2.3034 - mse: 11.8588 - val_loss: 8.2343 - val_mae: 2.2181 - val_mse: 8.2343\n",
      "Epoch 211/500\n",
      "12/12 [==============================] - 0s 3ms/step - loss: 11.5566 - mae: 2.3215 - mse: 11.5566 - val_loss: 8.6668 - val_mae: 2.2482 - val_mse: 8.6668\n",
      "Epoch 212/500\n",
      "12/12 [==============================] - 0s 3ms/step - loss: 11.5414 - mae: 2.2893 - mse: 11.5414 - val_loss: 8.4118 - val_mae: 2.2208 - val_mse: 8.4118\n",
      "Epoch 213/500\n",
      "12/12 [==============================] - 0s 3ms/step - loss: 11.7574 - mae: 2.3618 - mse: 11.7574 - val_loss: 8.3647 - val_mae: 2.2105 - val_mse: 8.3647\n",
      "Epoch 214/500\n",
      "12/12 [==============================] - 0s 3ms/step - loss: 11.7033 - mae: 2.3050 - mse: 11.7033 - val_loss: 8.7088 - val_mae: 2.2831 - val_mse: 8.7088\n",
      "Epoch 215/500\n",
      "12/12 [==============================] - 0s 3ms/step - loss: 11.4466 - mae: 2.3039 - mse: 11.4466 - val_loss: 8.4740 - val_mae: 2.2131 - val_mse: 8.4740\n",
      "Epoch 216/500\n",
      "12/12 [==============================] - 0s 3ms/step - loss: 11.5137 - mae: 2.2735 - mse: 11.5137 - val_loss: 9.0235 - val_mae: 2.3811 - val_mse: 9.0235\n",
      "Epoch 217/500\n",
      "12/12 [==============================] - 0s 3ms/step - loss: 11.5646 - mae: 2.3031 - mse: 11.5646 - val_loss: 8.2540 - val_mae: 2.1854 - val_mse: 8.2540\n",
      "Epoch 218/500\n",
      "12/12 [==============================] - 0s 3ms/step - loss: 11.2106 - mae: 2.2371 - mse: 11.2106 - val_loss: 9.1258 - val_mae: 2.3757 - val_mse: 9.1258\n",
      "Epoch 219/500\n",
      "12/12 [==============================] - 0s 3ms/step - loss: 11.4035 - mae: 2.3025 - mse: 11.4035 - val_loss: 8.3454 - val_mae: 2.2107 - val_mse: 8.3454\n",
      "Epoch 220/500\n",
      "12/12 [==============================] - 0s 3ms/step - loss: 11.2437 - mae: 2.2876 - mse: 11.2437 - val_loss: 8.4474 - val_mae: 2.2216 - val_mse: 8.4474\n",
      "Epoch 221/500\n",
      "12/12 [==============================] - 0s 3ms/step - loss: 11.2118 - mae: 2.2699 - mse: 11.2118 - val_loss: 8.4833 - val_mae: 2.2720 - val_mse: 8.4833\n",
      "Epoch 222/500\n",
      "12/12 [==============================] - 0s 3ms/step - loss: 11.1638 - mae: 2.2661 - mse: 11.1638 - val_loss: 8.3639 - val_mae: 2.2365 - val_mse: 8.3639\n",
      "Epoch 223/500\n",
      "12/12 [==============================] - 0s 3ms/step - loss: 11.1338 - mae: 2.2836 - mse: 11.1338 - val_loss: 8.0788 - val_mae: 2.1883 - val_mse: 8.0788\n",
      "Epoch 224/500\n",
      "12/12 [==============================] - 0s 3ms/step - loss: 11.0706 - mae: 2.2579 - mse: 11.0706 - val_loss: 8.0586 - val_mae: 2.2019 - val_mse: 8.0586\n",
      "Epoch 225/500\n",
      "12/12 [==============================] - 0s 3ms/step - loss: 10.9401 - mae: 2.2563 - mse: 10.9401 - val_loss: 8.2375 - val_mae: 2.2060 - val_mse: 8.2375\n",
      "Epoch 226/500\n",
      "12/12 [==============================] - 0s 3ms/step - loss: 10.9469 - mae: 2.2612 - mse: 10.9469 - val_loss: 8.0044 - val_mae: 2.1857 - val_mse: 8.0044\n",
      "Epoch 227/500\n",
      "12/12 [==============================] - 0s 3ms/step - loss: 11.0010 - mae: 2.2477 - mse: 11.0010 - val_loss: 8.2504 - val_mae: 2.2101 - val_mse: 8.2504\n",
      "Epoch 228/500\n",
      "12/12 [==============================] - 0s 3ms/step - loss: 10.8715 - mae: 2.2659 - mse: 10.8715 - val_loss: 8.1772 - val_mae: 2.1978 - val_mse: 8.1772\n",
      "Epoch 229/500\n",
      "12/12 [==============================] - 0s 3ms/step - loss: 11.5948 - mae: 2.3612 - mse: 11.5948 - val_loss: 8.5220 - val_mae: 2.3156 - val_mse: 8.5220\n",
      "Epoch 230/500\n",
      "12/12 [==============================] - 0s 3ms/step - loss: 10.9784 - mae: 2.2359 - mse: 10.9784 - val_loss: 7.9716 - val_mae: 2.1579 - val_mse: 7.9716\n",
      "Epoch 231/500\n",
      "12/12 [==============================] - 0s 3ms/step - loss: 10.7723 - mae: 2.2613 - mse: 10.7723 - val_loss: 8.1269 - val_mae: 2.2074 - val_mse: 8.1269\n",
      "Epoch 232/500\n",
      "12/12 [==============================] - 0s 3ms/step - loss: 10.8999 - mae: 2.2367 - mse: 10.8999 - val_loss: 7.9223 - val_mae: 2.1876 - val_mse: 7.9223\n",
      "Epoch 233/500\n",
      "12/12 [==============================] - 0s 3ms/step - loss: 11.0967 - mae: 2.3280 - mse: 11.0967 - val_loss: 8.1182 - val_mae: 2.1742 - val_mse: 8.1182\n",
      "Epoch 234/500\n",
      "12/12 [==============================] - 0s 3ms/step - loss: 11.3332 - mae: 2.2885 - mse: 11.3332 - val_loss: 8.9985 - val_mae: 2.3546 - val_mse: 8.9985\n",
      "Epoch 235/500\n",
      "12/12 [==============================] - 0s 3ms/step - loss: 11.0203 - mae: 2.3001 - mse: 11.0203 - val_loss: 7.6434 - val_mae: 2.1465 - val_mse: 7.6434\n",
      "Epoch 236/500\n",
      "12/12 [==============================] - 0s 3ms/step - loss: 10.8154 - mae: 2.2782 - mse: 10.8154 - val_loss: 7.7142 - val_mae: 2.1490 - val_mse: 7.7142\n",
      "Epoch 237/500\n",
      "12/12 [==============================] - 0s 3ms/step - loss: 10.5938 - mae: 2.2032 - mse: 10.5938 - val_loss: 7.9114 - val_mae: 2.1719 - val_mse: 7.9114\n",
      "Epoch 238/500\n",
      "12/12 [==============================] - 0s 3ms/step - loss: 10.5701 - mae: 2.2258 - mse: 10.5701 - val_loss: 8.0230 - val_mae: 2.1716 - val_mse: 8.0230\n",
      "Epoch 239/500\n",
      "12/12 [==============================] - 0s 3ms/step - loss: 10.4768 - mae: 2.2283 - mse: 10.4768 - val_loss: 7.6857 - val_mae: 2.1411 - val_mse: 7.6857\n",
      "Epoch 240/500\n",
      "12/12 [==============================] - 0s 3ms/step - loss: 10.4691 - mae: 2.2004 - mse: 10.4691 - val_loss: 7.6259 - val_mae: 2.1475 - val_mse: 7.6259\n",
      "Epoch 241/500\n",
      "12/12 [==============================] - 0s 3ms/step - loss: 10.6189 - mae: 2.2541 - mse: 10.6189 - val_loss: 7.9567 - val_mae: 2.1511 - val_mse: 7.9567\n",
      "Epoch 242/500\n",
      "12/12 [==============================] - 0s 3ms/step - loss: 10.4738 - mae: 2.2106 - mse: 10.4738 - val_loss: 7.5638 - val_mae: 2.1349 - val_mse: 7.5638\n",
      "Epoch 243/500\n",
      "12/12 [==============================] - 0s 3ms/step - loss: 10.4745 - mae: 2.2129 - mse: 10.4745 - val_loss: 7.5719 - val_mae: 2.1235 - val_mse: 7.5719\n",
      "Epoch 244/500\n"
     ]
    },
    {
     "name": "stdout",
     "output_type": "stream",
     "text": [
      "12/12 [==============================] - 0s 3ms/step - loss: 10.5631 - mae: 2.2015 - mse: 10.5631 - val_loss: 8.0448 - val_mae: 2.2309 - val_mse: 8.0448\n",
      "Epoch 245/500\n",
      "12/12 [==============================] - 0s 3ms/step - loss: 10.2853 - mae: 2.2140 - mse: 10.2853 - val_loss: 7.6291 - val_mae: 2.1177 - val_mse: 7.6291\n",
      "Epoch 246/500\n",
      "12/12 [==============================] - 0s 3ms/step - loss: 10.3462 - mae: 2.2058 - mse: 10.3462 - val_loss: 8.3932 - val_mae: 2.2853 - val_mse: 8.3932\n",
      "Epoch 247/500\n",
      "12/12 [==============================] - 0s 3ms/step - loss: 10.5552 - mae: 2.2402 - mse: 10.5552 - val_loss: 7.5165 - val_mae: 2.1068 - val_mse: 7.5165\n",
      "Epoch 248/500\n",
      "12/12 [==============================] - 0s 3ms/step - loss: 10.1766 - mae: 2.2072 - mse: 10.1766 - val_loss: 7.9012 - val_mae: 2.1728 - val_mse: 7.9012\n",
      "Epoch 249/500\n",
      "12/12 [==============================] - 0s 3ms/step - loss: 10.1855 - mae: 2.2120 - mse: 10.1855 - val_loss: 7.4828 - val_mae: 2.0964 - val_mse: 7.4828\n",
      "Epoch 250/500\n",
      "12/12 [==============================] - 0s 3ms/step - loss: 10.4373 - mae: 2.2165 - mse: 10.4373 - val_loss: 7.9006 - val_mae: 2.1871 - val_mse: 7.9006\n",
      "Epoch 251/500\n",
      "12/12 [==============================] - 0s 3ms/step - loss: 10.2611 - mae: 2.1690 - mse: 10.2611 - val_loss: 7.3684 - val_mae: 2.0975 - val_mse: 7.3684\n",
      "Epoch 252/500\n",
      "12/12 [==============================] - 0s 3ms/step - loss: 10.2982 - mae: 2.2403 - mse: 10.2982 - val_loss: 7.2147 - val_mae: 2.0722 - val_mse: 7.2147\n",
      "Epoch 253/500\n",
      "12/12 [==============================] - 0s 3ms/step - loss: 10.3898 - mae: 2.2163 - mse: 10.3898 - val_loss: 7.6365 - val_mae: 2.1036 - val_mse: 7.6365\n",
      "Epoch 254/500\n",
      "12/12 [==============================] - 0s 3ms/step - loss: 9.9835 - mae: 2.1757 - mse: 9.9835 - val_loss: 7.3379 - val_mae: 2.1065 - val_mse: 7.3379\n",
      "Epoch 255/500\n",
      "12/12 [==============================] - 0s 3ms/step - loss: 10.0753 - mae: 2.1940 - mse: 10.0753 - val_loss: 7.2200 - val_mae: 2.0884 - val_mse: 7.2200\n",
      "Epoch 256/500\n",
      "12/12 [==============================] - 0s 3ms/step - loss: 9.9847 - mae: 2.1596 - mse: 9.9847 - val_loss: 7.8162 - val_mae: 2.1676 - val_mse: 7.8162\n",
      "Epoch 257/500\n",
      "12/12 [==============================] - 0s 3ms/step - loss: 10.3626 - mae: 2.2732 - mse: 10.3626 - val_loss: 7.7316 - val_mae: 2.1149 - val_mse: 7.7316\n",
      "Epoch 258/500\n",
      "12/12 [==============================] - 0s 3ms/step - loss: 10.0736 - mae: 2.1920 - mse: 10.0736 - val_loss: 7.4851 - val_mae: 2.1228 - val_mse: 7.4851\n",
      "Epoch 259/500\n",
      "12/12 [==============================] - 0s 3ms/step - loss: 9.9931 - mae: 2.1736 - mse: 9.9931 - val_loss: 7.3941 - val_mae: 2.1092 - val_mse: 7.3941\n",
      "Epoch 260/500\n",
      "12/12 [==============================] - 0s 3ms/step - loss: 9.9694 - mae: 2.1660 - mse: 9.9694 - val_loss: 7.1970 - val_mae: 2.0699 - val_mse: 7.1970\n",
      "Epoch 261/500\n",
      "12/12 [==============================] - 0s 3ms/step - loss: 9.8856 - mae: 2.1758 - mse: 9.8856 - val_loss: 7.2635 - val_mae: 2.0741 - val_mse: 7.2635\n",
      "Epoch 262/500\n",
      "12/12 [==============================] - 0s 3ms/step - loss: 9.9698 - mae: 2.2127 - mse: 9.9698 - val_loss: 7.4033 - val_mae: 2.0831 - val_mse: 7.4033\n",
      "Epoch 263/500\n",
      "12/12 [==============================] - 0s 3ms/step - loss: 10.0547 - mae: 2.1756 - mse: 10.0547 - val_loss: 7.4002 - val_mae: 2.1273 - val_mse: 7.4002\n",
      "Epoch 264/500\n",
      "12/12 [==============================] - 0s 3ms/step - loss: 9.8331 - mae: 2.1926 - mse: 9.8331 - val_loss: 7.3951 - val_mae: 2.0819 - val_mse: 7.3951\n",
      "Epoch 265/500\n",
      "12/12 [==============================] - 0s 3ms/step - loss: 10.0553 - mae: 2.1768 - mse: 10.0553 - val_loss: 7.6333 - val_mae: 2.1406 - val_mse: 7.6333\n",
      "Epoch 266/500\n",
      "12/12 [==============================] - 0s 3ms/step - loss: 9.8774 - mae: 2.2018 - mse: 9.8774 - val_loss: 7.2511 - val_mae: 2.0573 - val_mse: 7.2511\n",
      "Epoch 267/500\n",
      "12/12 [==============================] - 0s 3ms/step - loss: 10.3279 - mae: 2.2063 - mse: 10.3279 - val_loss: 8.1524 - val_mae: 2.2657 - val_mse: 8.1524\n",
      "Epoch 268/500\n",
      "12/12 [==============================] - 0s 3ms/step - loss: 10.4188 - mae: 2.2865 - mse: 10.4188 - val_loss: 7.4741 - val_mae: 2.0873 - val_mse: 7.4741\n",
      "Epoch 269/500\n",
      "12/12 [==============================] - 0s 3ms/step - loss: 9.6438 - mae: 2.1584 - mse: 9.6438 - val_loss: 7.5079 - val_mae: 2.1211 - val_mse: 7.5079\n",
      "Epoch 270/500\n",
      "12/12 [==============================] - 0s 4ms/step - loss: 9.6997 - mae: 2.1721 - mse: 9.6997 - val_loss: 7.1125 - val_mae: 2.0463 - val_mse: 7.1125\n",
      "Epoch 271/500\n",
      "12/12 [==============================] - 0s 3ms/step - loss: 9.6503 - mae: 2.1379 - mse: 9.6503 - val_loss: 7.2533 - val_mae: 2.0789 - val_mse: 7.2533\n",
      "Epoch 272/500\n",
      "12/12 [==============================] - 0s 3ms/step - loss: 9.9119 - mae: 2.1978 - mse: 9.9119 - val_loss: 7.0681 - val_mae: 2.0375 - val_mse: 7.0681\n",
      "Epoch 273/500\n",
      "12/12 [==============================] - 0s 3ms/step - loss: 9.5974 - mae: 2.1529 - mse: 9.5974 - val_loss: 7.2055 - val_mae: 2.0579 - val_mse: 7.2055\n",
      "Epoch 274/500\n",
      "12/12 [==============================] - 0s 3ms/step - loss: 9.5570 - mae: 2.1395 - mse: 9.5570 - val_loss: 7.0063 - val_mae: 2.0333 - val_mse: 7.0063\n",
      "Epoch 275/500\n",
      "12/12 [==============================] - 0s 3ms/step - loss: 9.5845 - mae: 2.1487 - mse: 9.5845 - val_loss: 7.3012 - val_mae: 2.0690 - val_mse: 7.3012\n",
      "Epoch 276/500\n",
      "12/12 [==============================] - 0s 3ms/step - loss: 9.6335 - mae: 2.1768 - mse: 9.6335 - val_loss: 7.1959 - val_mae: 2.0474 - val_mse: 7.1959\n",
      "Epoch 277/500\n",
      "12/12 [==============================] - 0s 3ms/step - loss: 9.7522 - mae: 2.1733 - mse: 9.7522 - val_loss: 6.9212 - val_mae: 2.0420 - val_mse: 6.9212\n",
      "Epoch 278/500\n",
      "12/12 [==============================] - 0s 3ms/step - loss: 9.9410 - mae: 2.1770 - mse: 9.9410 - val_loss: 7.3596 - val_mae: 2.0688 - val_mse: 7.3596\n",
      "Epoch 279/500\n",
      "12/12 [==============================] - 0s 3ms/step - loss: 9.4693 - mae: 2.1446 - mse: 9.4693 - val_loss: 7.2268 - val_mae: 2.0548 - val_mse: 7.2268\n",
      "Epoch 280/500\n",
      "12/12 [==============================] - 0s 3ms/step - loss: 9.9509 - mae: 2.2270 - mse: 9.9509 - val_loss: 7.7144 - val_mae: 2.1517 - val_mse: 7.7144\n",
      "Epoch 281/500\n",
      "12/12 [==============================] - 0s 3ms/step - loss: 9.4383 - mae: 2.1548 - mse: 9.4383 - val_loss: 6.9090 - val_mae: 2.0227 - val_mse: 6.9090\n",
      "Epoch 282/500\n",
      "12/12 [==============================] - 0s 3ms/step - loss: 9.5372 - mae: 2.1589 - mse: 9.5372 - val_loss: 6.9257 - val_mae: 2.0246 - val_mse: 6.9257\n",
      "Epoch 283/500\n",
      "12/12 [==============================] - 0s 3ms/step - loss: 9.4263 - mae: 2.1244 - mse: 9.4263 - val_loss: 7.0921 - val_mae: 2.0407 - val_mse: 7.0921\n",
      "Epoch 284/500\n",
      "12/12 [==============================] - 0s 3ms/step - loss: 9.3937 - mae: 2.1470 - mse: 9.3937 - val_loss: 7.0265 - val_mae: 2.0278 - val_mse: 7.0265\n",
      "Epoch 285/500\n",
      "12/12 [==============================] - 0s 3ms/step - loss: 9.5555 - mae: 2.1438 - mse: 9.5555 - val_loss: 7.5480 - val_mae: 2.1240 - val_mse: 7.5480\n",
      "Epoch 286/500\n",
      "12/12 [==============================] - 0s 3ms/step - loss: 9.6744 - mae: 2.1914 - mse: 9.6744 - val_loss: 7.0244 - val_mae: 2.0125 - val_mse: 7.0244\n",
      "Epoch 287/500\n",
      "12/12 [==============================] - 0s 3ms/step - loss: 9.2706 - mae: 2.1176 - mse: 9.2706 - val_loss: 7.1649 - val_mae: 2.0401 - val_mse: 7.1649\n",
      "Epoch 288/500\n",
      "12/12 [==============================] - 0s 3ms/step - loss: 9.4085 - mae: 2.1331 - mse: 9.4085 - val_loss: 7.2377 - val_mae: 2.0587 - val_mse: 7.2377\n",
      "Epoch 289/500\n",
      "12/12 [==============================] - 0s 3ms/step - loss: 9.4091 - mae: 2.1456 - mse: 9.4091 - val_loss: 6.9567 - val_mae: 2.0221 - val_mse: 6.9567\n",
      "Epoch 290/500\n",
      "12/12 [==============================] - 0s 3ms/step - loss: 9.2605 - mae: 2.1195 - mse: 9.2605 - val_loss: 6.9888 - val_mae: 2.0163 - val_mse: 6.9888\n",
      "Epoch 291/500\n",
      "12/12 [==============================] - 0s 3ms/step - loss: 9.3835 - mae: 2.1509 - mse: 9.3835 - val_loss: 6.9375 - val_mae: 2.0144 - val_mse: 6.9375\n",
      "Epoch 292/500\n",
      "12/12 [==============================] - 0s 3ms/step - loss: 9.2593 - mae: 2.1105 - mse: 9.2593 - val_loss: 7.1790 - val_mae: 2.0754 - val_mse: 7.1790\n",
      "Epoch 293/500\n",
      "12/12 [==============================] - 0s 3ms/step - loss: 9.6837 - mae: 2.2091 - mse: 9.6837 - val_loss: 7.2196 - val_mae: 2.0377 - val_mse: 7.2196\n",
      "Epoch 294/500\n",
      "12/12 [==============================] - 0s 3ms/step - loss: 9.2952 - mae: 2.1371 - mse: 9.2952 - val_loss: 7.2904 - val_mae: 2.0579 - val_mse: 7.2904\n",
      "Epoch 295/500\n",
      "12/12 [==============================] - 0s 3ms/step - loss: 9.7383 - mae: 2.1661 - mse: 9.7383 - val_loss: 7.4040 - val_mae: 2.1103 - val_mse: 7.4040\n",
      "Epoch 296/500\n",
      "12/12 [==============================] - 0s 3ms/step - loss: 9.5590 - mae: 2.2205 - mse: 9.5590 - val_loss: 7.3428 - val_mae: 2.0653 - val_mse: 7.3428\n",
      "Epoch 297/500\n",
      "12/12 [==============================] - 0s 3ms/step - loss: 9.3372 - mae: 2.1585 - mse: 9.3372 - val_loss: 7.6342 - val_mae: 2.1208 - val_mse: 7.6342\n",
      "Epoch 298/500\n",
      "12/12 [==============================] - 0s 3ms/step - loss: 9.5597 - mae: 2.1577 - mse: 9.5597 - val_loss: 6.7239 - val_mae: 1.9849 - val_mse: 6.7239\n",
      "Epoch 299/500\n",
      "12/12 [==============================] - 0s 3ms/step - loss: 9.6970 - mae: 2.1877 - mse: 9.6970 - val_loss: 7.2351 - val_mae: 2.0520 - val_mse: 7.2351\n",
      "Epoch 300/500\n",
      "12/12 [==============================] - 0s 3ms/step - loss: 9.3288 - mae: 2.1289 - mse: 9.3288 - val_loss: 7.3429 - val_mae: 2.0879 - val_mse: 7.3429\n",
      "Epoch 301/500\n",
      "12/12 [==============================] - 0s 3ms/step - loss: 9.3660 - mae: 2.1681 - mse: 9.3660 - val_loss: 7.1185 - val_mae: 2.0326 - val_mse: 7.1185\n",
      "Epoch 302/500\n",
      "12/12 [==============================] - 0s 3ms/step - loss: 9.5960 - mae: 2.2106 - mse: 9.5960 - val_loss: 6.7723 - val_mae: 1.9811 - val_mse: 6.7723\n",
      "Epoch 303/500\n",
      "12/12 [==============================] - 0s 3ms/step - loss: 9.3439 - mae: 2.1333 - mse: 9.3439 - val_loss: 7.4429 - val_mae: 2.0534 - val_mse: 7.4429\n",
      "Epoch 304/500\n",
      "12/12 [==============================] - 0s 3ms/step - loss: 9.0600 - mae: 2.1233 - mse: 9.0600 - val_loss: 6.8596 - val_mae: 1.9923 - val_mse: 6.8596\n",
      "Epoch 305/500\n",
      "12/12 [==============================] - 0s 3ms/step - loss: 9.0301 - mae: 2.0894 - mse: 9.0301 - val_loss: 6.8974 - val_mae: 2.0092 - val_mse: 6.8974\n",
      "Epoch 306/500\n",
      "12/12 [==============================] - 0s 3ms/step - loss: 9.2100 - mae: 2.1180 - mse: 9.2100 - val_loss: 6.9512 - val_mae: 2.0004 - val_mse: 6.9512\n",
      "Epoch 307/500\n",
      "12/12 [==============================] - 0s 3ms/step - loss: 9.1850 - mae: 2.1177 - mse: 9.1850 - val_loss: 7.0645 - val_mae: 2.0068 - val_mse: 7.0645\n",
      "Epoch 308/500\n",
      "12/12 [==============================] - 0s 3ms/step - loss: 9.0890 - mae: 2.0915 - mse: 9.0890 - val_loss: 6.6528 - val_mae: 1.9863 - val_mse: 6.6528\n",
      "Epoch 309/500\n",
      "12/12 [==============================] - 0s 3ms/step - loss: 9.0680 - mae: 2.1197 - mse: 9.0680 - val_loss: 6.8876 - val_mae: 1.9820 - val_mse: 6.8876\n",
      "Epoch 310/500\n",
      "12/12 [==============================] - 0s 3ms/step - loss: 9.0417 - mae: 2.1115 - mse: 9.0417 - val_loss: 7.0942 - val_mae: 2.0191 - val_mse: 7.0942\n",
      "Epoch 311/500\n",
      "12/12 [==============================] - 0s 3ms/step - loss: 9.1199 - mae: 2.1376 - mse: 9.1199 - val_loss: 6.9705 - val_mae: 1.9936 - val_mse: 6.9705\n",
      "Epoch 312/500\n",
      "12/12 [==============================] - 0s 3ms/step - loss: 8.8874 - mae: 2.0776 - mse: 8.8874 - val_loss: 6.8999 - val_mae: 2.0022 - val_mse: 6.8999\n",
      "Epoch 313/500\n",
      "12/12 [==============================] - 0s 3ms/step - loss: 8.9441 - mae: 2.0882 - mse: 8.9441 - val_loss: 6.9258 - val_mae: 1.9915 - val_mse: 6.9258\n",
      "Epoch 314/500\n",
      "12/12 [==============================] - 0s 3ms/step - loss: 8.9162 - mae: 2.0926 - mse: 8.9162 - val_loss: 7.0435 - val_mae: 2.0003 - val_mse: 7.0435\n",
      "Epoch 315/500\n",
      "12/12 [==============================] - 0s 3ms/step - loss: 8.8634 - mae: 2.0879 - mse: 8.8634 - val_loss: 6.8196 - val_mae: 1.9825 - val_mse: 6.8196\n",
      "Epoch 316/500\n",
      "12/12 [==============================] - 0s 3ms/step - loss: 9.1161 - mae: 2.1124 - mse: 9.1161 - val_loss: 7.2159 - val_mae: 2.0707 - val_mse: 7.2159\n",
      "Epoch 317/500\n",
      "12/12 [==============================] - 0s 3ms/step - loss: 8.9368 - mae: 2.1050 - mse: 8.9368 - val_loss: 6.9165 - val_mae: 1.9945 - val_mse: 6.9165\n",
      "Epoch 318/500\n",
      "12/12 [==============================] - 0s 3ms/step - loss: 8.9113 - mae: 2.0931 - mse: 8.9113 - val_loss: 6.9568 - val_mae: 1.9909 - val_mse: 6.9568\n",
      "Epoch 319/500\n",
      "12/12 [==============================] - 0s 3ms/step - loss: 8.9438 - mae: 2.0815 - mse: 8.9438 - val_loss: 6.7999 - val_mae: 1.9931 - val_mse: 6.7999\n",
      "Epoch 320/500\n",
      "12/12 [==============================] - 0s 3ms/step - loss: 9.0568 - mae: 2.1114 - mse: 9.0568 - val_loss: 7.4228 - val_mae: 2.0553 - val_mse: 7.4228\n",
      "Epoch 321/500\n",
      "12/12 [==============================] - 0s 3ms/step - loss: 8.9343 - mae: 2.1270 - mse: 8.9343 - val_loss: 6.9480 - val_mae: 2.0253 - val_mse: 6.9480\n",
      "Epoch 322/500\n",
      "12/12 [==============================] - 0s 3ms/step - loss: 8.8092 - mae: 2.0859 - mse: 8.8092 - val_loss: 7.2642 - val_mae: 2.0626 - val_mse: 7.2642\n",
      "Epoch 323/500\n",
      "12/12 [==============================] - 0s 3ms/step - loss: 9.0776 - mae: 2.1700 - mse: 9.0776 - val_loss: 7.0178 - val_mae: 2.0443 - val_mse: 7.0178\n",
      "Epoch 324/500\n",
      "12/12 [==============================] - 0s 3ms/step - loss: 8.7893 - mae: 2.1062 - mse: 8.7893 - val_loss: 7.4252 - val_mae: 2.0768 - val_mse: 7.4252\n",
      "Epoch 325/500\n",
      "12/12 [==============================] - 0s 3ms/step - loss: 8.7897 - mae: 2.0910 - mse: 8.7897 - val_loss: 6.9483 - val_mae: 1.9895 - val_mse: 6.9483\n",
      "Epoch 326/500\n",
      "12/12 [==============================] - 0s 3ms/step - loss: 8.8670 - mae: 2.1078 - mse: 8.8670 - val_loss: 6.8404 - val_mae: 1.9788 - val_mse: 6.8404\n",
      "Epoch 327/500\n",
      "12/12 [==============================] - 0s 3ms/step - loss: 8.7165 - mae: 2.0720 - mse: 8.7165 - val_loss: 6.9199 - val_mae: 1.9795 - val_mse: 6.9199\n",
      "Epoch 328/500\n",
      "12/12 [==============================] - 0s 3ms/step - loss: 8.6994 - mae: 2.0708 - mse: 8.6994 - val_loss: 6.9263 - val_mae: 1.9832 - val_mse: 6.9263\n",
      "Epoch 329/500\n",
      "12/12 [==============================] - 0s 3ms/step - loss: 8.6922 - mae: 2.0720 - mse: 8.6922 - val_loss: 6.7932 - val_mae: 1.9790 - val_mse: 6.7932\n",
      "Epoch 330/500\n",
      "12/12 [==============================] - 0s 3ms/step - loss: 8.8508 - mae: 2.0757 - mse: 8.8508 - val_loss: 7.0024 - val_mae: 2.0018 - val_mse: 7.0024\n",
      "Epoch 331/500\n",
      "12/12 [==============================] - 0s 3ms/step - loss: 8.7224 - mae: 2.0749 - mse: 8.7224 - val_loss: 6.8509 - val_mae: 1.9873 - val_mse: 6.8509\n",
      "Epoch 332/500\n",
      "12/12 [==============================] - 0s 3ms/step - loss: 8.8945 - mae: 2.1049 - mse: 8.8945 - val_loss: 6.7529 - val_mae: 1.9749 - val_mse: 6.7529\n",
      "Epoch 333/500\n",
      "12/12 [==============================] - 0s 3ms/step - loss: 8.6477 - mae: 2.0595 - mse: 8.6477 - val_loss: 6.8128 - val_mae: 1.9756 - val_mse: 6.8128\n",
      "Epoch 334/500\n",
      "12/12 [==============================] - 0s 3ms/step - loss: 9.1580 - mae: 2.1776 - mse: 9.1580 - val_loss: 7.1304 - val_mae: 2.0507 - val_mse: 7.1304\n",
      "Epoch 335/500\n",
      "12/12 [==============================] - 0s 3ms/step - loss: 8.9264 - mae: 2.1282 - mse: 8.9264 - val_loss: 6.6481 - val_mae: 1.9676 - val_mse: 6.6481\n",
      "Epoch 336/500\n",
      "12/12 [==============================] - 0s 3ms/step - loss: 8.8934 - mae: 2.0792 - mse: 8.8934 - val_loss: 7.4180 - val_mae: 2.0765 - val_mse: 7.4180\n",
      "Epoch 337/500\n",
      "12/12 [==============================] - 0s 3ms/step - loss: 8.9793 - mae: 2.1273 - mse: 8.9793 - val_loss: 7.1171 - val_mae: 2.0676 - val_mse: 7.1171\n",
      "Epoch 338/500\n",
      "12/12 [==============================] - 0s 3ms/step - loss: 8.8395 - mae: 2.1032 - mse: 8.8395 - val_loss: 6.9824 - val_mae: 1.9901 - val_mse: 6.9824\n",
      "Epoch 339/500\n",
      "12/12 [==============================] - 0s 3ms/step - loss: 8.5536 - mae: 2.0442 - mse: 8.5536 - val_loss: 6.6228 - val_mae: 1.9725 - val_mse: 6.6228\n",
      "Epoch 340/500\n",
      "12/12 [==============================] - 0s 3ms/step - loss: 8.5342 - mae: 2.0499 - mse: 8.5342 - val_loss: 6.7184 - val_mae: 1.9723 - val_mse: 6.7184\n",
      "Epoch 341/500\n",
      "12/12 [==============================] - 0s 3ms/step - loss: 8.5675 - mae: 2.0567 - mse: 8.5675 - val_loss: 6.9040 - val_mae: 1.9803 - val_mse: 6.9040\n",
      "Epoch 342/500\n",
      "12/12 [==============================] - 0s 3ms/step - loss: 8.5949 - mae: 2.0639 - mse: 8.5949 - val_loss: 6.6442 - val_mae: 1.9712 - val_mse: 6.6442\n"
     ]
    },
    {
     "name": "stdout",
     "output_type": "stream",
     "text": [
      "Epoch 343/500\n",
      "12/12 [==============================] - 0s 3ms/step - loss: 8.4917 - mae: 2.0546 - mse: 8.4917 - val_loss: 6.8732 - val_mae: 1.9869 - val_mse: 6.8732\n",
      "Epoch 344/500\n",
      "12/12 [==============================] - 0s 3ms/step - loss: 8.5926 - mae: 2.0573 - mse: 8.5926 - val_loss: 6.7114 - val_mae: 2.0010 - val_mse: 6.7114\n",
      "Epoch 345/500\n",
      "12/12 [==============================] - 0s 3ms/step - loss: 8.5899 - mae: 2.0666 - mse: 8.5899 - val_loss: 6.7047 - val_mae: 1.9811 - val_mse: 6.7047\n",
      "Epoch 346/500\n",
      "12/12 [==============================] - 0s 3ms/step - loss: 8.5003 - mae: 2.0605 - mse: 8.5003 - val_loss: 6.6487 - val_mae: 1.9704 - val_mse: 6.6487\n",
      "Epoch 347/500\n",
      "12/12 [==============================] - 0s 3ms/step - loss: 8.4780 - mae: 2.0489 - mse: 8.4780 - val_loss: 6.8834 - val_mae: 1.9789 - val_mse: 6.8834\n",
      "Epoch 348/500\n",
      "12/12 [==============================] - 0s 3ms/step - loss: 8.4550 - mae: 2.0386 - mse: 8.4550 - val_loss: 6.6981 - val_mae: 1.9728 - val_mse: 6.6981\n",
      "Epoch 349/500\n",
      "12/12 [==============================] - 0s 3ms/step - loss: 8.3962 - mae: 2.0397 - mse: 8.3962 - val_loss: 6.8071 - val_mae: 1.9790 - val_mse: 6.8071\n",
      "Epoch 350/500\n",
      "12/12 [==============================] - 0s 3ms/step - loss: 8.5563 - mae: 2.0515 - mse: 8.5563 - val_loss: 6.7846 - val_mae: 1.9803 - val_mse: 6.7846\n",
      "Epoch 351/500\n",
      "12/12 [==============================] - 0s 3ms/step - loss: 8.4881 - mae: 2.0702 - mse: 8.4881 - val_loss: 6.7521 - val_mae: 2.0018 - val_mse: 6.7521\n",
      "Epoch 352/500\n",
      "12/12 [==============================] - 0s 3ms/step - loss: 8.4780 - mae: 2.0610 - mse: 8.4780 - val_loss: 6.9191 - val_mae: 1.9859 - val_mse: 6.9191\n",
      "Epoch 353/500\n",
      "12/12 [==============================] - 0s 3ms/step - loss: 8.5780 - mae: 2.0950 - mse: 8.5780 - val_loss: 7.0173 - val_mae: 2.0687 - val_mse: 7.0173\n",
      "Epoch 354/500\n",
      "12/12 [==============================] - 0s 3ms/step - loss: 8.6044 - mae: 2.0929 - mse: 8.6044 - val_loss: 6.9775 - val_mae: 2.0129 - val_mse: 6.9775\n",
      "Epoch 355/500\n",
      "12/12 [==============================] - 0s 3ms/step - loss: 8.4662 - mae: 2.0649 - mse: 8.4662 - val_loss: 6.9939 - val_mae: 1.9911 - val_mse: 6.9939\n",
      "Epoch 356/500\n",
      "12/12 [==============================] - 0s 3ms/step - loss: 8.3202 - mae: 2.0371 - mse: 8.3202 - val_loss: 6.7312 - val_mae: 1.9750 - val_mse: 6.7312\n",
      "Epoch 357/500\n",
      "12/12 [==============================] - 0s 3ms/step - loss: 8.5114 - mae: 2.0316 - mse: 8.5114 - val_loss: 6.8982 - val_mae: 2.0290 - val_mse: 6.8982\n",
      "Epoch 358/500\n",
      "12/12 [==============================] - 0s 3ms/step - loss: 8.4892 - mae: 2.0334 - mse: 8.4892 - val_loss: 7.1727 - val_mae: 1.9998 - val_mse: 7.1727\n",
      "Epoch 359/500\n",
      "12/12 [==============================] - 0s 3ms/step - loss: 8.5956 - mae: 2.0797 - mse: 8.5956 - val_loss: 7.0833 - val_mae: 2.0429 - val_mse: 7.0833\n",
      "Epoch 360/500\n",
      "12/12 [==============================] - 0s 3ms/step - loss: 8.5696 - mae: 2.0670 - mse: 8.5696 - val_loss: 6.8357 - val_mae: 2.0053 - val_mse: 6.8357\n",
      "Epoch 361/500\n",
      "12/12 [==============================] - 0s 3ms/step - loss: 8.5089 - mae: 2.0310 - mse: 8.5089 - val_loss: 6.7156 - val_mae: 1.9722 - val_mse: 6.7156\n",
      "Epoch 362/500\n",
      "12/12 [==============================] - 0s 3ms/step - loss: 8.6193 - mae: 2.1313 - mse: 8.6193 - val_loss: 7.0808 - val_mae: 2.0467 - val_mse: 7.0808\n",
      "Epoch 363/500\n",
      "12/12 [==============================] - 0s 3ms/step - loss: 8.4765 - mae: 2.0641 - mse: 8.4765 - val_loss: 6.7250 - val_mae: 1.9871 - val_mse: 6.7250\n",
      "Epoch 364/500\n",
      "12/12 [==============================] - 0s 3ms/step - loss: 8.3274 - mae: 2.0185 - mse: 8.3274 - val_loss: 6.6990 - val_mae: 1.9645 - val_mse: 6.6990\n",
      "Epoch 365/500\n",
      "12/12 [==============================] - 0s 3ms/step - loss: 8.3620 - mae: 2.0496 - mse: 8.3620 - val_loss: 6.7745 - val_mae: 1.9791 - val_mse: 6.7745\n",
      "Epoch 366/500\n",
      "12/12 [==============================] - 0s 3ms/step - loss: 8.2052 - mae: 2.0254 - mse: 8.2052 - val_loss: 6.8068 - val_mae: 1.9808 - val_mse: 6.8068\n",
      "Epoch 367/500\n",
      "12/12 [==============================] - 0s 3ms/step - loss: 8.2579 - mae: 2.0474 - mse: 8.2579 - val_loss: 6.9421 - val_mae: 2.0183 - val_mse: 6.9421\n",
      "Epoch 368/500\n",
      "12/12 [==============================] - 0s 3ms/step - loss: 8.4704 - mae: 2.0939 - mse: 8.4704 - val_loss: 6.7761 - val_mae: 1.9827 - val_mse: 6.7761\n",
      "Epoch 369/500\n",
      "12/12 [==============================] - 0s 3ms/step - loss: 8.2552 - mae: 2.0313 - mse: 8.2552 - val_loss: 6.8637 - val_mae: 2.0066 - val_mse: 6.8637\n",
      "Epoch 370/500\n",
      "12/12 [==============================] - 0s 3ms/step - loss: 8.2016 - mae: 2.0169 - mse: 8.2016 - val_loss: 6.9733 - val_mae: 2.0006 - val_mse: 6.9733\n",
      "Epoch 371/500\n",
      "12/12 [==============================] - 0s 3ms/step - loss: 8.3122 - mae: 2.0344 - mse: 8.3122 - val_loss: 6.6574 - val_mae: 1.9658 - val_mse: 6.6574\n",
      "Epoch 372/500\n",
      "12/12 [==============================] - 0s 3ms/step - loss: 8.2663 - mae: 2.0260 - mse: 8.2663 - val_loss: 6.9941 - val_mae: 1.9850 - val_mse: 6.9941\n",
      "Epoch 373/500\n",
      "12/12 [==============================] - 0s 3ms/step - loss: 8.2735 - mae: 2.0329 - mse: 8.2735 - val_loss: 6.6957 - val_mae: 1.9908 - val_mse: 6.6957\n",
      "Epoch 374/500\n",
      "12/12 [==============================] - 0s 3ms/step - loss: 8.1602 - mae: 2.0307 - mse: 8.1602 - val_loss: 7.4752 - val_mae: 2.0805 - val_mse: 7.4752\n",
      "Epoch 375/500\n",
      "12/12 [==============================] - 0s 3ms/step - loss: 8.4838 - mae: 2.0758 - mse: 8.4838 - val_loss: 6.7506 - val_mae: 1.9718 - val_mse: 6.7506\n",
      "Epoch 376/500\n",
      "12/12 [==============================] - 0s 3ms/step - loss: 8.4331 - mae: 2.0409 - mse: 8.4331 - val_loss: 6.8282 - val_mae: 2.0263 - val_mse: 6.8282\n",
      "Epoch 377/500\n",
      "12/12 [==============================] - 0s 3ms/step - loss: 8.0990 - mae: 2.0274 - mse: 8.0990 - val_loss: 7.2550 - val_mae: 2.0385 - val_mse: 7.2550\n",
      "Epoch 378/500\n",
      "12/12 [==============================] - 0s 3ms/step - loss: 8.3239 - mae: 2.0174 - mse: 8.3239 - val_loss: 6.7441 - val_mae: 1.9759 - val_mse: 6.7441\n",
      "Epoch 379/500\n",
      "12/12 [==============================] - 0s 3ms/step - loss: 8.1011 - mae: 2.0061 - mse: 8.1011 - val_loss: 6.7228 - val_mae: 1.9714 - val_mse: 6.7228\n",
      "Epoch 380/500\n",
      "12/12 [==============================] - 0s 3ms/step - loss: 8.0943 - mae: 2.0069 - mse: 8.0943 - val_loss: 6.8451 - val_mae: 1.9847 - val_mse: 6.8451\n",
      "Epoch 381/500\n",
      "12/12 [==============================] - 0s 3ms/step - loss: 8.1668 - mae: 2.0364 - mse: 8.1668 - val_loss: 6.8739 - val_mae: 1.9750 - val_mse: 6.8739\n",
      "Epoch 382/500\n",
      "12/12 [==============================] - 0s 3ms/step - loss: 8.0375 - mae: 2.0021 - mse: 8.0375 - val_loss: 6.9166 - val_mae: 1.9784 - val_mse: 6.9166\n",
      "Epoch 383/500\n",
      "12/12 [==============================] - 0s 3ms/step - loss: 8.2579 - mae: 2.0206 - mse: 8.2579 - val_loss: 6.7243 - val_mae: 1.9844 - val_mse: 6.7243\n",
      "Epoch 384/500\n",
      "12/12 [==============================] - 0s 3ms/step - loss: 8.1169 - mae: 2.0090 - mse: 8.1169 - val_loss: 6.8191 - val_mae: 2.0141 - val_mse: 6.8191\n",
      "Epoch 385/500\n",
      "12/12 [==============================] - 0s 3ms/step - loss: 8.3325 - mae: 2.0389 - mse: 8.3325 - val_loss: 6.9114 - val_mae: 1.9785 - val_mse: 6.9114\n",
      "Epoch 386/500\n",
      "12/12 [==============================] - 0s 3ms/step - loss: 8.1165 - mae: 2.0034 - mse: 8.1165 - val_loss: 6.6717 - val_mae: 1.9571 - val_mse: 6.6717\n",
      "Epoch 387/500\n",
      "12/12 [==============================] - 0s 3ms/step - loss: 8.1961 - mae: 2.0291 - mse: 8.1961 - val_loss: 6.7858 - val_mae: 1.9659 - val_mse: 6.7858\n",
      "Epoch 388/500\n",
      "12/12 [==============================] - 0s 3ms/step - loss: 8.1035 - mae: 2.0100 - mse: 8.1035 - val_loss: 6.6290 - val_mae: 1.9800 - val_mse: 6.6290\n",
      "Epoch 389/500\n",
      "12/12 [==============================] - 0s 3ms/step - loss: 7.9969 - mae: 1.9959 - mse: 7.9969 - val_loss: 6.8833 - val_mae: 1.9845 - val_mse: 6.8833\n",
      "Epoch 390/500\n",
      "12/12 [==============================] - 0s 3ms/step - loss: 7.9906 - mae: 1.9971 - mse: 7.9906 - val_loss: 6.8166 - val_mae: 1.9696 - val_mse: 6.8166\n",
      "Epoch 391/500\n",
      "12/12 [==============================] - 0s 3ms/step - loss: 7.9771 - mae: 1.9961 - mse: 7.9771 - val_loss: 6.8057 - val_mae: 1.9725 - val_mse: 6.8057\n",
      "Epoch 392/500\n",
      "12/12 [==============================] - 0s 3ms/step - loss: 8.1278 - mae: 2.0260 - mse: 8.1278 - val_loss: 6.9053 - val_mae: 2.0408 - val_mse: 6.9053\n"
     ]
    },
    {
     "name": "stdout",
     "output_type": "stream",
     "text": [
      "Epoch 393/500\n",
      "12/12 [==============================] - 0s 3ms/step - loss: 8.0686 - mae: 2.0084 - mse: 8.0686 - val_loss: 7.2167 - val_mae: 2.0402 - val_mse: 7.2167\n",
      "Epoch 394/500\n",
      "12/12 [==============================] - 0s 3ms/step - loss: 8.1448 - mae: 2.0401 - mse: 8.1448 - val_loss: 6.9588 - val_mae: 2.0026 - val_mse: 6.9588\n",
      "Epoch 395/500\n",
      "12/12 [==============================] - 0s 3ms/step - loss: 7.9687 - mae: 1.9935 - mse: 7.9687 - val_loss: 6.7353 - val_mae: 1.9663 - val_mse: 6.7353\n",
      "Epoch 396/500\n",
      "12/12 [==============================] - 0s 3ms/step - loss: 8.0192 - mae: 1.9883 - mse: 8.0192 - val_loss: 6.7891 - val_mae: 1.9912 - val_mse: 6.7891\n",
      "Epoch 397/500\n",
      "12/12 [==============================] - 0s 3ms/step - loss: 7.9864 - mae: 2.0042 - mse: 7.9864 - val_loss: 6.6909 - val_mae: 1.9750 - val_mse: 6.6909\n",
      "Epoch 398/500\n",
      "12/12 [==============================] - 0s 3ms/step - loss: 8.0720 - mae: 2.0106 - mse: 8.0720 - val_loss: 6.9029 - val_mae: 1.9964 - val_mse: 6.9029\n",
      "Epoch 399/500\n",
      "12/12 [==============================] - 0s 3ms/step - loss: 7.9860 - mae: 2.0076 - mse: 7.9860 - val_loss: 6.6973 - val_mae: 1.9743 - val_mse: 6.6973\n",
      "Epoch 400/500\n",
      "12/12 [==============================] - 0s 3ms/step - loss: 8.0013 - mae: 2.0174 - mse: 8.0013 - val_loss: 6.7752 - val_mae: 1.9965 - val_mse: 6.7752\n",
      "Epoch 401/500\n",
      "12/12 [==============================] - 0s 3ms/step - loss: 8.0883 - mae: 2.0150 - mse: 8.0883 - val_loss: 7.2814 - val_mae: 2.0495 - val_mse: 7.2814\n",
      "Epoch 402/500\n",
      "12/12 [==============================] - 0s 3ms/step - loss: 7.9806 - mae: 2.0074 - mse: 7.9806 - val_loss: 6.6193 - val_mae: 1.9738 - val_mse: 6.6193\n",
      "Epoch 403/500\n",
      "12/12 [==============================] - 0s 3ms/step - loss: 7.8978 - mae: 1.9893 - mse: 7.8978 - val_loss: 6.6853 - val_mae: 1.9680 - val_mse: 6.6853\n",
      "Epoch 404/500\n",
      "12/12 [==============================] - 0s 3ms/step - loss: 8.0118 - mae: 1.9824 - mse: 8.0118 - val_loss: 6.9302 - val_mae: 1.9852 - val_mse: 6.9302\n",
      "Epoch 405/500\n",
      "12/12 [==============================] - 0s 3ms/step - loss: 8.0322 - mae: 2.0137 - mse: 8.0322 - val_loss: 7.1344 - val_mae: 2.0630 - val_mse: 7.1344\n",
      "Epoch 406/500\n",
      "12/12 [==============================] - 0s 3ms/step - loss: 8.0080 - mae: 2.0324 - mse: 8.0080 - val_loss: 7.1352 - val_mae: 2.0845 - val_mse: 7.1352\n",
      "Epoch 407/500\n",
      "12/12 [==============================] - 0s 3ms/step - loss: 8.3890 - mae: 2.0705 - mse: 8.3890 - val_loss: 6.6567 - val_mae: 1.9804 - val_mse: 6.6567\n",
      "Epoch 408/500\n",
      "12/12 [==============================] - 0s 3ms/step - loss: 8.0391 - mae: 1.9837 - mse: 8.0391 - val_loss: 7.1535 - val_mae: 2.0282 - val_mse: 7.1535\n",
      "Epoch 409/500\n",
      "12/12 [==============================] - 0s 3ms/step - loss: 8.1250 - mae: 2.0237 - mse: 8.1250 - val_loss: 6.7141 - val_mae: 1.9758 - val_mse: 6.7141\n",
      "Epoch 410/500\n",
      "12/12 [==============================] - 0s 3ms/step - loss: 8.1414 - mae: 2.0400 - mse: 8.1414 - val_loss: 7.0135 - val_mae: 2.0282 - val_mse: 7.0135\n",
      "Epoch 411/500\n",
      "12/12 [==============================] - 0s 3ms/step - loss: 7.9758 - mae: 1.9947 - mse: 7.9758 - val_loss: 6.7275 - val_mae: 1.9669 - val_mse: 6.7275\n",
      "Epoch 412/500\n",
      "12/12 [==============================] - 0s 3ms/step - loss: 7.8247 - mae: 1.9738 - mse: 7.8247 - val_loss: 6.7323 - val_mae: 1.9638 - val_mse: 6.7323\n",
      "Epoch 413/500\n",
      "12/12 [==============================] - 0s 3ms/step - loss: 7.8049 - mae: 1.9813 - mse: 7.8049 - val_loss: 6.7829 - val_mae: 1.9855 - val_mse: 6.7829\n",
      "Epoch 414/500\n",
      "12/12 [==============================] - 0s 3ms/step - loss: 7.9606 - mae: 1.9826 - mse: 7.9606 - val_loss: 6.6535 - val_mae: 1.9751 - val_mse: 6.6535\n",
      "Epoch 415/500\n",
      "12/12 [==============================] - 0s 3ms/step - loss: 7.9234 - mae: 1.9892 - mse: 7.9234 - val_loss: 6.6739 - val_mae: 1.9601 - val_mse: 6.6739\n",
      "Epoch 416/500\n",
      "12/12 [==============================] - 0s 3ms/step - loss: 7.8205 - mae: 1.9785 - mse: 7.8205 - val_loss: 6.7713 - val_mae: 1.9637 - val_mse: 6.7713\n",
      "Epoch 417/500\n",
      "12/12 [==============================] - 0s 3ms/step - loss: 7.9622 - mae: 2.0077 - mse: 7.9622 - val_loss: 6.8713 - val_mae: 1.9716 - val_mse: 6.8713\n",
      "Epoch 418/500\n",
      "12/12 [==============================] - 0s 3ms/step - loss: 8.3042 - mae: 2.0197 - mse: 8.3042 - val_loss: 7.0178 - val_mae: 1.9991 - val_mse: 7.0178\n",
      "Epoch 419/500\n",
      "12/12 [==============================] - 0s 3ms/step - loss: 7.8291 - mae: 1.9601 - mse: 7.8291 - val_loss: 6.6603 - val_mae: 1.9751 - val_mse: 6.6603\n",
      "Epoch 420/500\n",
      "12/12 [==============================] - 0s 3ms/step - loss: 7.9801 - mae: 2.0180 - mse: 7.9801 - val_loss: 6.6725 - val_mae: 1.9749 - val_mse: 6.6725\n",
      "Epoch 421/500\n",
      "12/12 [==============================] - 0s 3ms/step - loss: 7.8046 - mae: 1.9824 - mse: 7.8046 - val_loss: 6.5984 - val_mae: 1.9697 - val_mse: 6.5984\n",
      "Epoch 422/500\n",
      "12/12 [==============================] - 0s 3ms/step - loss: 7.9517 - mae: 2.0056 - mse: 7.9517 - val_loss: 6.8101 - val_mae: 1.9740 - val_mse: 6.8101\n",
      "Epoch 423/500\n",
      "12/12 [==============================] - 0s 3ms/step - loss: 7.6849 - mae: 1.9513 - mse: 7.6849 - val_loss: 6.6727 - val_mae: 1.9911 - val_mse: 6.6727\n",
      "Epoch 424/500\n",
      "12/12 [==============================] - 0s 3ms/step - loss: 7.8258 - mae: 1.9725 - mse: 7.8258 - val_loss: 6.7652 - val_mae: 1.9793 - val_mse: 6.7652\n",
      "Epoch 425/500\n",
      "12/12 [==============================] - 0s 3ms/step - loss: 7.7071 - mae: 1.9719 - mse: 7.7071 - val_loss: 6.9181 - val_mae: 1.9909 - val_mse: 6.9181\n",
      "Epoch 426/500\n",
      "12/12 [==============================] - 0s 3ms/step - loss: 7.9849 - mae: 2.0369 - mse: 7.9849 - val_loss: 7.0544 - val_mae: 2.0678 - val_mse: 7.0544\n",
      "Epoch 427/500\n",
      "12/12 [==============================] - 0s 3ms/step - loss: 8.2903 - mae: 2.0909 - mse: 8.2903 - val_loss: 6.6053 - val_mae: 1.9719 - val_mse: 6.6053\n",
      "Epoch 428/500\n",
      "12/12 [==============================] - 0s 3ms/step - loss: 7.8581 - mae: 1.9710 - mse: 7.8581 - val_loss: 6.8236 - val_mae: 1.9739 - val_mse: 6.8236\n",
      "Epoch 429/500\n",
      "12/12 [==============================] - 0s 3ms/step - loss: 7.8380 - mae: 1.9903 - mse: 7.8380 - val_loss: 6.9859 - val_mae: 2.0028 - val_mse: 6.9859\n",
      "Epoch 430/500\n",
      "12/12 [==============================] - 0s 3ms/step - loss: 7.8251 - mae: 1.9616 - mse: 7.8251 - val_loss: 6.6953 - val_mae: 1.9756 - val_mse: 6.6953\n",
      "Epoch 431/500\n",
      "12/12 [==============================] - 0s 3ms/step - loss: 8.0439 - mae: 2.0272 - mse: 8.0439 - val_loss: 7.0939 - val_mae: 2.0381 - val_mse: 7.0939\n",
      "Epoch 432/500\n",
      "12/12 [==============================] - 0s 3ms/step - loss: 8.1282 - mae: 2.0512 - mse: 8.1282 - val_loss: 6.9294 - val_mae: 2.0252 - val_mse: 6.9294\n",
      "Epoch 433/500\n",
      "12/12 [==============================] - 0s 3ms/step - loss: 7.6492 - mae: 1.9610 - mse: 7.6492 - val_loss: 6.9282 - val_mae: 2.0245 - val_mse: 6.9282\n",
      "Epoch 434/500\n",
      "12/12 [==============================] - 0s 3ms/step - loss: 7.7279 - mae: 1.9769 - mse: 7.7279 - val_loss: 6.7944 - val_mae: 1.9733 - val_mse: 6.7944\n",
      "Epoch 435/500\n",
      "12/12 [==============================] - 0s 3ms/step - loss: 7.7659 - mae: 1.9624 - mse: 7.7659 - val_loss: 6.7611 - val_mae: 1.9822 - val_mse: 6.7611\n",
      "Epoch 436/500\n",
      "12/12 [==============================] - 0s 3ms/step - loss: 7.6498 - mae: 1.9648 - mse: 7.6498 - val_loss: 6.6738 - val_mae: 1.9811 - val_mse: 6.6738\n",
      "Epoch 437/500\n",
      "12/12 [==============================] - 0s 3ms/step - loss: 7.6920 - mae: 1.9790 - mse: 7.6920 - val_loss: 6.8395 - val_mae: 1.9712 - val_mse: 6.8395\n",
      "Epoch 438/500\n",
      "12/12 [==============================] - 0s 3ms/step - loss: 7.6312 - mae: 1.9514 - mse: 7.6312 - val_loss: 6.6563 - val_mae: 1.9658 - val_mse: 6.6563\n",
      "Epoch 439/500\n",
      "12/12 [==============================] - 0s 3ms/step - loss: 7.8201 - mae: 2.0115 - mse: 7.8201 - val_loss: 7.0919 - val_mae: 2.0733 - val_mse: 7.0919\n",
      "Epoch 440/500\n",
      "12/12 [==============================] - 0s 3ms/step - loss: 7.9667 - mae: 2.0035 - mse: 7.9667 - val_loss: 6.7966 - val_mae: 1.9818 - val_mse: 6.7966\n",
      "Epoch 441/500\n",
      "12/12 [==============================] - 0s 3ms/step - loss: 7.8137 - mae: 1.9786 - mse: 7.8137 - val_loss: 7.0633 - val_mae: 2.0151 - val_mse: 7.0633\n",
      "Epoch 442/500\n",
      "12/12 [==============================] - 0s 3ms/step - loss: 7.6448 - mae: 1.9539 - mse: 7.6448 - val_loss: 6.7238 - val_mae: 1.9634 - val_mse: 6.7238\n"
     ]
    },
    {
     "name": "stdout",
     "output_type": "stream",
     "text": [
      "Epoch 443/500\n",
      "12/12 [==============================] - 0s 3ms/step - loss: 7.5498 - mae: 1.9439 - mse: 7.5498 - val_loss: 6.7493 - val_mae: 1.9658 - val_mse: 6.7493\n",
      "Epoch 444/500\n",
      "12/12 [==============================] - 0s 3ms/step - loss: 7.5604 - mae: 1.9522 - mse: 7.5604 - val_loss: 6.7399 - val_mae: 1.9716 - val_mse: 6.7399\n",
      "Epoch 445/500\n",
      "12/12 [==============================] - 0s 3ms/step - loss: 7.6705 - mae: 1.9416 - mse: 7.6705 - val_loss: 6.7463 - val_mae: 1.9655 - val_mse: 6.7463\n",
      "Epoch 446/500\n",
      "12/12 [==============================] - 0s 3ms/step - loss: 7.5123 - mae: 1.9370 - mse: 7.5123 - val_loss: 6.5886 - val_mae: 1.9602 - val_mse: 6.5886\n",
      "Epoch 447/500\n",
      "12/12 [==============================] - 0s 3ms/step - loss: 7.5495 - mae: 1.9412 - mse: 7.5495 - val_loss: 6.6548 - val_mae: 1.9629 - val_mse: 6.6548\n",
      "Epoch 448/500\n",
      "12/12 [==============================] - 0s 3ms/step - loss: 7.5157 - mae: 1.9413 - mse: 7.5157 - val_loss: 6.8030 - val_mae: 1.9964 - val_mse: 6.8030\n",
      "Epoch 449/500\n",
      "12/12 [==============================] - 0s 3ms/step - loss: 7.8289 - mae: 1.9870 - mse: 7.8289 - val_loss: 6.6902 - val_mae: 1.9709 - val_mse: 6.6902\n",
      "Epoch 450/500\n",
      "12/12 [==============================] - 0s 3ms/step - loss: 7.5246 - mae: 1.9334 - mse: 7.5246 - val_loss: 6.7482 - val_mae: 1.9777 - val_mse: 6.7482\n",
      "Epoch 451/500\n",
      "12/12 [==============================] - 0s 3ms/step - loss: 7.6027 - mae: 1.9459 - mse: 7.6027 - val_loss: 6.7650 - val_mae: 1.9845 - val_mse: 6.7650\n",
      "Epoch 452/500\n",
      "12/12 [==============================] - 0s 3ms/step - loss: 7.5284 - mae: 1.9383 - mse: 7.5284 - val_loss: 6.6587 - val_mae: 1.9656 - val_mse: 6.6587\n",
      "Epoch 453/500\n",
      "12/12 [==============================] - 0s 3ms/step - loss: 7.5573 - mae: 1.9305 - mse: 7.5573 - val_loss: 6.8487 - val_mae: 1.9867 - val_mse: 6.8487\n",
      "Epoch 454/500\n",
      "12/12 [==============================] - 0s 3ms/step - loss: 7.7155 - mae: 1.9531 - mse: 7.7155 - val_loss: 6.9065 - val_mae: 1.9867 - val_mse: 6.9065\n",
      "Epoch 455/500\n",
      "12/12 [==============================] - 0s 3ms/step - loss: 7.6762 - mae: 1.9522 - mse: 7.6762 - val_loss: 6.9365 - val_mae: 2.0064 - val_mse: 6.9365\n",
      "Epoch 456/500\n",
      "12/12 [==============================] - 0s 3ms/step - loss: 7.8100 - mae: 1.9959 - mse: 7.8100 - val_loss: 6.7920 - val_mae: 1.9680 - val_mse: 6.7920\n",
      "Epoch 457/500\n",
      "12/12 [==============================] - 0s 3ms/step - loss: 7.5242 - mae: 1.9423 - mse: 7.5242 - val_loss: 6.6846 - val_mae: 1.9988 - val_mse: 6.6846\n",
      "Epoch 458/500\n",
      "12/12 [==============================] - 0s 3ms/step - loss: 7.8854 - mae: 1.9890 - mse: 7.8854 - val_loss: 7.1469 - val_mae: 2.0952 - val_mse: 7.1469\n",
      "Epoch 459/500\n",
      "12/12 [==============================] - 0s 3ms/step - loss: 7.8794 - mae: 1.9921 - mse: 7.8794 - val_loss: 7.0671 - val_mae: 2.0302 - val_mse: 7.0671\n",
      "Epoch 460/500\n",
      "12/12 [==============================] - 0s 3ms/step - loss: 7.5450 - mae: 1.9369 - mse: 7.5450 - val_loss: 6.6915 - val_mae: 1.9724 - val_mse: 6.6915\n",
      "Epoch 461/500\n",
      "12/12 [==============================] - 0s 3ms/step - loss: 7.7518 - mae: 1.9784 - mse: 7.7518 - val_loss: 7.1540 - val_mae: 2.0535 - val_mse: 7.1540\n",
      "Epoch 462/500\n",
      "12/12 [==============================] - 0s 3ms/step - loss: 8.0149 - mae: 2.0439 - mse: 8.0149 - val_loss: 6.9501 - val_mae: 2.0018 - val_mse: 6.9501\n",
      "Epoch 463/500\n",
      "12/12 [==============================] - 0s 3ms/step - loss: 7.4729 - mae: 1.9327 - mse: 7.4729 - val_loss: 6.6444 - val_mae: 1.9639 - val_mse: 6.6444\n",
      "Epoch 464/500\n",
      "12/12 [==============================] - 0s 3ms/step - loss: 7.5590 - mae: 1.9323 - mse: 7.5590 - val_loss: 6.5103 - val_mae: 1.9591 - val_mse: 6.5103\n",
      "Epoch 465/500\n",
      "12/12 [==============================] - 0s 3ms/step - loss: 7.7820 - mae: 1.9698 - mse: 7.7820 - val_loss: 6.6630 - val_mae: 1.9855 - val_mse: 6.6630\n",
      "Epoch 466/500\n",
      "12/12 [==============================] - 0s 3ms/step - loss: 7.5745 - mae: 1.9492 - mse: 7.5745 - val_loss: 6.9282 - val_mae: 2.0075 - val_mse: 6.9282\n",
      "Epoch 467/500\n",
      "12/12 [==============================] - 0s 3ms/step - loss: 7.4793 - mae: 1.9438 - mse: 7.4793 - val_loss: 6.8961 - val_mae: 2.0058 - val_mse: 6.8961\n",
      "Epoch 468/500\n",
      "12/12 [==============================] - 0s 3ms/step - loss: 7.4358 - mae: 1.9447 - mse: 7.4358 - val_loss: 6.6338 - val_mae: 1.9759 - val_mse: 6.6338\n",
      "Epoch 469/500\n",
      "12/12 [==============================] - 0s 3ms/step - loss: 7.4092 - mae: 1.9372 - mse: 7.4092 - val_loss: 7.0942 - val_mae: 2.0159 - val_mse: 7.0942\n",
      "Epoch 470/500\n",
      "12/12 [==============================] - 0s 3ms/step - loss: 7.5824 - mae: 1.9495 - mse: 7.5824 - val_loss: 6.7489 - val_mae: 1.9633 - val_mse: 6.7489\n",
      "Epoch 471/500\n",
      "12/12 [==============================] - 0s 4ms/step - loss: 7.4531 - mae: 1.9211 - mse: 7.4531 - val_loss: 6.6230 - val_mae: 1.9669 - val_mse: 6.6230\n",
      "Epoch 472/500\n",
      "12/12 [==============================] - 0s 3ms/step - loss: 7.5712 - mae: 1.9568 - mse: 7.5712 - val_loss: 6.6836 - val_mae: 1.9681 - val_mse: 6.6836\n",
      "Epoch 473/500\n",
      "12/12 [==============================] - 0s 3ms/step - loss: 7.3919 - mae: 1.9385 - mse: 7.3919 - val_loss: 6.8054 - val_mae: 1.9730 - val_mse: 6.8054\n",
      "Epoch 474/500\n",
      "12/12 [==============================] - 0s 3ms/step - loss: 7.5148 - mae: 1.9377 - mse: 7.5148 - val_loss: 7.2043 - val_mae: 2.0470 - val_mse: 7.2043\n",
      "Epoch 475/500\n",
      "12/12 [==============================] - 0s 3ms/step - loss: 7.6155 - mae: 1.9949 - mse: 7.6155 - val_loss: 6.8431 - val_mae: 2.0163 - val_mse: 6.8431\n",
      "Epoch 476/500\n",
      "12/12 [==============================] - 0s 3ms/step - loss: 7.5458 - mae: 1.9585 - mse: 7.5458 - val_loss: 6.7440 - val_mae: 1.9800 - val_mse: 6.7440\n",
      "Epoch 477/500\n",
      "12/12 [==============================] - 0s 3ms/step - loss: 7.4863 - mae: 1.9300 - mse: 7.4863 - val_loss: 6.8260 - val_mae: 2.0053 - val_mse: 6.8260\n",
      "Epoch 478/500\n",
      "12/12 [==============================] - 0s 3ms/step - loss: 7.4559 - mae: 1.9361 - mse: 7.4559 - val_loss: 6.6763 - val_mae: 1.9660 - val_mse: 6.6763\n",
      "Epoch 479/500\n",
      "12/12 [==============================] - 0s 3ms/step - loss: 7.5252 - mae: 1.9301 - mse: 7.5252 - val_loss: 6.6611 - val_mae: 1.9701 - val_mse: 6.6611\n",
      "Epoch 480/500\n",
      "12/12 [==============================] - 0s 3ms/step - loss: 7.4515 - mae: 1.9419 - mse: 7.4515 - val_loss: 6.8062 - val_mae: 1.9805 - val_mse: 6.8062\n",
      "Epoch 481/500\n",
      "12/12 [==============================] - 0s 3ms/step - loss: 7.3168 - mae: 1.9283 - mse: 7.3168 - val_loss: 6.6967 - val_mae: 1.9755 - val_mse: 6.6967\n",
      "Epoch 482/500\n",
      "12/12 [==============================] - 0s 3ms/step - loss: 7.3454 - mae: 1.9270 - mse: 7.3454 - val_loss: 6.6569 - val_mae: 1.9687 - val_mse: 6.6569\n",
      "Epoch 483/500\n",
      "12/12 [==============================] - 0s 3ms/step - loss: 7.3979 - mae: 1.9428 - mse: 7.3979 - val_loss: 7.0655 - val_mae: 2.0308 - val_mse: 7.0655\n",
      "Epoch 484/500\n",
      "12/12 [==============================] - 0s 3ms/step - loss: 7.4684 - mae: 1.9425 - mse: 7.4684 - val_loss: 6.8576 - val_mae: 2.0241 - val_mse: 6.8576\n",
      "Epoch 485/500\n",
      "12/12 [==============================] - 0s 3ms/step - loss: 7.4699 - mae: 1.9364 - mse: 7.4699 - val_loss: 6.8127 - val_mae: 1.9949 - val_mse: 6.8127\n",
      "Epoch 486/500\n",
      "12/12 [==============================] - 0s 3ms/step - loss: 7.3672 - mae: 1.9178 - mse: 7.3672 - val_loss: 6.8855 - val_mae: 1.9995 - val_mse: 6.8855\n",
      "Epoch 487/500\n",
      "12/12 [==============================] - 0s 3ms/step - loss: 7.2154 - mae: 1.9148 - mse: 7.2154 - val_loss: 6.7980 - val_mae: 1.9976 - val_mse: 6.7980\n",
      "Epoch 488/500\n",
      "12/12 [==============================] - 0s 3ms/step - loss: 7.4601 - mae: 1.9113 - mse: 7.4601 - val_loss: 6.7010 - val_mae: 1.9779 - val_mse: 6.7010\n",
      "Epoch 489/500\n",
      "12/12 [==============================] - 0s 3ms/step - loss: 7.3108 - mae: 1.9107 - mse: 7.3108 - val_loss: 6.6273 - val_mae: 1.9721 - val_mse: 6.6273\n",
      "Epoch 490/500\n",
      "12/12 [==============================] - 0s 3ms/step - loss: 7.3548 - mae: 1.9372 - mse: 7.3548 - val_loss: 6.8687 - val_mae: 2.0281 - val_mse: 6.8687\n",
      "Epoch 491/500\n",
      "12/12 [==============================] - 0s 3ms/step - loss: 7.5576 - mae: 1.9456 - mse: 7.5576 - val_loss: 6.6960 - val_mae: 1.9740 - val_mse: 6.6960\n",
      "Epoch 492/500\n",
      "12/12 [==============================] - 0s 3ms/step - loss: 7.2797 - mae: 1.9076 - mse: 7.2797 - val_loss: 6.8099 - val_mae: 1.9859 - val_mse: 6.8099\n"
     ]
    },
    {
     "name": "stdout",
     "output_type": "stream",
     "text": [
      "Epoch 493/500\n",
      "12/12 [==============================] - 0s 3ms/step - loss: 7.5245 - mae: 1.9255 - mse: 7.5245 - val_loss: 6.8951 - val_mae: 1.9991 - val_mse: 6.8951\n",
      "Epoch 494/500\n",
      "12/12 [==============================] - 0s 3ms/step - loss: 7.2417 - mae: 1.9077 - mse: 7.2417 - val_loss: 6.7078 - val_mae: 1.9738 - val_mse: 6.7078\n",
      "Epoch 495/500\n",
      "12/12 [==============================] - 0s 3ms/step - loss: 7.2584 - mae: 1.9055 - mse: 7.2584 - val_loss: 6.6898 - val_mae: 1.9862 - val_mse: 6.6898\n",
      "Epoch 496/500\n",
      "12/12 [==============================] - 0s 3ms/step - loss: 7.4160 - mae: 1.9370 - mse: 7.4160 - val_loss: 6.8809 - val_mae: 1.9962 - val_mse: 6.8809\n",
      "Epoch 497/500\n",
      "12/12 [==============================] - 0s 3ms/step - loss: 7.4104 - mae: 1.9568 - mse: 7.4104 - val_loss: 6.8982 - val_mae: 2.0354 - val_mse: 6.8982\n",
      "Epoch 498/500\n",
      "12/12 [==============================] - 0s 4ms/step - loss: 7.3336 - mae: 1.9265 - mse: 7.3336 - val_loss: 6.9257 - val_mae: 2.0102 - val_mse: 6.9257\n",
      "Epoch 499/500\n",
      "12/12 [==============================] - 0s 3ms/step - loss: 7.3926 - mae: 1.9388 - mse: 7.3926 - val_loss: 6.9560 - val_mae: 2.0240 - val_mse: 6.9560\n",
      "Epoch 500/500\n",
      "12/12 [==============================] - 0s 3ms/step - loss: 7.7531 - mae: 1.9798 - mse: 7.7531 - val_loss: 7.3778 - val_mae: 2.1334 - val_mse: 7.3778\n"
     ]
    }
   ],
   "source": [
    "history = model.fit(X_train, y_train, batch_size=32, \n",
    "                    epochs=500, validation_data=(X_test, y_test), verbose=1)"
   ]
  },
  {
   "cell_type": "code",
   "execution_count": 12,
   "metadata": {
    "colab": {
     "base_uri": "https://localhost:8080/",
     "height": 35
    },
    "colab_type": "code",
    "id": "1ZFSsBqVrTP1",
    "outputId": "d294314b-4808-4c0f-defc-ed8e4de416a9",
    "scrolled": true
   },
   "outputs": [
    {
     "data": {
      "text/plain": [
       "[7.377815246582031, 2.1334116458892822, 7.377815246582031]"
      ]
     },
     "execution_count": 12,
     "metadata": {},
     "output_type": "execute_result"
    }
   ],
   "source": [
    "model.evaluate(X_test, y_test, verbose=0)"
   ]
  },
  {
   "cell_type": "code",
   "execution_count": 13,
   "metadata": {
    "colab": {},
    "colab_type": "code",
    "id": "ToA2qijTrTP4"
   },
   "outputs": [
    {
     "name": "stdout",
     "output_type": "stream",
     "text": [
      "4/4 [==============================] - 0s 1ms/step\n"
     ]
    }
   ],
   "source": [
    "y_pred = model.predict(X_test)"
   ]
  },
  {
   "cell_type": "code",
   "execution_count": 14,
   "metadata": {
    "colab": {
     "base_uri": "https://localhost:8080/",
     "height": 53
    },
    "colab_type": "code",
    "id": "bNIig2qBrTP6",
    "outputId": "39e3a8b5-4772-47c7-a7cb-3d1406ef776a"
   },
   "outputs": [
    {
     "name": "stdout",
     "output_type": "stream",
     "text": [
      "Mean squared error: 7.38\n",
      "R2 score: 0.91\n"
     ]
    }
   ],
   "source": [
    "# MSE(mean squared error) 계산\n",
    "print(\"Mean squared error: {:.2f}\".format(mean_squared_error(y_test, y_pred)))\n",
    "\n",
    "# R2 계산 \n",
    "print(\"R2 score: {:.2f}\".format(r2_score(y_test, y_pred)))"
   ]
  },
  {
   "cell_type": "code",
   "execution_count": 15,
   "metadata": {
    "colab": {
     "base_uri": "https://localhost:8080/",
     "height": 314
    },
    "colab_type": "code",
    "id": "1BsUtTlErTP9",
    "outputId": "7ac930ee-d227-4aa5-9d08-ebc46bb8c237"
   },
   "outputs": [
    {
     "data": {
      "text/plain": [
       "Text(0.5, 1.0, 'Boston House Price Prediction ($1,000)')"
      ]
     },
     "execution_count": 15,
     "metadata": {},
     "output_type": "execute_result"
    },
    {
     "data": {
      "image/png": "[encoded data removed]",
      "text/plain": [
       "<Figure size 640x480 with 1 Axes>"
      ]
     },
     "metadata": {},
     "output_type": "display_data"
    }
   ],
   "source": [
    "plt.scatter(y_test, y_test, label='true')\n",
    "plt.scatter(y_test, y_pred, label='predict')\n",
    "plt.xlabel('y_test')\n",
    "plt.ylabel('y')\n",
    "plt.legend()\n",
    "plt.title('Boston House Price Prediction ($1,000)')"
   ]
  },
  {
   "cell_type": "code",
   "execution_count": 16,
   "metadata": {},
   "outputs": [
    {
     "data": {
      "text/plain": [
       "<matplotlib.legend.Legend at 0x24a55a899d0>"
      ]
     },
     "execution_count": 16,
     "metadata": {},
     "output_type": "execute_result"
    },
    {
     "data": {
      "image/png": "[encoded data removed]",
      "text/plain": [
       "<Figure size 640x480 with 1 Axes>"
      ]
     },
     "metadata": {},
     "output_type": "display_data"
    }
   ],
   "source": [
    "plt.plot(history.history['mse'], label='Train error')\n",
    "plt.plot(history.history['val_mse'], label='Test error')\n",
    "plt.ylim([0, 50])\n",
    "plt.legend()"
   ]
  },
  {
   "cell_type": "markdown",
   "metadata": {
    "colab_type": "text",
    "id": "HHSjTEgsrTQC"
   },
   "source": [
    "## sklearn LinearRegression 비교"
   ]
  },
  {
   "cell_type": "code",
   "execution_count": 17,
   "metadata": {
    "colab": {},
    "colab_type": "code",
    "id": "Ys50B2fQrTQD"
   },
   "outputs": [],
   "source": [
    "from sklearn.linear_model import LinearRegression\n",
    "regr = LinearRegression()\n",
    "\n",
    "X_train, X_test, y_train, y_test = train_test_split(X, y)\n",
    "\n",
    "sc = MinMaxScaler()\n",
    "X_train = sc.fit_transform(X_train)\n",
    "X_test  = sc.transform(X_test)"
   ]
  },
  {
   "cell_type": "code",
   "execution_count": 18,
   "metadata": {
    "colab": {
     "base_uri": "https://localhost:8080/",
     "height": 35
    },
    "colab_type": "code",
    "id": "w4jI7c37rTQF",
    "outputId": "f7686808-c371-4f24-fa07-7768b8424c9b"
   },
   "outputs": [
    {
     "data": {
      "text/plain": [
       "LinearRegression()"
      ]
     },
     "execution_count": 18,
     "metadata": {},
     "output_type": "execute_result"
    }
   ],
   "source": [
    "regr.fit(X_train, y_train)"
   ]
  },
  {
   "cell_type": "code",
   "execution_count": 19,
   "metadata": {
    "colab": {},
    "colab_type": "code",
    "id": "PovF4BEVrTQJ"
   },
   "outputs": [],
   "source": [
    "y_pred = regr.predict(X_test)"
   ]
  },
  {
   "cell_type": "code",
   "execution_count": 20,
   "metadata": {
    "colab": {
     "base_uri": "https://localhost:8080/",
     "height": 125
    },
    "colab_type": "code",
    "id": "2NPoXeQRrTQL",
    "outputId": "4429b9f7-7bef-4acf-edb3-b7f77d5ac319"
   },
   "outputs": [
    {
     "name": "stdout",
     "output_type": "stream",
     "text": [
      "Coefficients: \n",
      " [-10.10748546   5.61912277   0.14806672   3.26706543  -8.54796674\n",
      "  17.73631489   0.83944464 -15.93335818   7.56063753  -7.17136402\n",
      "  -8.67824074   3.70655562 -18.36698738]\n",
      "Intercept: \n",
      " 27.294579440178683\n"
     ]
    }
   ],
   "source": [
    "# The coefficients\n",
    "print('Coefficients: \\n', regr.coef_)\n",
    "print('Intercept: \\n', regr.intercept_)"
   ]
  },
  {
   "cell_type": "code",
   "execution_count": 21,
   "metadata": {
    "colab": {
     "base_uri": "https://localhost:8080/",
     "height": 53
    },
    "colab_type": "code",
    "id": "nmcGQEyXrTQP",
    "outputId": "1173b675-0c0a-4071-92ec-2135f0d1ba75"
   },
   "outputs": [
    {
     "name": "stdout",
     "output_type": "stream",
     "text": [
      "Mean squared error: 24.34\n",
      "R2 score: 0.71\n"
     ]
    }
   ],
   "source": [
    "# MSE(mean squared error) 계산\n",
    "print(\"Mean squared error: {:.2f}\".format(mean_squared_error(y_test, y_pred)))\n",
    "\n",
    "# R2 계산 \n",
    "print(\"R2 score: {:.2f}\".format(r2_score(y_test, y_pred)))"
   ]
  },
  {
   "cell_type": "code",
   "execution_count": 22,
   "metadata": {},
   "outputs": [
    {
     "data": {
      "text/plain": [
       "((127,), (127,))"
      ]
     },
     "execution_count": 22,
     "metadata": {},
     "output_type": "execute_result"
    }
   ],
   "source": [
    "y_test.shape, y_pred.shape"
   ]
  },
  {
   "cell_type": "code",
   "execution_count": 23,
   "metadata": {},
   "outputs": [
    {
     "data": {
      "text/plain": [
       "Text(0.5, 1.0, 'Boston House Price Prediction ($1,000)')"
      ]
     },
     "execution_count": 23,
     "metadata": {},
     "output_type": "execute_result"
    },
    {
     "data": {
      "image/png": "[encoded data removed]",
      "text/plain": [
       "<Figure size 640x480 with 1 Axes>"
      ]
     },
     "metadata": {},
     "output_type": "display_data"
    }
   ],
   "source": [
    "plt.scatter(y_test, y_pred)\n",
    "plt.plot([y_test.min(), y_test.max()], [y_test.min(), y_test.max()], '--', c='r')\n",
    "plt.xlabel('y_test')\n",
    "plt.ylabel('y_pred')\n",
    "plt.title('Boston House Price Prediction ($1,000)')"
   ]
  },
  {
   "cell_type": "markdown",
   "metadata": {
    "colab_type": "text",
    "id": "N1dR1BCOrTQV"
   },
   "source": [
    "## 실습\n",
    "\n",
    "### UCI Machine Learning Repository 의 Auto MPG dataset 을 사용하여 자동차 연비 예측 Regression model 작성\n",
    "\n",
    "- auto-mpg.data - data file  \n",
    "\n",
    "\n",
    "- auto-mpg.names - data 설명 file\n",
    "\n",
    "    1. mpg:           continuous  \n",
    "    2. cylinders:     multi-valued discrete  \n",
    "    3. displacement:  continuous (배기량)   \n",
    "    4. horsepower:    continuous  \n",
    "    5. weight:        continuous  \n",
    "    6. acceleration:  continuous  \n",
    "    7. model year:    multi-valued discrete  \n",
    "    8. origin:        multi-valued discrete, 1 - USA, 2 - Europe, 3 - Japan  \n",
    "    9. car name:      string (unique for each instance)  \n",
    "\n",
    "Missing Attribute Values:  horsepower has 6 missing values  ==> \"?\" 로 들어 있으므로 read_csv 시 nan 으로 변환"
   ]
  },
  {
   "cell_type": "code",
   "execution_count": 24,
   "metadata": {
    "colab": {},
    "colab_type": "code",
    "id": "tBbjUToQrTQV"
   },
   "outputs": [],
   "source": [
    "import pandas as pd\n",
    "import numpy as np\n",
    "import tensorflow as tf\n",
    "from tensorflow.keras import layers\n",
    "from sklearn.model_selection import train_test_split\n",
    "from sklearn.preprocessing import StandardScaler"
   ]
  },
  {
   "cell_type": "markdown",
   "metadata": {
    "colab_type": "text",
    "id": "OaJ3QC85rTQY"
   },
   "source": [
    "### Data load 및 Preprocessing"
   ]
  },
  {
   "cell_type": "code",
   "execution_count": 25,
   "metadata": {
    "colab": {
     "base_uri": "https://localhost:8080/",
     "height": 53
    },
    "colab_type": "code",
    "id": "zwc5ou1PrTQY",
    "outputId": "472698f8-440b-43fd-fc7d-4eac7e14ca27"
   },
   "outputs": [],
   "source": [
    "data_path = tf.keras.utils.get_file(\"auto-mpg.data\", \n",
    "        \"https://archive.ics.uci.edu/ml/machine-learning-databases/auto-mpg/auto-mpg.data\")\n",
    "\n",
    "column_names = ['mpg', 'cylinders', 'displacement', 'horsepower', 'weight', 'acceleration', 'model year', 'origin']\n",
    "\n",
    "rawdata = pd.read_csv(data_path, names=column_names, na_values=\"?\", comment=\"\\t\", sep=\" \", skipinitialspace=True)\n",
    "\n",
    "rawdata.dropna(inplace=True)\n",
    "\n",
    "data = rawdata.copy()\n",
    "\n",
    "data = pd.get_dummies(data, columns=['cylinders', 'origin'])\n",
    "\n",
    "label = data.pop('mpg')\n",
    "\n",
    "X_train, X_test, y_train, y_test = train_test_split(data.values, label.values)\n",
    "\n",
    "sc = StandardScaler()\n",
    "X_train = sc.fit_transform(X_train)\n",
    "X_test = sc.transform(X_test)"
   ]
  },
  {
   "cell_type": "markdown",
   "metadata": {
    "colab_type": "text",
    "id": "lSAJqN3DrTQa"
   },
   "source": [
    "### Regression Model Build\n",
    "\n",
    "### train\n",
    "\n",
    "### predict\n",
    "\n",
    "### $r^2$ 계산\n",
    "\n",
    "### 시각화"
   ]
  }
 ],
 "metadata": {
  "accelerator": "GPU",
  "colab": {
   "name": "100.Boston Regression.ipynb",
   "provenance": []
  },
  "kernelspec": {
   "display_name": "Python 3 (ipykernel)",
   "language": "python",
   "name": "python3"
  },
  "language_info": {
   "codemirror_mode": {
    "name": "ipython",
    "version": 3
   },
   "file_extension": ".py",
   "mimetype": "text/x-python",
   "name": "python",
   "nbconvert_exporter": "python",
   "pygments_lexer": "ipython3",
   "version": "3.9.16"
  }
 },
 "nbformat": 4,
 "nbformat_minor": 4
}
