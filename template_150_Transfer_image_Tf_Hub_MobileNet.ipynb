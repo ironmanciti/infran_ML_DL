{
 "cells": [
  {
   "cell_type": "markdown",
   "metadata": {
    "id": "JnKRe0p9h35K"
   },
   "source": [
    "# TensorFlow Hub 를 이용한 Transfer Learning\n",
    "\n",
    "- Pre-trained Moblenet 사용"
   ]
  },
  {
   "cell_type": "markdown",
   "metadata": {
    "id": "fr6pOOh0hHaj"
   },
   "source": [
    "## STEP #1: IMPORT LIBRARIES"
   ]
  },
  {
   "cell_type": "markdown",
   "metadata": {
    "id": "qqOSkGp9R55q"
   },
   "source": [
    "## STEP #2: Tensorflow Hub 에서 PRE-TRAINED MOBILENET 의 WEIGHT 를 가져옴  \n",
    "\n",
    "- Fine Tuning 없이 사용하기 위해 Full Model download"
   ]
  },
  {
   "cell_type": "markdown",
   "metadata": {
    "id": "jWb45OshSDsr"
   },
   "source": [
    "# STEP #3: PRE-TRAINED MOBILENET 평가"
   ]
  },
  {
   "cell_type": "markdown",
   "metadata": {
    "id": "0HIZbeIujJva"
   },
   "source": [
    "임의의 사진을 internet에서 가져온다"
   ]
  },
  {
   "cell_type": "markdown",
   "metadata": {
    "id": "Bh5YVgd3NJkz"
   },
   "source": [
    "## STEP #4: 특정 domain 의 Batch Image 에 대한 MobileNet 평가 - No Fine Tuning \n",
    "\n",
    "### MobileNet 은 Flower 에 특화된 model 이 아니므로 정확도 낮을 것 예상"
   ]
  },
  {
   "cell_type": "markdown",
   "metadata": {
    "id": "VfS1K4nopQGL"
   },
   "source": [
    "- flower data 는 5 개의 class 로 구성"
   ]
  },
  {
   "cell_type": "markdown",
   "metadata": {
    "id": "PGtPtiQLphXC"
   },
   "source": [
    "- 10 개 image 시각화"
   ]
  },
  {
   "cell_type": "markdown",
   "metadata": {
    "id": "VTQ63ZY7pnU9"
   },
   "source": [
    "- 임의의 꽃 image 1 개를 선택하여 prediction 비교"
   ]
  },
  {
   "cell_type": "markdown",
   "metadata": {
    "id": "H38yzWMAn7hu"
   },
   "source": [
    "# STEP #5: 전이학습 MODEL 을 Flower 분류에 적합한 model 로 Retrain \n",
    "\n",
    "### Fine Tuning 을 위해 head 가 제거된 model 을 download  \n",
    "\n",
    "- https://tfhub.dev/s?module-type=image-feature-vector&q=tf2"
   ]
  },
  {
   "cell_type": "markdown",
   "metadata": {
    "id": "SaoQU-KZ_S2X"
   },
   "source": [
    "- MobileNet 의 pre-trained weight 는 update 않음  \n",
    "\n",
    "- Top layer 에 Dense layer 추가"
   ]
  },
  {
   "cell_type": "markdown",
   "metadata": {
    "id": "MxI0-oqa_sEB"
   },
   "source": [
    "- output shape 이 정확한지 training 전에 사전 check"
   ]
  },
  {
   "cell_type": "markdown",
   "metadata": {
    "id": "0wR3uKW8g5po"
   },
   "source": [
    "# STEP #6: Flower 분류 전문으로 Fine Tuning 된 MODEL 평가"
   ]
  }
 ],
 "metadata": {
  "accelerator": "GPU",
  "colab": {
   "collapsed_sections": [],
   "machine_shape": "hm",
   "name": "150_Transfer_image_Tf_Hub_MobileNet.ipynb",
   "provenance": []
  },
  "kernelspec": {
   "display_name": "Python 3",
   "language": "python",
   "name": "python3"
  },
  "language_info": {
   "codemirror_mode": {
    "name": "ipython",
    "version": 3
   },
   "file_extension": ".py",
   "mimetype": "text/x-python",
   "name": "python",
   "nbconvert_exporter": "python",
   "pygments_lexer": "ipython3",
   "version": "3.9.7"
  }
 },
 "nbformat": 4,
 "nbformat_minor": 1
}
